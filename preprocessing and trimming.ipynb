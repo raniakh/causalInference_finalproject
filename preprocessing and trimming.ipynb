{
 "cells": [
  {
   "cell_type": "markdown",
   "metadata": {},
   "source": [
    "# Setup"
   ]
  },
  {
   "cell_type": "code",
   "execution_count": 33,
   "metadata": {},
   "outputs": [],
   "source": [
    "import pandas as pd\n",
    "import numpy as np\n",
    "from sklearn import preprocessing\n",
    "from sklearn.linear_model import LogisticRegression\n",
    "import matplotlib.pyplot as plt\n",
    "from sklearn import linear_model\n",
    "import xgboost as xgb\n",
    "\n",
    "\n",
    "def binary_treatment(treatment_code, treatment):    \n",
    "    \"\"\"\n",
    "    less than a year vs. more than a year\n",
    "    \"\"\"\n",
    "    if treatment_code==1:\n",
    "        return (treatment > 0).astype(\"int\")\n",
    "    \"\"\"\n",
    "    less than two yeas vs. more than two years\n",
    "    \"\"\"\n",
    "    if treatment_code==2:\n",
    "        return  (treatment > 1).astype('int')\n",
    "    \n",
    "    \"\"\"\n",
    "    less than a year vs. more than a year but less than two\n",
    "    \"\"\"\n",
    "    if treatment_code==3:\n",
    "        return treatment[(treatment==0) | (treatment==1)]\n",
    "    \n",
    "    \"\"\"\n",
    "    1years<=Duration<2years vs. 2years<=Duration\n",
    "    \"\"\"\n",
    "    if treatment_code==4:\n",
    "        relevant = treatment[(treatment > 0)]\n",
    "        return (relevant >=2).astype(\"int\")\n",
    "    \n",
    "    \"\"\"\n",
    "    2years<=Duration<3years vs. 3years<=Duration<4years \n",
    "    \"\"\"\n",
    "    if treatment_code==5:\n",
    "        relevant = treatment[(treatment==2) | (treatment==3)]\n",
    "        return (relevant == 3).astype(\"int\")\n",
    "    \n",
    "\n",
    "def data_preprocessing(country_data, treatment_code):\n",
    "    data = country_data.drop(columns=['CNTRYID', 'CNT', 'CNTSTUID', \n",
    "                                      'preprimary_start_theo', 'primary_start_theo']).copy()\n",
    "    treatment = binary_treatment(treatment_code, data['DURECEC'])\n",
    "    data = data.loc[treatment.index, :]\n",
    "    outcome = data['PV1READ']\n",
    "    categorial_properties = ['ST003D02T','ST003D03T', 'STRATUM','LANGTEST_QQQ', 'IMMIG', 'ST001D01T',\n",
    "                             'ST004D01T', 'ST013Q01TA', 'MISCED', 'FISCED',\n",
    "                             'ST126Q01TA','ST022Q01TA', 'ST023Q01TA', 'ST023Q02TA', \"OCOD1\", \"OCOD2\", \n",
    "                            ]\n",
    "    numerical_properties = [\"ST021Q01TA\", \"BMMJ1\", \"BFMJ2\", \"ESCS\", \"WEALTH\"]\n",
    "    \n",
    "    numerical_covariates = data[numerical_properties]\n",
    "    categorial_covariates = data[categorial_properties]\n",
    "    \n",
    "    # scaling numerical properties\n",
    "    scaler = preprocessing.StandardScaler()\n",
    "    scaler.fit(numerical_covariates)\n",
    "    x_scaled = scaler.transform(numerical_covariates)\n",
    "    \n",
    "    # encoding categorial covariates\n",
    "    ohe = preprocessing.OneHotEncoder()\n",
    "    ohe.fit(categorial_covariates)\n",
    "    categorial_encoding = ohe.transform(categorial_covariates).toarray()\n",
    "    \n",
    "    #remove dependent categorial columns\n",
    "    variables_in_category = [data[col].nunique() for col in categorial_properties]\n",
    "    columns_to_remove = [variables_in_category[0]-1]\n",
    "    for i in range(1, len(variables_in_category)):\n",
    "        columns_to_remove.append(variables_in_category[i] + columns_to_remove[i-1])\n",
    "    categorial_encoding = np.delete(categorial_encoding, columns_to_remove, 1)\n",
    "    \n",
    "    X = np.concatenate([x_scaled, categorial_encoding], axis=1)\n",
    "\n",
    "    return X, treatment, outcome\n",
    "\n",
    "\n",
    "def estimate_propensity(X, treatment):\n",
    "    # Learn propensity score\n",
    "    lr_learner = LogisticRegression(C=10, solver='lbfgs', max_iter=10000)\n",
    "    lr_learner.fit(X, treatment)\n",
    "    propensity_score = lr_learner.predict_proba(X)[:, 1]   \n",
    "    return propensity_score\n",
    "\n",
    "\n",
    "def trim_common_support(X, treated_propensity_score, control_propensity_score, propensity_scores, treatment, outcome):\n",
    "    \"\"\"\n",
    "    Trim data that does not appear to maintain common support, using min max approach on propensity core\n",
    "    \"\"\"\n",
    "    min_treated = np.min(treated_propensity_score)\n",
    "    max_treated = np.max(treated_propensity_score)\n",
    "    min_control = np.min(control_propensity_score)\n",
    "    max_control = np.max(control_propensity_score)\n",
    "    max_min = np.maximum(min_control, min_treated)\n",
    "    min_max = np.minimum(max_control, max_treated)\n",
    "\n",
    "    indices_smaller_than_max_min = np.argwhere(propensity_scores < max_min)\n",
    "    indices_greater_than_min_max = np.argwhere(propensity_scores > min_max)\n",
    "    rows_to_delete = np.concatenate([indices_greater_than_min_max, indices_smaller_than_max_min])\n",
    "    rows_to_delete = rows_to_delete.reshape((-1,))\n",
    "    exclude_idx = set(rows_to_delete)\n",
    "    mask = np.array([(i in exclude_idx) for i in range(len(X))])\n",
    "\n",
    "    return X[~mask], propensity_scores[~mask], treatment[~mask], outcome[~mask]"
   ]
  },
  {
   "cell_type": "code",
   "execution_count": 37,
   "metadata": {},
   "outputs": [],
   "source": [
    "data = pd.read_csv(\"PISA2018_data.csv\")\n",
    "data = data[data[\"DURECEC\"]<7].copy()"
   ]
  },
  {
   "cell_type": "code",
   "execution_count": 38,
   "metadata": {},
   "outputs": [],
   "source": [
    "# uncommend the desired country\n",
    "country = data[(data[\"CNT\"] == \"CAN\") & (data[\"LANGTEST_QQQ\"]==313)].copy()\n",
    "# country = data[(data[\"CNT\"] == \"AUS\")].copy()\n",
    "# country = data[(data[\"CNT\"] == \"IRL\") & (data[\"LANGTEST_QQQ\"]==313)].copy()"
   ]
  },
  {
   "cell_type": "code",
   "execution_count": 39,
   "metadata": {
    "scrolled": true
   },
   "outputs": [],
   "source": [
    "# preprocess and trim the data according to the desired treatment\n",
    "X, treatment, outcome = data_preprocessing(country, treatment_code=1)\n",
    "propensity = estimate_propensity(X, treatment)\n",
    "treated_propensity_score = propensity[treatment == 1]\n",
    "control_propensity_score = propensity[treatment == 0]\n",
    "X, propensity, treatment, outcome = trim_common_support(X, treated_propensity_score, control_propensity_score, propensity, treatment, outcome)"
   ]
  },
  {
   "cell_type": "code",
   "execution_count": 36,
   "metadata": {},
   "outputs": [],
   "source": [
    "# generating samples as csv file for further analysis\n",
    "covariates = pd.DataFrame(X)\n",
    "treatment_outcome = pd.DataFrame({\"T\":treatment, \"outcome\":outcome})\n",
    "pd.concat([covariates, treatment_outcome.reset_index(drop=True)], \n",
    "          axis=1).to_csv(\"data_by_country/canada_treatment_4.csv\", index=False)"
   ]
  }
 ],
 "metadata": {
  "kernelspec": {
   "display_name": "Python 3",
   "language": "python",
   "name": "python3"
  },
  "language_info": {
   "codemirror_mode": {
    "name": "ipython",
    "version": 3
   },
   "file_extension": ".py",
   "mimetype": "text/x-python",
   "name": "python",
   "nbconvert_exporter": "python",
   "pygments_lexer": "ipython3",
   "version": "3.8.5"
  }
 },
 "nbformat": 4,
 "nbformat_minor": 4
}
