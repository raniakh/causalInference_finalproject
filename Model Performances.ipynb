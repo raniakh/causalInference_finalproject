{
 "cells": [
  {
   "cell_type": "markdown",
   "metadata": {},
   "source": [
    "# Setup"
   ]
  },
  {
   "cell_type": "code",
   "execution_count": 57,
   "metadata": {},
   "outputs": [],
   "source": [
    "import pandas as pd\n",
    "import numpy as np\n",
    "import xgboost as xgb\n",
    "from sklearn.model_selection import train_test_split\n",
    "from sklearn.metrics import r2_score\n",
    "from sklearn import linear_model\n",
    "from sklearn.model_selection import cross_val_score\n",
    "from sklearn import preprocessing\n",
    "\n",
    "# uncomment the wanted dataset \n",
    "# data = pd.read_csv(\"data_by_country/ireland_treatment_2.csv\")\n",
    "# data = pd.read_csv(\"data_by_country/canada_treatment_2.csv\")\n",
    "data = pd.read_csv(\"data_by_country/australia_treatment_2.csv\")\n",
    "# data = pd.read_csv(\"data_by_country/canada_treatment_1.csv\")\n",
    "\n",
    "treatment = data[\"T\"]\n",
    "outcome = data[\"outcome\"]\n",
    "covariates = data.loc[:, ~data.columns.isin(['T', 'outcome'])]\n",
    "\n",
    "scaler = preprocessing.StandardScaler()\n",
    "scaler.fit(outcome.to_numpy().reshape(-1, 1))\n",
    "y_scaled = scaler.transform(outcome.to_numpy().reshape(-1, 1))\n",
    "\n",
    "x_t = np.column_stack([covariates, treatment])\n",
    "X_train, X_test, y_train, y_test = train_test_split(x_t, outcome, test_size=0.2)"
   ]
  },
  {
   "cell_type": "markdown",
   "metadata": {},
   "source": [
    "# Demonstrating performance for xgboost"
   ]
  },
  {
   "cell_type": "code",
   "execution_count": 61,
   "metadata": {},
   "outputs": [],
   "source": [
    "def xgboost_learning_rate_tuning(X_train, X_test, y_train, y_test):\n",
    "    learning_rates = [0.001, 0.1, 1, 10]\n",
    "    test_score = []\n",
    "    train_score = []\n",
    "    for rate in learning_rates:\n",
    "        xg_reg = xgb.XGBRegressor(objective ='reg:squarederror', colsample_bytree = 0.3, learning_rate = rate,\n",
    "                    max_depth = 5, alpha = 10, n_estimators = 10)\n",
    "        xg_reg.fit(X_train, y_train)\n",
    "        test_score.append(r2_score(y_test, xg_reg.predict(X_test)))\n",
    "        train_score.append(r2_score(y_train, xg_reg.predict(X_train)))\n",
    "    return train_score, test_score\n",
    "\n",
    "train, test = xgboost_learning_rate_tuning(X_train, X_test, y_train, y_test)\n",
    "print(train)\n",
    "print(test)"
   ]
  },
  {
   "cell_type": "code",
   "execution_count": 60,
   "metadata": {},
   "outputs": [],
   "source": [
    "def xgboost_n_estimators_tuning(X_train, X_test, y_train, y_test):\n",
    "    estimators = [6, 8,10,20]\n",
    "    test_score = []\n",
    "    train_score = []\n",
    "    for val in estimators:\n",
    "        xg_reg = xgb.XGBRegressor(objective ='reg:squarederror', colsample_bytree = 0.3, learning_rate = 1,\n",
    "                    max_depth = 5, alpha = 10, n_estimators = val)\n",
    "        xg_reg.fit(X_train, y_train)\n",
    "        test_score.append(r2_score(y_test, xg_reg.predict(X_test)))\n",
    "        train_score.append(r2_score(y_train, xg_reg.predict(X_train)))\n",
    "    return test_score, train_score\n",
    "\n",
    "train, test = xgboost_n_estimators_tuning(X_train, X_test, y_train, y_test)\n",
    "print(train)\n",
    "print(test)"
   ]
  },
  {
   "cell_type": "markdown",
   "metadata": {},
   "source": [
    "# Demonstrating performance for Lasso"
   ]
  },
  {
   "cell_type": "code",
   "execution_count": null,
   "metadata": {},
   "outputs": [],
   "source": [
    "def lasso_model(x_train, y_train, x_test, y_test, score='r2', folds=5):\n",
    "    cv_scores = []\n",
    "    test_scores = []\n",
    "    alphas=np.logspace(-3, 0, 4)\n",
    "    for param in alphas:    \n",
    "        crossval_scores = cross_val_score(linear_model.Lasso(alpha= param, max_iter=10000), \n",
    "                                          x_train, y_train, scoring = score, cv = folds)\n",
    "        cv_scores.append(crossval_scores.mean())\n",
    "        lasso = linear_model.Lasso(alpha = param, max_iter=10000)\n",
    "        lasso.fit(x_train, y_train)\n",
    "        pred = lasso.predict(x_test)\n",
    "        test_scores.append(r2_score(pred, y_test))\n",
    "    print(cv_scores)\n",
    "    print(test_scores)\n",
    "\n",
    "lasso_model(X_train, y_train, X_test, y_test)"
   ]
  },
  {
   "cell_type": "markdown",
   "metadata": {},
   "source": [
    "# Performance on the treated and the control groups"
   ]
  },
  {
   "cell_type": "code",
   "execution_count": 42,
   "metadata": {},
   "outputs": [],
   "source": [
    "treated = covariates[treatment==1]\n",
    "treated_outcome = outcome[treatment==1]\n",
    "\n",
    "control = covariates[treatment==0]\n",
    "control_outcome = outcome[treatment==0]"
   ]
  },
  {
   "cell_type": "code",
   "execution_count": 43,
   "metadata": {},
   "outputs": [
    {
     "name": "stdout",
     "output_type": "stream",
     "text": [
      "[-31.87309997044204, -3.840533795311935, 0.40076336409748736, -3.9120797134461003e+20]\n",
      "[-31.661107383334695, -3.7713236124752063, 0.05535531660080373, -3.9183531607277076e+20]\n"
     ]
    }
   ],
   "source": [
    "# check model performance on treated\n",
    "X_train, X_test, y_train, y_test = train_test_split(treated, treated_outcome, test_size=0.2)\n",
    "train, test = xgboost_learning_rate_tuning(X_train, X_test, y_train, y_test)\n",
    "print(train)\n",
    "print(test)"
   ]
  },
  {
   "cell_type": "code",
   "execution_count": 44,
   "metadata": {},
   "outputs": [
    {
     "name": "stdout",
     "output_type": "stream",
     "text": [
      "[-32.41995071033531, -3.9295724598916006, 0.3573944496696332, -3.988108848630128e+20]\n",
      "[-31.33074665769398, -3.7050736864274727, 0.0778178967974037, -3.9172927566738915e+20]\n"
     ]
    }
   ],
   "source": [
    "# check model performance on control\n",
    "X_train, X_test, y_train, y_test = train_test_split(control, control_outcome, test_size=0.2)\n",
    "train, test = xgboost_learning_rate_tuning(X_train, X_test, y_train, y_test)\n",
    "print(train)\n",
    "print(test)"
   ]
  }
 ],
 "metadata": {
  "kernelspec": {
   "display_name": "Python 3",
   "language": "python",
   "name": "python3"
  },
  "language_info": {
   "codemirror_mode": {
    "name": "ipython",
    "version": 3
   },
   "file_extension": ".py",
   "mimetype": "text/x-python",
   "name": "python",
   "nbconvert_exporter": "python",
   "pygments_lexer": "ipython3",
   "version": "3.8.5"
  }
 },
 "nbformat": 4,
 "nbformat_minor": 4
}
