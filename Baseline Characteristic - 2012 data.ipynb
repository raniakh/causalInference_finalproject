{
 "cells": [
  {
   "cell_type": "markdown",
   "metadata": {},
   "source": [
    "# Setup "
   ]
  },
  {
   "cell_type": "code",
   "execution_count": 1,
   "metadata": {},
   "outputs": [],
   "source": [
    "import pandas as pd\n",
    "import numpy as np\n",
    "from scipy.stats import chi2_contingency\n",
    "\n",
    "# independence test implementation \n",
    "def find_value_smaller_than_5(table):\n",
    "    for i in range(len(table)):\n",
    "        for j in range(len(table[0])):\n",
    "            if table[i][j]<=5:\n",
    "                return True, j\n",
    "    return False, 0\n",
    "\n",
    "def collapse_index(table):\n",
    "    exist, collapse_ind = find_value_smaller_than_5(table)\n",
    "    print_once = True\n",
    "    while exist: \n",
    "#         if print_once:\n",
    "#             print(\"table has value smaller than 5\")\n",
    "#             print_once = False\n",
    "        new_table = []\n",
    "        if collapse_ind<len(table[0])-1:\n",
    "            move_to = collapse_ind\n",
    "        else:\n",
    "            move_to = collapse_ind - 1\n",
    "                \n",
    "        for row in table: \n",
    "            new_row = row[:]\n",
    "            val = new_row.pop(collapse_ind)\n",
    "            new_row[move_to] += val\n",
    "            new_table.append(new_row)\n",
    "        table = new_table[:]\n",
    "        exist, collapse_ind = find_value_smaller_than_5(table)\n",
    "    \n",
    "    return table\n",
    "\n",
    "def chi_square_analysis(param, treatment):\n",
    "    \"\"\"\n",
    "    for descrete property and binary treatment \n",
    "    \"\"\"\n",
    "    treatment_options = [[] for k in treatment.dropna().unique()]\n",
    "    frame = pd.DataFrame({'treatment': treatment, 'property':param})\n",
    "    frame = frame.dropna().copy()\n",
    "    \n",
    "\n",
    "    for val in frame[\"property\"].unique(): \n",
    "        for i in range(len(treatment_options)):\n",
    "            treatment_options[i].append(((frame[\"property\"]==val) & (frame[\"treatment\"]==i)).sum())\n",
    "    \n",
    "    # print(treatment_options)\n",
    "    treatment_options = collapse_index(treatment_options)\n",
    "    # print(treatment_options)\n",
    "    \n",
    "    obs = np.array(treatment_options)\n",
    "    return chi2_contingency(obs)[:2]"
   ]
  },
  {
   "cell_type": "markdown",
   "metadata": {},
   "source": [
    "## Load Country Data\n",
    "To see results for specific country, uncomment the desired country and go to Kernel--> Restart and run all. "
   ]
  },
  {
   "cell_type": "code",
   "execution_count": 2,
   "metadata": {},
   "outputs": [],
   "source": [
    "df = pd.read_csv(\"PISA2012_data.csv\")\n",
    "\n",
    "\n",
    "# Case 1: Canada's student population, treatment is defined as having any pre-primary education\n",
    "\n",
    "# country = df[(df[\"CNT\"]==\"CAN\")].copy()\n",
    "# country[\"Treated\"] = country[\"ST05Q01\"] >1\n",
    "\n",
    "# Case 2: Canada's students who attained pre-primary education to some degree, \n",
    "# treatment is defined as attaining pre-primary education for more than a year\n",
    "\n",
    "country = df[(df[\"CNT\"]==\"CAN\") & (df[\"ST05Q01\"]>1)].copy()\n",
    "country[\"Treated\"] = country[\"ST05Q01\"] == 3"
   ]
  },
  {
   "cell_type": "markdown",
   "metadata": {},
   "source": [
    "# Gender \n",
    "The variable ST004D01T represens student gender. The value 1 represents a female while 2 represents a male. "
   ]
  },
  {
   "cell_type": "code",
   "execution_count": 3,
   "metadata": {},
   "outputs": [],
   "source": [
    "def gender_dependency_test(country, treatment):\n",
    "    chi_square, pi_val = chi_square_analysis(country[\"ST04Q01\"], country[treatment])\n",
    "    print(\"Chi square: {}, p-value:{}\".format(chi_square, pi_val))\n",
    "    gender = country.groupby([\"ST04Q01\"])[treatment].agg(['sum', 'mean']).rename(index={1:\"Female\", 2: \"Male\"})\n",
    "    return gender.reset_index().rename(columns={'sum':'{} No.'.format(treatment), \n",
    "                                                'mean': '{} share'.format(treatment),\n",
    "                                                'ST04Q01':'gender'})"
   ]
  },
  {
   "cell_type": "code",
   "execution_count": 4,
   "metadata": {},
   "outputs": [
    {
     "name": "stdout",
     "output_type": "stream",
     "text": [
      "Chi square: 9.50073810133194, p-value:0.002053892601660252\n"
     ]
    },
    {
     "data": {
      "text/html": [
       "<div>\n",
       "<style scoped>\n",
       "    .dataframe tbody tr th:only-of-type {\n",
       "        vertical-align: middle;\n",
       "    }\n",
       "\n",
       "    .dataframe tbody tr th {\n",
       "        vertical-align: top;\n",
       "    }\n",
       "\n",
       "    .dataframe thead th {\n",
       "        text-align: right;\n",
       "    }\n",
       "</style>\n",
       "<table border=\"1\" class=\"dataframe\">\n",
       "  <thead>\n",
       "    <tr style=\"text-align: right;\">\n",
       "      <th></th>\n",
       "      <th>gender</th>\n",
       "      <th>Treated No.</th>\n",
       "      <th>Treated share</th>\n",
       "    </tr>\n",
       "  </thead>\n",
       "  <tbody>\n",
       "    <tr>\n",
       "      <th>0</th>\n",
       "      <td>Female</td>\n",
       "      <td>2113</td>\n",
       "      <td>0.491967</td>\n",
       "    </tr>\n",
       "    <tr>\n",
       "      <th>1</th>\n",
       "      <td>Male</td>\n",
       "      <td>1798</td>\n",
       "      <td>0.457739</td>\n",
       "    </tr>\n",
       "  </tbody>\n",
       "</table>\n",
       "</div>"
      ],
      "text/plain": [
       "   gender  Treated No.  Treated share\n",
       "0  Female         2113       0.491967\n",
       "1    Male         1798       0.457739"
      ]
     },
     "execution_count": 4,
     "metadata": {},
     "output_type": "execute_result"
    }
   ],
   "source": [
    "gender_dependency_test(country, \"Treated\")"
   ]
  },
  {
   "cell_type": "markdown",
   "metadata": {},
   "source": [
    "# Year of birth \n",
    "This covariant is irrelevant for the Canada sample, as all students in this sample were born in 1996."
   ]
  },
  {
   "cell_type": "code",
   "execution_count": 5,
   "metadata": {},
   "outputs": [],
   "source": [
    "def birth_year_dependency_test(country, treatment):\n",
    "    chi_square, pi_val = chi_square_analysis(country[\"ST03Q02\"], country[treatment])\n",
    "    print(\"Chi square: {}, p-value:{}\".format(chi_square, pi_val))\n",
    "    year = country.groupby([\"ST03Q02\"])[treatment].agg(['sum', 'mean'])\n",
    "    return year.reset_index().rename(columns={'sum':'{} No.'.format(treatment), \n",
    "                                                'mean': '{} share'.format(treatment),\n",
    "                                                'ST03Q02':'Year of birth'})"
   ]
  },
  {
   "cell_type": "code",
   "execution_count": 6,
   "metadata": {},
   "outputs": [
    {
     "name": "stdout",
     "output_type": "stream",
     "text": [
      "Chi square: 0.0, p-value:1.0\n"
     ]
    },
    {
     "data": {
      "text/html": [
       "<div>\n",
       "<style scoped>\n",
       "    .dataframe tbody tr th:only-of-type {\n",
       "        vertical-align: middle;\n",
       "    }\n",
       "\n",
       "    .dataframe tbody tr th {\n",
       "        vertical-align: top;\n",
       "    }\n",
       "\n",
       "    .dataframe thead th {\n",
       "        text-align: right;\n",
       "    }\n",
       "</style>\n",
       "<table border=\"1\" class=\"dataframe\">\n",
       "  <thead>\n",
       "    <tr style=\"text-align: right;\">\n",
       "      <th></th>\n",
       "      <th>Year of birth</th>\n",
       "      <th>Treated No.</th>\n",
       "      <th>Treated share</th>\n",
       "    </tr>\n",
       "  </thead>\n",
       "  <tbody>\n",
       "    <tr>\n",
       "      <th>0</th>\n",
       "      <td>1996</td>\n",
       "      <td>3911</td>\n",
       "      <td>0.475617</td>\n",
       "    </tr>\n",
       "  </tbody>\n",
       "</table>\n",
       "</div>"
      ],
      "text/plain": [
       "   Year of birth  Treated No.  Treated share\n",
       "0           1996         3911       0.475617"
      ]
     },
     "execution_count": 6,
     "metadata": {},
     "output_type": "execute_result"
    }
   ],
   "source": [
    "birth_year_dependency_test(country, \"Treated\")"
   ]
  },
  {
   "cell_type": "markdown",
   "metadata": {},
   "source": [
    "# Month of birth"
   ]
  },
  {
   "cell_type": "code",
   "execution_count": 7,
   "metadata": {},
   "outputs": [],
   "source": [
    "def birth_month_dependency_test(country, treatment):\n",
    "    chi_square, pi_val = chi_square_analysis(country[\"ST03Q01\"], country[treatment])\n",
    "    print(\"Chi square: {}, p-value:{}\".format(chi_square, pi_val))\n",
    "    month = country.groupby([\"ST03Q01\"])[treatment].agg(['sum', 'mean'])\n",
    "    return month.reset_index().rename(columns={'sum':'{} No.'.format(treatment), \n",
    "                                                'mean': '{} share'.format(treatment),\n",
    "                                                'ST03Q01':'Month of birth'})"
   ]
  },
  {
   "cell_type": "code",
   "execution_count": 8,
   "metadata": {
    "scrolled": true
   },
   "outputs": [
    {
     "name": "stdout",
     "output_type": "stream",
     "text": [
      "Chi square: 17.380716301973308, p-value:0.09710766349930443\n"
     ]
    },
    {
     "data": {
      "text/html": [
       "<div>\n",
       "<style scoped>\n",
       "    .dataframe tbody tr th:only-of-type {\n",
       "        vertical-align: middle;\n",
       "    }\n",
       "\n",
       "    .dataframe tbody tr th {\n",
       "        vertical-align: top;\n",
       "    }\n",
       "\n",
       "    .dataframe thead th {\n",
       "        text-align: right;\n",
       "    }\n",
       "</style>\n",
       "<table border=\"1\" class=\"dataframe\">\n",
       "  <thead>\n",
       "    <tr style=\"text-align: right;\">\n",
       "      <th></th>\n",
       "      <th>Month of birth</th>\n",
       "      <th>Treated No.</th>\n",
       "      <th>Treated share</th>\n",
       "    </tr>\n",
       "  </thead>\n",
       "  <tbody>\n",
       "    <tr>\n",
       "      <th>0</th>\n",
       "      <td>1</td>\n",
       "      <td>317</td>\n",
       "      <td>0.454155</td>\n",
       "    </tr>\n",
       "    <tr>\n",
       "      <th>1</th>\n",
       "      <td>2</td>\n",
       "      <td>327</td>\n",
       "      <td>0.496206</td>\n",
       "    </tr>\n",
       "    <tr>\n",
       "      <th>2</th>\n",
       "      <td>3</td>\n",
       "      <td>328</td>\n",
       "      <td>0.453665</td>\n",
       "    </tr>\n",
       "    <tr>\n",
       "      <th>3</th>\n",
       "      <td>4</td>\n",
       "      <td>378</td>\n",
       "      <td>0.514986</td>\n",
       "    </tr>\n",
       "    <tr>\n",
       "      <th>4</th>\n",
       "      <td>5</td>\n",
       "      <td>402</td>\n",
       "      <td>0.501873</td>\n",
       "    </tr>\n",
       "    <tr>\n",
       "      <th>5</th>\n",
       "      <td>6</td>\n",
       "      <td>332</td>\n",
       "      <td>0.456671</td>\n",
       "    </tr>\n",
       "    <tr>\n",
       "      <th>6</th>\n",
       "      <td>7</td>\n",
       "      <td>328</td>\n",
       "      <td>0.445652</td>\n",
       "    </tr>\n",
       "    <tr>\n",
       "      <th>7</th>\n",
       "      <td>8</td>\n",
       "      <td>372</td>\n",
       "      <td>0.497992</td>\n",
       "    </tr>\n",
       "    <tr>\n",
       "      <th>8</th>\n",
       "      <td>9</td>\n",
       "      <td>291</td>\n",
       "      <td>0.454688</td>\n",
       "    </tr>\n",
       "    <tr>\n",
       "      <th>9</th>\n",
       "      <td>10</td>\n",
       "      <td>293</td>\n",
       "      <td>0.479542</td>\n",
       "    </tr>\n",
       "    <tr>\n",
       "      <th>10</th>\n",
       "      <td>11</td>\n",
       "      <td>262</td>\n",
       "      <td>0.463717</td>\n",
       "    </tr>\n",
       "    <tr>\n",
       "      <th>11</th>\n",
       "      <td>12</td>\n",
       "      <td>281</td>\n",
       "      <td>0.482818</td>\n",
       "    </tr>\n",
       "  </tbody>\n",
       "</table>\n",
       "</div>"
      ],
      "text/plain": [
       "    Month of birth  Treated No.  Treated share\n",
       "0                1          317       0.454155\n",
       "1                2          327       0.496206\n",
       "2                3          328       0.453665\n",
       "3                4          378       0.514986\n",
       "4                5          402       0.501873\n",
       "5                6          332       0.456671\n",
       "6                7          328       0.445652\n",
       "7                8          372       0.497992\n",
       "8                9          291       0.454688\n",
       "9               10          293       0.479542\n",
       "10              11          262       0.463717\n",
       "11              12          281       0.482818"
      ]
     },
     "execution_count": 8,
     "metadata": {},
     "output_type": "execute_result"
    }
   ],
   "source": [
    "birth_month_dependency_test(country, 'Treated')"
   ]
  },
  {
   "cell_type": "markdown",
   "metadata": {},
   "source": [
    "# Immigration Status"
   ]
  },
  {
   "cell_type": "code",
   "execution_count": 9,
   "metadata": {},
   "outputs": [],
   "source": [
    "def immigration_dependency_test(country, treatment):\n",
    "    chi_square, pi_val = chi_square_analysis(country['IMMIG'], country[treatment])\n",
    "    print(\"Chi square: {}, p-value:{}\".format(chi_square, pi_val))\n",
    "    immig = country.groupby([\"IMMIG\"])[treatment].agg(['sum', 'mean']).rename(index={1:\"Native\", \n",
    "                                                                                  2:\"Second Generation\",\n",
    "                                                                                  3: \"First Generation\"})\n",
    "    return immig.reset_index().rename(columns={'sum':'{} No.'.format(treatment), \n",
    "                                                'mean': '{} share'.format(treatment)})"
   ]
  },
  {
   "cell_type": "code",
   "execution_count": 10,
   "metadata": {
    "scrolled": false
   },
   "outputs": [
    {
     "name": "stdout",
     "output_type": "stream",
     "text": [
      "Chi square: 45.94446856296111, p-value:1.0550800580535493e-10\n"
     ]
    },
    {
     "data": {
      "text/html": [
       "<div>\n",
       "<style scoped>\n",
       "    .dataframe tbody tr th:only-of-type {\n",
       "        vertical-align: middle;\n",
       "    }\n",
       "\n",
       "    .dataframe tbody tr th {\n",
       "        vertical-align: top;\n",
       "    }\n",
       "\n",
       "    .dataframe thead th {\n",
       "        text-align: right;\n",
       "    }\n",
       "</style>\n",
       "<table border=\"1\" class=\"dataframe\">\n",
       "  <thead>\n",
       "    <tr style=\"text-align: right;\">\n",
       "      <th></th>\n",
       "      <th>IMMIG</th>\n",
       "      <th>Treated No.</th>\n",
       "      <th>Treated share</th>\n",
       "    </tr>\n",
       "  </thead>\n",
       "  <tbody>\n",
       "    <tr>\n",
       "      <th>0</th>\n",
       "      <td>Native</td>\n",
       "      <td>3150</td>\n",
       "      <td>0.461674</td>\n",
       "    </tr>\n",
       "    <tr>\n",
       "      <th>1</th>\n",
       "      <td>Second Generation</td>\n",
       "      <td>384</td>\n",
       "      <td>0.497409</td>\n",
       "    </tr>\n",
       "    <tr>\n",
       "      <th>2</th>\n",
       "      <td>First Generation</td>\n",
       "      <td>377</td>\n",
       "      <td>0.600318</td>\n",
       "    </tr>\n",
       "  </tbody>\n",
       "</table>\n",
       "</div>"
      ],
      "text/plain": [
       "               IMMIG  Treated No.  Treated share\n",
       "0             Native         3150       0.461674\n",
       "1  Second Generation          384       0.497409\n",
       "2   First Generation          377       0.600318"
      ]
     },
     "execution_count": 10,
     "metadata": {},
     "output_type": "execute_result"
    }
   ],
   "source": [
    "immigration_dependency_test(country, \"Treated\")"
   ]
  },
  {
   "cell_type": "markdown",
   "metadata": {},
   "source": [
    "# Students International Grade"
   ]
  },
  {
   "cell_type": "code",
   "execution_count": 11,
   "metadata": {},
   "outputs": [],
   "source": [
    "def grade_dependency_test(country, treatment):\n",
    "    chi_square, pi_val = chi_square_analysis(country['ST01Q01'], country[treatment])\n",
    "    print(\"Chi square: {}, p-value:{}\".format(chi_square, pi_val))\n",
    "    grade = country.groupby(['ST01Q01'])[treatment].agg(['sum', 'mean'])\n",
    "    return grade.reset_index().rename(columns={'sum':'{} No.'.format(treatment), \n",
    "                                                'mean': '{} share'.format(treatment),\n",
    "                                                'ST01Q01':\"Grade\"})"
   ]
  },
  {
   "cell_type": "code",
   "execution_count": 12,
   "metadata": {
    "scrolled": true
   },
   "outputs": [
    {
     "name": "stdout",
     "output_type": "stream",
     "text": [
      "Chi square: 10.019270634523057, p-value:0.018403036258215953\n"
     ]
    },
    {
     "data": {
      "text/html": [
       "<div>\n",
       "<style scoped>\n",
       "    .dataframe tbody tr th:only-of-type {\n",
       "        vertical-align: middle;\n",
       "    }\n",
       "\n",
       "    .dataframe tbody tr th {\n",
       "        vertical-align: top;\n",
       "    }\n",
       "\n",
       "    .dataframe thead th {\n",
       "        text-align: right;\n",
       "    }\n",
       "</style>\n",
       "<table border=\"1\" class=\"dataframe\">\n",
       "  <thead>\n",
       "    <tr style=\"text-align: right;\">\n",
       "      <th></th>\n",
       "      <th>Grade</th>\n",
       "      <th>Treated No.</th>\n",
       "      <th>Treated share</th>\n",
       "    </tr>\n",
       "  </thead>\n",
       "  <tbody>\n",
       "    <tr>\n",
       "      <th>0</th>\n",
       "      <td>7.0</td>\n",
       "      <td>1</td>\n",
       "      <td>0.500000</td>\n",
       "    </tr>\n",
       "    <tr>\n",
       "      <th>1</th>\n",
       "      <td>8.0</td>\n",
       "      <td>9</td>\n",
       "      <td>0.333333</td>\n",
       "    </tr>\n",
       "    <tr>\n",
       "      <th>2</th>\n",
       "      <td>9.0</td>\n",
       "      <td>417</td>\n",
       "      <td>0.465402</td>\n",
       "    </tr>\n",
       "    <tr>\n",
       "      <th>3</th>\n",
       "      <td>10.0</td>\n",
       "      <td>3447</td>\n",
       "      <td>0.479349</td>\n",
       "    </tr>\n",
       "    <tr>\n",
       "      <th>4</th>\n",
       "      <td>11.0</td>\n",
       "      <td>37</td>\n",
       "      <td>0.349057</td>\n",
       "    </tr>\n",
       "    <tr>\n",
       "      <th>5</th>\n",
       "      <td>12.0</td>\n",
       "      <td>0</td>\n",
       "      <td>0.000000</td>\n",
       "    </tr>\n",
       "  </tbody>\n",
       "</table>\n",
       "</div>"
      ],
      "text/plain": [
       "   Grade  Treated No.  Treated share\n",
       "0    7.0            1       0.500000\n",
       "1    8.0            9       0.333333\n",
       "2    9.0          417       0.465402\n",
       "3   10.0         3447       0.479349\n",
       "4   11.0           37       0.349057\n",
       "5   12.0            0       0.000000"
      ]
     },
     "execution_count": 12,
     "metadata": {},
     "output_type": "execute_result"
    }
   ],
   "source": [
    "grade_dependency_test(country, \"Treated\")"
   ]
  },
  {
   "cell_type": "markdown",
   "metadata": {},
   "source": [
    "# Mother Education (ISCED level)"
   ]
  },
  {
   "cell_type": "code",
   "execution_count": 13,
   "metadata": {},
   "outputs": [],
   "source": [
    "def education_independence_test(country, covariate, treatment):\n",
    "    chi_square, pi_val = chi_square_analysis(country[covariate], country[treatment])\n",
    "    print(\"Chi square: {}, p-value:{}\".format(chi_square, pi_val))\n",
    "    edu= country.groupby([covariate])[treatment].agg(['sum', 'mean']).rename(index={0:'None',1: 'ISCED 1',\n",
    "                                                                                   2: 'ISCED 2', 3: 'ISCED 3B,C',\n",
    "                                                                                   4: 'ISCED 3A, ISCED 4', \n",
    "                                                                                   5: 'ISCED 5B', \n",
    "                                                                                   6: 'ISCED 5A, 6'})\n",
    "    return edu.reset_index().rename(columns={'sum':'{} No.'.format(treatment), \n",
    "                                             'mean': '{} share'.format(treatment)})"
   ]
  },
  {
   "cell_type": "code",
   "execution_count": 14,
   "metadata": {
    "scrolled": true
   },
   "outputs": [
    {
     "name": "stdout",
     "output_type": "stream",
     "text": [
      "Chi square: 111.9859869903522, p-value:1.5584675127712518e-22\n"
     ]
    },
    {
     "data": {
      "text/html": [
       "<div>\n",
       "<style scoped>\n",
       "    .dataframe tbody tr th:only-of-type {\n",
       "        vertical-align: middle;\n",
       "    }\n",
       "\n",
       "    .dataframe tbody tr th {\n",
       "        vertical-align: top;\n",
       "    }\n",
       "\n",
       "    .dataframe thead th {\n",
       "        text-align: right;\n",
       "    }\n",
       "</style>\n",
       "<table border=\"1\" class=\"dataframe\">\n",
       "  <thead>\n",
       "    <tr style=\"text-align: right;\">\n",
       "      <th></th>\n",
       "      <th>misced</th>\n",
       "      <th>Treated No.</th>\n",
       "      <th>Treated share</th>\n",
       "    </tr>\n",
       "  </thead>\n",
       "  <tbody>\n",
       "    <tr>\n",
       "      <th>0</th>\n",
       "      <td>None</td>\n",
       "      <td>10</td>\n",
       "      <td>0.434783</td>\n",
       "    </tr>\n",
       "    <tr>\n",
       "      <th>1</th>\n",
       "      <td>ISCED 1</td>\n",
       "      <td>14</td>\n",
       "      <td>0.341463</td>\n",
       "    </tr>\n",
       "    <tr>\n",
       "      <th>2</th>\n",
       "      <td>ISCED 2</td>\n",
       "      <td>104</td>\n",
       "      <td>0.409449</td>\n",
       "    </tr>\n",
       "    <tr>\n",
       "      <th>3</th>\n",
       "      <td>ISCED 3A, ISCED 4</td>\n",
       "      <td>1015</td>\n",
       "      <td>0.415813</td>\n",
       "    </tr>\n",
       "    <tr>\n",
       "      <th>4</th>\n",
       "      <td>ISCED 5B</td>\n",
       "      <td>887</td>\n",
       "      <td>0.444612</td>\n",
       "    </tr>\n",
       "    <tr>\n",
       "      <th>5</th>\n",
       "      <td>ISCED 5A, 6</td>\n",
       "      <td>1881</td>\n",
       "      <td>0.542231</td>\n",
       "    </tr>\n",
       "  </tbody>\n",
       "</table>\n",
       "</div>"
      ],
      "text/plain": [
       "              misced  Treated No.  Treated share\n",
       "0               None           10       0.434783\n",
       "1            ISCED 1           14       0.341463\n",
       "2            ISCED 2          104       0.409449\n",
       "3  ISCED 3A, ISCED 4         1015       0.415813\n",
       "4           ISCED 5B          887       0.444612\n",
       "5        ISCED 5A, 6         1881       0.542231"
      ]
     },
     "execution_count": 14,
     "metadata": {},
     "output_type": "execute_result"
    }
   ],
   "source": [
    "education_independence_test(country, 'misced', \"Treated\")"
   ]
  },
  {
   "cell_type": "markdown",
   "metadata": {},
   "source": [
    "# Father Education (ISCED level)"
   ]
  },
  {
   "cell_type": "code",
   "execution_count": 15,
   "metadata": {
    "scrolled": false
   },
   "outputs": [
    {
     "name": "stdout",
     "output_type": "stream",
     "text": [
      "Chi square: 126.15164904168567, p-value:1.5594161881370471e-25\n"
     ]
    },
    {
     "data": {
      "text/html": [
       "<div>\n",
       "<style scoped>\n",
       "    .dataframe tbody tr th:only-of-type {\n",
       "        vertical-align: middle;\n",
       "    }\n",
       "\n",
       "    .dataframe tbody tr th {\n",
       "        vertical-align: top;\n",
       "    }\n",
       "\n",
       "    .dataframe thead th {\n",
       "        text-align: right;\n",
       "    }\n",
       "</style>\n",
       "<table border=\"1\" class=\"dataframe\">\n",
       "  <thead>\n",
       "    <tr style=\"text-align: right;\">\n",
       "      <th></th>\n",
       "      <th>fisced</th>\n",
       "      <th>Treated No.</th>\n",
       "      <th>Treated share</th>\n",
       "    </tr>\n",
       "  </thead>\n",
       "  <tbody>\n",
       "    <tr>\n",
       "      <th>0</th>\n",
       "      <td>None</td>\n",
       "      <td>12</td>\n",
       "      <td>0.428571</td>\n",
       "    </tr>\n",
       "    <tr>\n",
       "      <th>1</th>\n",
       "      <td>ISCED 1</td>\n",
       "      <td>39</td>\n",
       "      <td>0.453488</td>\n",
       "    </tr>\n",
       "    <tr>\n",
       "      <th>2</th>\n",
       "      <td>ISCED 2</td>\n",
       "      <td>209</td>\n",
       "      <td>0.374552</td>\n",
       "    </tr>\n",
       "    <tr>\n",
       "      <th>3</th>\n",
       "      <td>ISCED 3A, ISCED 4</td>\n",
       "      <td>1258</td>\n",
       "      <td>0.423854</td>\n",
       "    </tr>\n",
       "    <tr>\n",
       "      <th>4</th>\n",
       "      <td>ISCED 5B</td>\n",
       "      <td>722</td>\n",
       "      <td>0.464607</td>\n",
       "    </tr>\n",
       "    <tr>\n",
       "      <th>5</th>\n",
       "      <td>ISCED 5A, 6</td>\n",
       "      <td>1671</td>\n",
       "      <td>0.551667</td>\n",
       "    </tr>\n",
       "  </tbody>\n",
       "</table>\n",
       "</div>"
      ],
      "text/plain": [
       "              fisced  Treated No.  Treated share\n",
       "0               None           12       0.428571\n",
       "1            ISCED 1           39       0.453488\n",
       "2            ISCED 2          209       0.374552\n",
       "3  ISCED 3A, ISCED 4         1258       0.423854\n",
       "4           ISCED 5B          722       0.464607\n",
       "5        ISCED 5A, 6         1671       0.551667"
      ]
     },
     "execution_count": 15,
     "metadata": {},
     "output_type": "execute_result"
    }
   ],
   "source": [
    "education_independence_test(country, 'fisced', \"Treated\")"
   ]
  },
  {
   "cell_type": "markdown",
   "metadata": {},
   "source": [
    "# Language used at home\n",
    "This measure is based on the question \"What language do you speak at home most of the time?\". Possible values:\n",
    "1. Language of test\n",
    "2. Other language."
   ]
  },
  {
   "cell_type": "code",
   "execution_count": 16,
   "metadata": {},
   "outputs": [
    {
     "name": "stdout",
     "output_type": "stream",
     "text": [
      "Chi square: 35.882262795988595, p-value:2.0960823233585424e-09\n"
     ]
    },
    {
     "data": {
      "text/html": [
       "<div>\n",
       "<style scoped>\n",
       "    .dataframe tbody tr th:only-of-type {\n",
       "        vertical-align: middle;\n",
       "    }\n",
       "\n",
       "    .dataframe tbody tr th {\n",
       "        vertical-align: top;\n",
       "    }\n",
       "\n",
       "    .dataframe thead th {\n",
       "        text-align: right;\n",
       "    }\n",
       "</style>\n",
       "<table border=\"1\" class=\"dataframe\">\n",
       "  <thead>\n",
       "    <tr style=\"text-align: right;\">\n",
       "      <th></th>\n",
       "      <th>Language used at home</th>\n",
       "      <th>Treated No.</th>\n",
       "      <th>Treated share</th>\n",
       "    </tr>\n",
       "  </thead>\n",
       "  <tbody>\n",
       "    <tr>\n",
       "      <th>0</th>\n",
       "      <td>Language of test</td>\n",
       "      <td>3213</td>\n",
       "      <td>0.461505</td>\n",
       "    </tr>\n",
       "    <tr>\n",
       "      <th>1</th>\n",
       "      <td>other language</td>\n",
       "      <td>698</td>\n",
       "      <td>0.553529</td>\n",
       "    </tr>\n",
       "  </tbody>\n",
       "</table>\n",
       "</div>"
      ],
      "text/plain": [
       "  Language used at home  Treated No.  Treated share\n",
       "0      Language of test         3213       0.461505\n",
       "1        other language          698       0.553529"
      ]
     },
     "execution_count": 16,
     "metadata": {},
     "output_type": "execute_result"
    }
   ],
   "source": [
    "def language_independence_test(country, treatment):\n",
    "    chi_square, pi_val = chi_square_analysis(country['ST25Q01'], country[treatment])\n",
    "    print(\"Chi square: {}, p-value:{}\".format(chi_square, pi_val))\n",
    "    language = country.groupby(['ST25Q01'])[treatment].agg(['sum', 'mean']).rename(index={1:\"Language of test\", \n",
    "                                                                                    2:\"other language\"})\n",
    "    return language.reset_index().rename(columns={'sum':'{} No.'.format(treatment), \n",
    "                                               'mean': '{} share'.format(treatment),\n",
    "                                                 'ST25Q01': 'Language used at home'})\n",
    "\n",
    "language_independence_test(country, 'Treated')"
   ]
  },
  {
   "cell_type": "markdown",
   "metadata": {},
   "source": [
    "# Socio-economic index (ESCS)"
   ]
  },
  {
   "cell_type": "code",
   "execution_count": 17,
   "metadata": {},
   "outputs": [
    {
     "name": "stdout",
     "output_type": "stream",
     "text": [
      "Chi square: 200.14222479711998, p-value:3.930351630203476e-43\n"
     ]
    },
    {
     "data": {
      "text/html": [
       "<div>\n",
       "<style scoped>\n",
       "    .dataframe tbody tr th:only-of-type {\n",
       "        vertical-align: middle;\n",
       "    }\n",
       "\n",
       "    .dataframe tbody tr th {\n",
       "        vertical-align: top;\n",
       "    }\n",
       "\n",
       "    .dataframe thead th {\n",
       "        text-align: right;\n",
       "    }\n",
       "</style>\n",
       "<table border=\"1\" class=\"dataframe\">\n",
       "  <thead>\n",
       "    <tr style=\"text-align: right;\">\n",
       "      <th></th>\n",
       "      <th>ESCS_quartiles</th>\n",
       "      <th>Treated No.</th>\n",
       "      <th>Treated share</th>\n",
       "    </tr>\n",
       "  </thead>\n",
       "  <tbody>\n",
       "    <tr>\n",
       "      <th>0</th>\n",
       "      <td>Q1</td>\n",
       "      <td>775</td>\n",
       "      <td>0.376031</td>\n",
       "    </tr>\n",
       "    <tr>\n",
       "      <th>1</th>\n",
       "      <td>Q2</td>\n",
       "      <td>928</td>\n",
       "      <td>0.446798</td>\n",
       "    </tr>\n",
       "    <tr>\n",
       "      <th>2</th>\n",
       "      <td>Q3</td>\n",
       "      <td>1027</td>\n",
       "      <td>0.490918</td>\n",
       "    </tr>\n",
       "    <tr>\n",
       "      <th>3</th>\n",
       "      <td>Q4</td>\n",
       "      <td>1181</td>\n",
       "      <td>0.592574</td>\n",
       "    </tr>\n",
       "  </tbody>\n",
       "</table>\n",
       "</div>"
      ],
      "text/plain": [
       "  ESCS_quartiles  Treated No.  Treated share\n",
       "0             Q1          775       0.376031\n",
       "1             Q2          928       0.446798\n",
       "2             Q3         1027       0.490918\n",
       "3             Q4         1181       0.592574"
      ]
     },
     "execution_count": 17,
     "metadata": {},
     "output_type": "execute_result"
    }
   ],
   "source": [
    "def escs_independence_test(country, treatment):\n",
    "    country[\"ESCS_quartiles\"] = pd.qcut(country[\"ESCS\"], 4, labels=['Q1','Q2','Q3', 'Q4'])\n",
    "    chi_square, pi_val = chi_square_analysis(country['ESCS_quartiles'], country[treatment])\n",
    "    print(\"Chi square: {}, p-value:{}\".format(chi_square, pi_val))\n",
    "    escs = country.groupby(['ESCS_quartiles'])[treatment].agg(['sum', 'mean'])\n",
    "    return escs.reset_index().rename(columns={'sum':'{} No.'.format(treatment), \n",
    "                                               'mean': '{} share'.format(treatment)})\n",
    "\n",
    "escs_independence_test(country, 'Treated')"
   ]
  },
  {
   "cell_type": "markdown",
   "metadata": {},
   "source": [
    "# Primary start age"
   ]
  },
  {
   "cell_type": "code",
   "execution_count": 18,
   "metadata": {},
   "outputs": [],
   "source": [
    "def primary_start_independence_test(country, treatment):\n",
    "    chi_square, pi_val = chi_square_analysis(country['ST06Q01'], country[treatment])\n",
    "    print(\"Chi square: {}, p-value:{}\".format(chi_square, pi_val))\n",
    "    start_age = country.groupby(['ST06Q01'])[treatment].agg(['sum', 'mean'])\n",
    "    return start_age.reset_index().rename(columns={'sum':'{} No.'.format(treatment),\n",
    "                                                   'mean': '{} share'.format(treatment), \n",
    "                                                   'ST06Q01':'Primary start age'})\n",
    "    "
   ]
  },
  {
   "cell_type": "code",
   "execution_count": 19,
   "metadata": {},
   "outputs": [
    {
     "name": "stdout",
     "output_type": "stream",
     "text": [
      "Chi square: 83.39190118819967, p-value:7.106574132109099e-16\n"
     ]
    },
    {
     "data": {
      "text/html": [
       "<div>\n",
       "<style scoped>\n",
       "    .dataframe tbody tr th:only-of-type {\n",
       "        vertical-align: middle;\n",
       "    }\n",
       "\n",
       "    .dataframe tbody tr th {\n",
       "        vertical-align: top;\n",
       "    }\n",
       "\n",
       "    .dataframe thead th {\n",
       "        text-align: right;\n",
       "    }\n",
       "</style>\n",
       "<table border=\"1\" class=\"dataframe\">\n",
       "  <thead>\n",
       "    <tr style=\"text-align: right;\">\n",
       "      <th></th>\n",
       "      <th>Primary start age</th>\n",
       "      <th>Treated No.</th>\n",
       "      <th>Treated share</th>\n",
       "    </tr>\n",
       "  </thead>\n",
       "  <tbody>\n",
       "    <tr>\n",
       "      <th>0</th>\n",
       "      <td>4.0</td>\n",
       "      <td>735</td>\n",
       "      <td>0.574668</td>\n",
       "    </tr>\n",
       "    <tr>\n",
       "      <th>1</th>\n",
       "      <td>5.0</td>\n",
       "      <td>2009</td>\n",
       "      <td>0.436644</td>\n",
       "    </tr>\n",
       "    <tr>\n",
       "      <th>2</th>\n",
       "      <td>6.0</td>\n",
       "      <td>1034</td>\n",
       "      <td>0.496877</td>\n",
       "    </tr>\n",
       "    <tr>\n",
       "      <th>3</th>\n",
       "      <td>7.0</td>\n",
       "      <td>97</td>\n",
       "      <td>0.500000</td>\n",
       "    </tr>\n",
       "    <tr>\n",
       "      <th>4</th>\n",
       "      <td>8.0</td>\n",
       "      <td>12</td>\n",
       "      <td>0.545455</td>\n",
       "    </tr>\n",
       "    <tr>\n",
       "      <th>5</th>\n",
       "      <td>9.0</td>\n",
       "      <td>8</td>\n",
       "      <td>0.615385</td>\n",
       "    </tr>\n",
       "    <tr>\n",
       "      <th>6</th>\n",
       "      <td>10.0</td>\n",
       "      <td>6</td>\n",
       "      <td>0.428571</td>\n",
       "    </tr>\n",
       "    <tr>\n",
       "      <th>7</th>\n",
       "      <td>11.0</td>\n",
       "      <td>0</td>\n",
       "      <td>0.000000</td>\n",
       "    </tr>\n",
       "    <tr>\n",
       "      <th>8</th>\n",
       "      <td>12.0</td>\n",
       "      <td>6</td>\n",
       "      <td>0.666667</td>\n",
       "    </tr>\n",
       "    <tr>\n",
       "      <th>9</th>\n",
       "      <td>13.0</td>\n",
       "      <td>3</td>\n",
       "      <td>0.500000</td>\n",
       "    </tr>\n",
       "    <tr>\n",
       "      <th>10</th>\n",
       "      <td>14.0</td>\n",
       "      <td>1</td>\n",
       "      <td>0.333333</td>\n",
       "    </tr>\n",
       "  </tbody>\n",
       "</table>\n",
       "</div>"
      ],
      "text/plain": [
       "    Primary start age  Treated No.  Treated share\n",
       "0                 4.0          735       0.574668\n",
       "1                 5.0         2009       0.436644\n",
       "2                 6.0         1034       0.496877\n",
       "3                 7.0           97       0.500000\n",
       "4                 8.0           12       0.545455\n",
       "5                 9.0            8       0.615385\n",
       "6                10.0            6       0.428571\n",
       "7                11.0            0       0.000000\n",
       "8                12.0            6       0.666667\n",
       "9                13.0            3       0.500000\n",
       "10               14.0            1       0.333333"
      ]
     },
     "execution_count": 19,
     "metadata": {},
     "output_type": "execute_result"
    }
   ],
   "source": [
    "primary_start_independence_test(country, \"Treated\")"
   ]
  },
  {
   "cell_type": "markdown",
   "metadata": {},
   "source": [
    "## Occupation Classification - Mother\n",
    "Occupation is classified by the International Standard Classification of Occupation (https://www.ilo.org/public/english/bureau/stat/isco/). <br> We devided the occupation codes to the following categories:\n",
    "1. Armed forces occupations & managers\n",
    "2. Professionals\n",
    "3. Technicians and associate professionals\n",
    "4. Clerical support workers\n",
    "5. Service and sales workers\n",
    "6. Skilled agricultural, forestry and fishery workers\n",
    "7. Crafts and related trades workers\n",
    "8. Pland and machine operators, and assemblers\n",
    "9. Elementary occupations\n",
    "10. Housewife and social beneficiary "
   ]
  },
  {
   "cell_type": "code",
   "execution_count": 20,
   "metadata": {},
   "outputs": [],
   "source": [
    "def occupation_dependency_test(country, covariate, treatment):\n",
    "    chi_square, pi_val = chi_square_analysis(country[covariate], country[treatment])\n",
    "    print(\"Chi square: {}, p-value:{}\".format(chi_square, pi_val))\n",
    "    occupation = country.groupby([covariate])[treatment].agg(['sum', 'mean'])\n",
    "    occupation = occupation.rename(index={'A': 'Armed forces occupations & Managers',\n",
    "                                          'B': 'Professionals',\n",
    "                                          'C': 'Technicians and associate professionals',\n",
    "                                          'D': 'Clerical support workers',\n",
    "                                          'E': 'Service and sales workers',\n",
    "                                          'F': 'Skilled agricultural, forestry and fishery workers',\n",
    "                                          'G': 'Craft and related trades workers',\n",
    "                                          'H': 'Plant and machine operators, and assemblers',\n",
    "                                          'I': 'Elementary occupations',\n",
    "                                          'J': 'Housewife and social beneficiary'})\n",
    "    if \"1\" in covariate:\n",
    "        return occupation.reset_index().rename(columns={'sum':'{} No.'.format(treatment), \n",
    "                                                        'mean': '{} share'.format(treatment),\n",
    "                                                        'OCOD1': 'Occupation Classification - Mother'})\n",
    "    return occupation.reset_index().rename(columns={'sum':'{} No.'.format(treatment), \n",
    "                                                    'mean': '{} share'.format(treatment),\n",
    "                                                    'OCOD2': 'Occupation Classification - Father'})"
   ]
  },
  {
   "cell_type": "code",
   "execution_count": 21,
   "metadata": {},
   "outputs": [
    {
     "name": "stdout",
     "output_type": "stream",
     "text": [
      "Chi square: 92.82077045119273, p-value:1.242459923451628e-16\n"
     ]
    },
    {
     "data": {
      "text/html": [
       "<div>\n",
       "<style scoped>\n",
       "    .dataframe tbody tr th:only-of-type {\n",
       "        vertical-align: middle;\n",
       "    }\n",
       "\n",
       "    .dataframe tbody tr th {\n",
       "        vertical-align: top;\n",
       "    }\n",
       "\n",
       "    .dataframe thead th {\n",
       "        text-align: right;\n",
       "    }\n",
       "</style>\n",
       "<table border=\"1\" class=\"dataframe\">\n",
       "  <thead>\n",
       "    <tr style=\"text-align: right;\">\n",
       "      <th></th>\n",
       "      <th>Occupation Classification - Mother</th>\n",
       "      <th>Treated No.</th>\n",
       "      <th>Treated share</th>\n",
       "    </tr>\n",
       "  </thead>\n",
       "  <tbody>\n",
       "    <tr>\n",
       "      <th>0</th>\n",
       "      <td>Armed forces occupations &amp; Managers</td>\n",
       "      <td>414</td>\n",
       "      <td>0.507975</td>\n",
       "    </tr>\n",
       "    <tr>\n",
       "      <th>1</th>\n",
       "      <td>Professionals</td>\n",
       "      <td>1395</td>\n",
       "      <td>0.530015</td>\n",
       "    </tr>\n",
       "    <tr>\n",
       "      <th>2</th>\n",
       "      <td>Technicians and associate professionals</td>\n",
       "      <td>619</td>\n",
       "      <td>0.495200</td>\n",
       "    </tr>\n",
       "    <tr>\n",
       "      <th>3</th>\n",
       "      <td>Clerical support workers</td>\n",
       "      <td>468</td>\n",
       "      <td>0.457031</td>\n",
       "    </tr>\n",
       "    <tr>\n",
       "      <th>4</th>\n",
       "      <td>Service and sales workers</td>\n",
       "      <td>671</td>\n",
       "      <td>0.411656</td>\n",
       "    </tr>\n",
       "    <tr>\n",
       "      <th>5</th>\n",
       "      <td>Skilled agricultural, forestry and fishery wor...</td>\n",
       "      <td>27</td>\n",
       "      <td>0.360000</td>\n",
       "    </tr>\n",
       "    <tr>\n",
       "      <th>6</th>\n",
       "      <td>Craft and related trades workers</td>\n",
       "      <td>61</td>\n",
       "      <td>0.376543</td>\n",
       "    </tr>\n",
       "    <tr>\n",
       "      <th>7</th>\n",
       "      <td>Plant and machine operators, and assemblers</td>\n",
       "      <td>52</td>\n",
       "      <td>0.331210</td>\n",
       "    </tr>\n",
       "    <tr>\n",
       "      <th>8</th>\n",
       "      <td>Elementary occupations</td>\n",
       "      <td>204</td>\n",
       "      <td>0.426778</td>\n",
       "    </tr>\n",
       "  </tbody>\n",
       "</table>\n",
       "</div>"
      ],
      "text/plain": [
       "                  Occupation Classification - Mother  Treated No.  \\\n",
       "0                Armed forces occupations & Managers          414   \n",
       "1                                      Professionals         1395   \n",
       "2            Technicians and associate professionals          619   \n",
       "3                           Clerical support workers          468   \n",
       "4                          Service and sales workers          671   \n",
       "5  Skilled agricultural, forestry and fishery wor...           27   \n",
       "6                   Craft and related trades workers           61   \n",
       "7        Plant and machine operators, and assemblers           52   \n",
       "8                             Elementary occupations          204   \n",
       "\n",
       "   Treated share  \n",
       "0       0.507975  \n",
       "1       0.530015  \n",
       "2       0.495200  \n",
       "3       0.457031  \n",
       "4       0.411656  \n",
       "5       0.360000  \n",
       "6       0.376543  \n",
       "7       0.331210  \n",
       "8       0.426778  "
      ]
     },
     "execution_count": 21,
     "metadata": {},
     "output_type": "execute_result"
    }
   ],
   "source": [
    "occupation_dependency_test(country, 'OCOD1', 'Treated')"
   ]
  },
  {
   "cell_type": "markdown",
   "metadata": {},
   "source": [
    "## Occupation Classification - Father\n",
    "See details in the previous section. "
   ]
  },
  {
   "cell_type": "code",
   "execution_count": 22,
   "metadata": {},
   "outputs": [
    {
     "name": "stdout",
     "output_type": "stream",
     "text": [
      "Chi square: 98.69710999928591, p-value:7.879979940713415e-18\n"
     ]
    },
    {
     "data": {
      "text/html": [
       "<div>\n",
       "<style scoped>\n",
       "    .dataframe tbody tr th:only-of-type {\n",
       "        vertical-align: middle;\n",
       "    }\n",
       "\n",
       "    .dataframe tbody tr th {\n",
       "        vertical-align: top;\n",
       "    }\n",
       "\n",
       "    .dataframe thead th {\n",
       "        text-align: right;\n",
       "    }\n",
       "</style>\n",
       "<table border=\"1\" class=\"dataframe\">\n",
       "  <thead>\n",
       "    <tr style=\"text-align: right;\">\n",
       "      <th></th>\n",
       "      <th>Occupation Classification - Father</th>\n",
       "      <th>Treated No.</th>\n",
       "      <th>Treated share</th>\n",
       "    </tr>\n",
       "  </thead>\n",
       "  <tbody>\n",
       "    <tr>\n",
       "      <th>0</th>\n",
       "      <td>Armed forces occupations &amp; Managers</td>\n",
       "      <td>623</td>\n",
       "      <td>0.502419</td>\n",
       "    </tr>\n",
       "    <tr>\n",
       "      <th>1</th>\n",
       "      <td>Professionals</td>\n",
       "      <td>956</td>\n",
       "      <td>0.563347</td>\n",
       "    </tr>\n",
       "    <tr>\n",
       "      <th>2</th>\n",
       "      <td>Technicians and associate professionals</td>\n",
       "      <td>467</td>\n",
       "      <td>0.484943</td>\n",
       "    </tr>\n",
       "    <tr>\n",
       "      <th>3</th>\n",
       "      <td>Clerical support workers</td>\n",
       "      <td>89</td>\n",
       "      <td>0.491713</td>\n",
       "    </tr>\n",
       "    <tr>\n",
       "      <th>4</th>\n",
       "      <td>Service and sales workers</td>\n",
       "      <td>281</td>\n",
       "      <td>0.462932</td>\n",
       "    </tr>\n",
       "    <tr>\n",
       "      <th>5</th>\n",
       "      <td>Skilled agricultural, forestry and fishery wor...</td>\n",
       "      <td>202</td>\n",
       "      <td>0.444934</td>\n",
       "    </tr>\n",
       "    <tr>\n",
       "      <th>6</th>\n",
       "      <td>Craft and related trades workers</td>\n",
       "      <td>713</td>\n",
       "      <td>0.421893</td>\n",
       "    </tr>\n",
       "    <tr>\n",
       "      <th>7</th>\n",
       "      <td>Plant and machine operators, and assemblers</td>\n",
       "      <td>368</td>\n",
       "      <td>0.429405</td>\n",
       "    </tr>\n",
       "    <tr>\n",
       "      <th>8</th>\n",
       "      <td>Elementary occupations</td>\n",
       "      <td>212</td>\n",
       "      <td>0.397004</td>\n",
       "    </tr>\n",
       "  </tbody>\n",
       "</table>\n",
       "</div>"
      ],
      "text/plain": [
       "                  Occupation Classification - Father  Treated No.  \\\n",
       "0                Armed forces occupations & Managers          623   \n",
       "1                                      Professionals          956   \n",
       "2            Technicians and associate professionals          467   \n",
       "3                           Clerical support workers           89   \n",
       "4                          Service and sales workers          281   \n",
       "5  Skilled agricultural, forestry and fishery wor...          202   \n",
       "6                   Craft and related trades workers          713   \n",
       "7        Plant and machine operators, and assemblers          368   \n",
       "8                             Elementary occupations          212   \n",
       "\n",
       "   Treated share  \n",
       "0       0.502419  \n",
       "1       0.563347  \n",
       "2       0.484943  \n",
       "3       0.491713  \n",
       "4       0.462932  \n",
       "5       0.444934  \n",
       "6       0.421893  \n",
       "7       0.429405  \n",
       "8       0.397004  "
      ]
     },
     "execution_count": 22,
     "metadata": {},
     "output_type": "execute_result"
    }
   ],
   "source": [
    "occupation_dependency_test(country, 'OCOD2', 'Treated')"
   ]
  },
  {
   "cell_type": "markdown",
   "metadata": {},
   "source": [
    "## ISEI of mother (International Socio-Economic Index of Occupational Status)  "
   ]
  },
  {
   "cell_type": "code",
   "execution_count": 23,
   "metadata": {},
   "outputs": [],
   "source": [
    "def parent_isei_dependency_test(country, covariate, treatment):\n",
    "    quartiles = pd.qcut(country[covariate], 4, labels=['Q1','Q2','Q3', 'Q4'])\n",
    "    chi_square, pi_val = chi_square_analysis(quartiles, country[treatment])\n",
    "    print(\"Chi square: {}, p-value:{}\".format(chi_square, pi_val))\n",
    "    isei = country.groupby([quartiles])[treatment].agg(['sum', 'mean'])\n",
    "    if '1' in covariate:\n",
    "        return isei.reset_index().rename(columns={'sum':'{} No.'.format(treatment), \n",
    "                                                  'mean': '{} share'.format(treatment), \n",
    "                                                  'BMMJ1':'ISEI - Mother'})\n",
    "    return isei.reset_index().rename(columns={'sum':'{} No.'.format(treatment), \n",
    "                                                  'mean': '{} share'.format(treatment), \n",
    "                                                  'BFMJ2':'ISEI - Father'})"
   ]
  },
  {
   "cell_type": "code",
   "execution_count": 24,
   "metadata": {
    "scrolled": true
   },
   "outputs": [
    {
     "name": "stdout",
     "output_type": "stream",
     "text": [
      "Chi square: 107.34801420766314, p-value:4.0832179315236263e-23\n"
     ]
    },
    {
     "data": {
      "text/html": [
       "<div>\n",
       "<style scoped>\n",
       "    .dataframe tbody tr th:only-of-type {\n",
       "        vertical-align: middle;\n",
       "    }\n",
       "\n",
       "    .dataframe tbody tr th {\n",
       "        vertical-align: top;\n",
       "    }\n",
       "\n",
       "    .dataframe thead th {\n",
       "        text-align: right;\n",
       "    }\n",
       "</style>\n",
       "<table border=\"1\" class=\"dataframe\">\n",
       "  <thead>\n",
       "    <tr style=\"text-align: right;\">\n",
       "      <th></th>\n",
       "      <th>ISEI - Mother</th>\n",
       "      <th>Treated No.</th>\n",
       "      <th>Treated share</th>\n",
       "    </tr>\n",
       "  </thead>\n",
       "  <tbody>\n",
       "    <tr>\n",
       "      <th>0</th>\n",
       "      <td>Q1</td>\n",
       "      <td>864</td>\n",
       "      <td>0.401114</td>\n",
       "    </tr>\n",
       "    <tr>\n",
       "      <th>1</th>\n",
       "      <td>Q2</td>\n",
       "      <td>901</td>\n",
       "      <td>0.451403</td>\n",
       "    </tr>\n",
       "    <tr>\n",
       "      <th>2</th>\n",
       "      <td>Q3</td>\n",
       "      <td>1008</td>\n",
       "      <td>0.499752</td>\n",
       "    </tr>\n",
       "    <tr>\n",
       "      <th>3</th>\n",
       "      <td>Q4</td>\n",
       "      <td>1138</td>\n",
       "      <td>0.553502</td>\n",
       "    </tr>\n",
       "  </tbody>\n",
       "</table>\n",
       "</div>"
      ],
      "text/plain": [
       "  ISEI - Mother  Treated No.  Treated share\n",
       "0            Q1          864       0.401114\n",
       "1            Q2          901       0.451403\n",
       "2            Q3         1008       0.499752\n",
       "3            Q4         1138       0.553502"
      ]
     },
     "execution_count": 24,
     "metadata": {},
     "output_type": "execute_result"
    }
   ],
   "source": [
    "# Treatment 1 Analysis\n",
    "parent_isei_dependency_test(country, 'BMMJ1', 'Treated')"
   ]
  },
  {
   "cell_type": "markdown",
   "metadata": {},
   "source": [
    "# ISEI of Father (International Socio-Economic Index of Occupational Status) "
   ]
  },
  {
   "cell_type": "code",
   "execution_count": 25,
   "metadata": {},
   "outputs": [
    {
     "name": "stdout",
     "output_type": "stream",
     "text": [
      "Chi square: 101.03142934709565, p-value:9.326285632747558e-22\n"
     ]
    },
    {
     "data": {
      "text/html": [
       "<div>\n",
       "<style scoped>\n",
       "    .dataframe tbody tr th:only-of-type {\n",
       "        vertical-align: middle;\n",
       "    }\n",
       "\n",
       "    .dataframe tbody tr th {\n",
       "        vertical-align: top;\n",
       "    }\n",
       "\n",
       "    .dataframe thead th {\n",
       "        text-align: right;\n",
       "    }\n",
       "</style>\n",
       "<table border=\"1\" class=\"dataframe\">\n",
       "  <thead>\n",
       "    <tr style=\"text-align: right;\">\n",
       "      <th></th>\n",
       "      <th>ISEI - Father</th>\n",
       "      <th>Treated No.</th>\n",
       "      <th>Treated share</th>\n",
       "    </tr>\n",
       "  </thead>\n",
       "  <tbody>\n",
       "    <tr>\n",
       "      <th>0</th>\n",
       "      <td>Q1</td>\n",
       "      <td>936</td>\n",
       "      <td>0.415631</td>\n",
       "    </tr>\n",
       "    <tr>\n",
       "      <th>1</th>\n",
       "      <td>Q2</td>\n",
       "      <td>819</td>\n",
       "      <td>0.440323</td>\n",
       "    </tr>\n",
       "    <tr>\n",
       "      <th>2</th>\n",
       "      <td>Q3</td>\n",
       "      <td>1012</td>\n",
       "      <td>0.489835</td>\n",
       "    </tr>\n",
       "    <tr>\n",
       "      <th>3</th>\n",
       "      <td>Q4</td>\n",
       "      <td>1144</td>\n",
       "      <td>0.559413</td>\n",
       "    </tr>\n",
       "  </tbody>\n",
       "</table>\n",
       "</div>"
      ],
      "text/plain": [
       "  ISEI - Father  Treated No.  Treated share\n",
       "0            Q1          936       0.415631\n",
       "1            Q2          819       0.440323\n",
       "2            Q3         1012       0.489835\n",
       "3            Q4         1144       0.559413"
      ]
     },
     "execution_count": 25,
     "metadata": {},
     "output_type": "execute_result"
    }
   ],
   "source": [
    "# Treatment 1 Analysis\n",
    "parent_isei_dependency_test(country, 'BFMJ2', 'Treated')"
   ]
  },
  {
   "cell_type": "markdown",
   "metadata": {},
   "source": [
    "# Wealth Index"
   ]
  },
  {
   "cell_type": "code",
   "execution_count": 26,
   "metadata": {},
   "outputs": [],
   "source": [
    "def wealth_index_dependency_test(country, treatment):\n",
    "    quartiles = pd.qcut(country[\"WEALTH\"], 4, labels=['Q1','Q2','Q3', 'Q4'])\n",
    "    chi_square, pi_val = chi_square_analysis(quartiles, country[treatment])\n",
    "    print(\"Chi square: {}, p-value:{}\".format(chi_square, pi_val))\n",
    "    wealth = country.groupby([quartiles])[treatment].agg(['sum', 'mean'])\n",
    "    return wealth.reset_index().rename(columns={'sum':'{} No.'.format(treatment), \n",
    "                                                  'mean': '{} share'.format(treatment), \n",
    "                                                  'WEALTH':'Wealth Index'})"
   ]
  },
  {
   "cell_type": "code",
   "execution_count": 27,
   "metadata": {},
   "outputs": [
    {
     "name": "stdout",
     "output_type": "stream",
     "text": [
      "Chi square: 36.587310736091396, p-value:5.6258674472295814e-08\n"
     ]
    },
    {
     "data": {
      "text/html": [
       "<div>\n",
       "<style scoped>\n",
       "    .dataframe tbody tr th:only-of-type {\n",
       "        vertical-align: middle;\n",
       "    }\n",
       "\n",
       "    .dataframe tbody tr th {\n",
       "        vertical-align: top;\n",
       "    }\n",
       "\n",
       "    .dataframe thead th {\n",
       "        text-align: right;\n",
       "    }\n",
       "</style>\n",
       "<table border=\"1\" class=\"dataframe\">\n",
       "  <thead>\n",
       "    <tr style=\"text-align: right;\">\n",
       "      <th></th>\n",
       "      <th>Wealth Index</th>\n",
       "      <th>Treated No.</th>\n",
       "      <th>Treated share</th>\n",
       "    </tr>\n",
       "  </thead>\n",
       "  <tbody>\n",
       "    <tr>\n",
       "      <th>0</th>\n",
       "      <td>Q1</td>\n",
       "      <td>941</td>\n",
       "      <td>0.432445</td>\n",
       "    </tr>\n",
       "    <tr>\n",
       "      <th>1</th>\n",
       "      <td>Q2</td>\n",
       "      <td>1016</td>\n",
       "      <td>0.464989</td>\n",
       "    </tr>\n",
       "    <tr>\n",
       "      <th>2</th>\n",
       "      <td>Q3</td>\n",
       "      <td>1276</td>\n",
       "      <td>0.493235</td>\n",
       "    </tr>\n",
       "    <tr>\n",
       "      <th>3</th>\n",
       "      <td>Q4</td>\n",
       "      <td>678</td>\n",
       "      <td>0.531765</td>\n",
       "    </tr>\n",
       "  </tbody>\n",
       "</table>\n",
       "</div>"
      ],
      "text/plain": [
       "  Wealth Index  Treated No.  Treated share\n",
       "0           Q1          941       0.432445\n",
       "1           Q2         1016       0.464989\n",
       "2           Q3         1276       0.493235\n",
       "3           Q4          678       0.531765"
      ]
     },
     "execution_count": 27,
     "metadata": {},
     "output_type": "execute_result"
    }
   ],
   "source": [
    "wealth_index_dependency_test(country, \"Treated\")"
   ]
  },
  {
   "cell_type": "markdown",
   "metadata": {},
   "source": [
    "# Family Stucture Indicators\n",
    "PISA2012 asked students whether they have a mother, father and brothers at home. "
   ]
  },
  {
   "cell_type": "code",
   "execution_count": 28,
   "metadata": {},
   "outputs": [],
   "source": [
    "def family_structure_dependency_test(country, covariate, treatment):\n",
    "    chi_square, pi_val = chi_square_analysis(country[covariate], country[treatment])\n",
    "    print(\"Chi square: {}, p-value:{}\".format(chi_square, pi_val))\n",
    "    family= country.groupby([covariate])[treatment].agg(['sum', 'mean']).rename(index={1:'Yes',2: 'No'})\n",
    "    family =  family.reset_index().rename(columns={'sum':'{} No.'.format(treatment), \n",
    "                                             'mean': '{} share'.format(treatment)})\n",
    "    if '01' in covariate:\n",
    "        return family.rename(columns={'ST11Q01': 'At home - mother'})\n",
    "    if '02' in covariate:\n",
    "        return family.rename(columns={'ST11Q02': 'At home - father'})\n",
    "    if '03' in covariate:\n",
    "        return family.rename(columns={'ST11Q03': 'At home - brothers'})\n",
    "    if '04' in covariate:\n",
    "        return family.rename(columns={'ST11Q04': 'At home - sisters'})\n",
    "    else: \n",
    "        return family.rename(columns={'ST11Q04': 'At home - siblings'})"
   ]
  },
  {
   "cell_type": "code",
   "execution_count": 29,
   "metadata": {},
   "outputs": [
    {
     "name": "stdout",
     "output_type": "stream",
     "text": [
      "Chi square: 4.902816336299917, p-value:0.026812932522397553\n"
     ]
    },
    {
     "data": {
      "text/html": [
       "<div>\n",
       "<style scoped>\n",
       "    .dataframe tbody tr th:only-of-type {\n",
       "        vertical-align: middle;\n",
       "    }\n",
       "\n",
       "    .dataframe tbody tr th {\n",
       "        vertical-align: top;\n",
       "    }\n",
       "\n",
       "    .dataframe thead th {\n",
       "        text-align: right;\n",
       "    }\n",
       "</style>\n",
       "<table border=\"1\" class=\"dataframe\">\n",
       "  <thead>\n",
       "    <tr style=\"text-align: right;\">\n",
       "      <th></th>\n",
       "      <th>At home - mother</th>\n",
       "      <th>Treated No.</th>\n",
       "      <th>Treated share</th>\n",
       "    </tr>\n",
       "  </thead>\n",
       "  <tbody>\n",
       "    <tr>\n",
       "      <th>0</th>\n",
       "      <td>Yes</td>\n",
       "      <td>3827</td>\n",
       "      <td>0.477659</td>\n",
       "    </tr>\n",
       "    <tr>\n",
       "      <th>1</th>\n",
       "      <td>No</td>\n",
       "      <td>84</td>\n",
       "      <td>0.398104</td>\n",
       "    </tr>\n",
       "  </tbody>\n",
       "</table>\n",
       "</div>"
      ],
      "text/plain": [
       "  At home - mother  Treated No.  Treated share\n",
       "0              Yes         3827       0.477659\n",
       "1               No           84       0.398104"
      ]
     },
     "execution_count": 29,
     "metadata": {},
     "output_type": "execute_result"
    }
   ],
   "source": [
    "family_structure_dependency_test(country, 'ST11Q01', 'Treated')"
   ]
  },
  {
   "cell_type": "code",
   "execution_count": 30,
   "metadata": {},
   "outputs": [
    {
     "name": "stdout",
     "output_type": "stream",
     "text": [
      "Chi square: 0.010636631825355486, p-value:0.9178565828206378\n"
     ]
    },
    {
     "data": {
      "text/html": [
       "<div>\n",
       "<style scoped>\n",
       "    .dataframe tbody tr th:only-of-type {\n",
       "        vertical-align: middle;\n",
       "    }\n",
       "\n",
       "    .dataframe tbody tr th {\n",
       "        vertical-align: top;\n",
       "    }\n",
       "\n",
       "    .dataframe thead th {\n",
       "        text-align: right;\n",
       "    }\n",
       "</style>\n",
       "<table border=\"1\" class=\"dataframe\">\n",
       "  <thead>\n",
       "    <tr style=\"text-align: right;\">\n",
       "      <th></th>\n",
       "      <th>At home - father</th>\n",
       "      <th>Treated No.</th>\n",
       "      <th>Treated share</th>\n",
       "    </tr>\n",
       "  </thead>\n",
       "  <tbody>\n",
       "    <tr>\n",
       "      <th>0</th>\n",
       "      <td>Yes</td>\n",
       "      <td>3521</td>\n",
       "      <td>0.475361</td>\n",
       "    </tr>\n",
       "    <tr>\n",
       "      <th>1</th>\n",
       "      <td>No</td>\n",
       "      <td>390</td>\n",
       "      <td>0.477941</td>\n",
       "    </tr>\n",
       "  </tbody>\n",
       "</table>\n",
       "</div>"
      ],
      "text/plain": [
       "  At home - father  Treated No.  Treated share\n",
       "0              Yes         3521       0.475361\n",
       "1               No          390       0.477941"
      ]
     },
     "execution_count": 30,
     "metadata": {},
     "output_type": "execute_result"
    }
   ],
   "source": [
    "family_structure_dependency_test(country, 'ST11Q02', 'Treated')"
   ]
  },
  {
   "cell_type": "code",
   "execution_count": 34,
   "metadata": {},
   "outputs": [
    {
     "name": "stdout",
     "output_type": "stream",
     "text": [
      "Chi square: 1.019442137545017, p-value:0.3126513722365508\n"
     ]
    },
    {
     "data": {
      "text/html": [
       "<div>\n",
       "<style scoped>\n",
       "    .dataframe tbody tr th:only-of-type {\n",
       "        vertical-align: middle;\n",
       "    }\n",
       "\n",
       "    .dataframe tbody tr th {\n",
       "        vertical-align: top;\n",
       "    }\n",
       "\n",
       "    .dataframe thead th {\n",
       "        text-align: right;\n",
       "    }\n",
       "</style>\n",
       "<table border=\"1\" class=\"dataframe\">\n",
       "  <thead>\n",
       "    <tr style=\"text-align: right;\">\n",
       "      <th></th>\n",
       "      <th>siblings</th>\n",
       "      <th>Treated No.</th>\n",
       "      <th>Treated share</th>\n",
       "    </tr>\n",
       "  </thead>\n",
       "  <tbody>\n",
       "    <tr>\n",
       "      <th>0</th>\n",
       "      <td>Yes</td>\n",
       "      <td>3300</td>\n",
       "      <td>0.478122</td>\n",
       "    </tr>\n",
       "    <tr>\n",
       "      <th>1</th>\n",
       "      <td>No</td>\n",
       "      <td>611</td>\n",
       "      <td>0.462528</td>\n",
       "    </tr>\n",
       "  </tbody>\n",
       "</table>\n",
       "</div>"
      ],
      "text/plain": [
       "  siblings  Treated No.  Treated share\n",
       "0      Yes         3300       0.478122\n",
       "1       No          611       0.462528"
      ]
     },
     "execution_count": 34,
     "metadata": {},
     "output_type": "execute_result"
    }
   ],
   "source": [
    "country['siblings']=((country['ST11Q03']==1) | (country['ST11Q04'] ==1)).astype(int).replace(0, 2)\n",
    "family_structure_dependency_test(country, 'siblings', 'Treated')"
   ]
  }
 ],
 "metadata": {
  "kernelspec": {
   "display_name": "Python 3",
   "language": "python",
   "name": "python3"
  },
  "language_info": {
   "codemirror_mode": {
    "name": "ipython",
    "version": 3
   },
   "file_extension": ".py",
   "mimetype": "text/x-python",
   "name": "python",
   "nbconvert_exporter": "python",
   "pygments_lexer": "ipython3",
   "version": "3.8.5"
  }
 },
 "nbformat": 4,
 "nbformat_minor": 4
}
