{
 "cells": [
  {
   "cell_type": "markdown",
   "metadata": {},
   "source": [
    "# Setup "
   ]
  },
  {
   "cell_type": "code",
   "execution_count": 2,
   "metadata": {},
   "outputs": [],
   "source": [
    "import pandas as pd\n",
    "import numpy as np\n",
    "from scipy.stats import chi2_contingency\n",
    "\n",
    "# independence test implementation \n",
    "def find_value_smaller_than_5(table):\n",
    "    for i in range(len(table)):\n",
    "        for j in range(len(table[0])):\n",
    "            if table[i][j]<=5:\n",
    "                return True, j\n",
    "    return False, 0\n",
    "\n",
    "def collapse_index(table):\n",
    "    exist, collapse_ind = find_value_smaller_than_5(table)\n",
    "    print_once = True\n",
    "    while exist: \n",
    "#         if print_once:\n",
    "#             print(\"table has value smaller than 5\")\n",
    "#             print_once = False\n",
    "        new_table = []\n",
    "        if collapse_ind<len(table[0])-1:\n",
    "            move_to = collapse_ind\n",
    "        else:\n",
    "            move_to = collapse_ind - 1\n",
    "                \n",
    "        for row in table: \n",
    "            new_row = row[:]\n",
    "            val = new_row.pop(collapse_ind)\n",
    "            new_row[move_to] += val\n",
    "            new_table.append(new_row)\n",
    "        table = new_table[:]\n",
    "        exist, collapse_ind = find_value_smaller_than_5(table)\n",
    "    \n",
    "    return table\n",
    "\n",
    "def chi_square_analysis(param, treatment):\n",
    "    \"\"\"\n",
    "    for descrete property and binary treatment \n",
    "    \"\"\"\n",
    "    treatment_options = [[] for k in treatment.dropna().unique()]\n",
    "    frame = pd.DataFrame({'treatment': treatment, 'property':param})\n",
    "    frame = frame.dropna().copy()\n",
    "    \n",
    "\n",
    "    for val in frame[\"property\"].unique(): \n",
    "        for i in range(len(treatment_options)):\n",
    "            treatment_options[i].append(((frame[\"property\"]==val) & (frame[\"treatment\"]==i)).sum())\n",
    "    \n",
    "    # print(treatment_options)\n",
    "    treatment_options = collapse_index(treatment_options)\n",
    "    # print(treatment_options)\n",
    "    \n",
    "    obs = np.array(treatment_options)\n",
    "    return chi2_contingency(obs)[:2]"
   ]
  },
  {
   "cell_type": "markdown",
   "metadata": {},
   "source": [
    "## Load Country Data\n",
    "To see results for specific country, uncomment the desired country and go to Kernel--> Restart and run all. "
   ]
  },
  {
   "cell_type": "code",
   "execution_count": 3,
   "metadata": {},
   "outputs": [
    {
     "data": {
      "text/plain": [
       "(3228, 30)"
      ]
     },
     "execution_count": 3,
     "metadata": {},
     "output_type": "execute_result"
    }
   ],
   "source": [
    "df = pd.read_csv(\"PISA2018_data.csv\")\n",
    "\n",
    "# extract Australia-based sample \n",
    "# country = df[(df[\"CNT\"]==\"AUS\") & (df[\"DURECEC\"]<7)].copy()\n",
    "\n",
    "# extract Ireland-based sample\n",
    "country = df[(df[\"CNT\"]=='IRL') & (df[\"LANGTEST_QQQ\"] == 313) & (df[\"DURECEC\"]<7)].copy()\n",
    "\n",
    "# extract English-speaking student population in canada\n",
    "# country = df[(df[\"CNT\"]==\"CAN\") & (df[\"LANGTEST_QQQ\"] == 313) & (df[\"DURECEC\"]<7)].copy()\n",
    "\n",
    "country[\"Treatment 1\"] = country[\"DURECEC\"] > 0\n",
    "country[\"Treatment 2\"] = country[\"DURECEC\"] > 1\n",
    "country.shape"
   ]
  },
  {
   "cell_type": "markdown",
   "metadata": {},
   "source": [
    "# Gender \n",
    "The variable ST004D01T represens student gender. The value 1 represents a female while 2 represents a male. "
   ]
  },
  {
   "cell_type": "code",
   "execution_count": 3,
   "metadata": {},
   "outputs": [],
   "source": [
    "def gender_dependency_test(country, treatment):\n",
    "    chi_square, pi_val = chi_square_analysis(country[\"ST004D01T\"], country[treatment])\n",
    "    print(\"Chi square: {}, p-value:{}\".format(chi_square, pi_val))\n",
    "    gender = country.groupby([\"ST004D01T\"])[treatment].agg(['sum', 'mean']).rename(index={1:\"Female\", 2: \"Male\"})\n",
    "    return gender.reset_index().rename(columns={'sum':'{} No.'.format(treatment), \n",
    "                                                'mean': '{} share'.format(treatment),\n",
    "                                                'ST004D01T':'gender'})"
   ]
  },
  {
   "cell_type": "code",
   "execution_count": 52,
   "metadata": {},
   "outputs": [
    {
     "name": "stdout",
     "output_type": "stream",
     "text": [
      "Chi square: 0.702162505615799, p-value:0.4020580136955434\n"
     ]
    },
    {
     "data": {
      "text/html": [
       "<div>\n",
       "<style scoped>\n",
       "    .dataframe tbody tr th:only-of-type {\n",
       "        vertical-align: middle;\n",
       "    }\n",
       "\n",
       "    .dataframe tbody tr th {\n",
       "        vertical-align: top;\n",
       "    }\n",
       "\n",
       "    .dataframe thead th {\n",
       "        text-align: right;\n",
       "    }\n",
       "</style>\n",
       "<table border=\"1\" class=\"dataframe\">\n",
       "  <thead>\n",
       "    <tr style=\"text-align: right;\">\n",
       "      <th></th>\n",
       "      <th>gender</th>\n",
       "      <th>Treatment 1 No.</th>\n",
       "      <th>Treatment 1 share</th>\n",
       "    </tr>\n",
       "  </thead>\n",
       "  <tbody>\n",
       "    <tr>\n",
       "      <th>0</th>\n",
       "      <td>Female</td>\n",
       "      <td>1674</td>\n",
       "      <td>0.974389</td>\n",
       "    </tr>\n",
       "    <tr>\n",
       "      <th>1</th>\n",
       "      <td>Male</td>\n",
       "      <td>1463</td>\n",
       "      <td>0.968874</td>\n",
       "    </tr>\n",
       "  </tbody>\n",
       "</table>\n",
       "</div>"
      ],
      "text/plain": [
       "   gender  Treatment 1 No.  Treatment 1 share\n",
       "0  Female             1674           0.974389\n",
       "1    Male             1463           0.968874"
      ]
     },
     "execution_count": 52,
     "metadata": {},
     "output_type": "execute_result"
    }
   ],
   "source": [
    "# Treatment 1 analysis\n",
    "gender_dependency_test(country, \"Treatment 1\")"
   ]
  },
  {
   "cell_type": "code",
   "execution_count": 5,
   "metadata": {},
   "outputs": [
    {
     "name": "stdout",
     "output_type": "stream",
     "text": [
      "Chi square: 4.748117749671582, p-value:0.029330359952351885\n"
     ]
    },
    {
     "data": {
      "text/html": [
       "<div>\n",
       "<style scoped>\n",
       "    .dataframe tbody tr th:only-of-type {\n",
       "        vertical-align: middle;\n",
       "    }\n",
       "\n",
       "    .dataframe tbody tr th {\n",
       "        vertical-align: top;\n",
       "    }\n",
       "\n",
       "    .dataframe thead th {\n",
       "        text-align: right;\n",
       "    }\n",
       "</style>\n",
       "<table border=\"1\" class=\"dataframe\">\n",
       "  <thead>\n",
       "    <tr style=\"text-align: right;\">\n",
       "      <th></th>\n",
       "      <th>gender</th>\n",
       "      <th>Treatment 2 No.</th>\n",
       "      <th>Treatment 2 share</th>\n",
       "    </tr>\n",
       "  </thead>\n",
       "  <tbody>\n",
       "    <tr>\n",
       "      <th>0</th>\n",
       "      <td>Female</td>\n",
       "      <td>968</td>\n",
       "      <td>0.563446</td>\n",
       "    </tr>\n",
       "    <tr>\n",
       "      <th>1</th>\n",
       "      <td>Male</td>\n",
       "      <td>909</td>\n",
       "      <td>0.601987</td>\n",
       "    </tr>\n",
       "  </tbody>\n",
       "</table>\n",
       "</div>"
      ],
      "text/plain": [
       "   gender  Treatment 2 No.  Treatment 2 share\n",
       "0  Female              968           0.563446\n",
       "1    Male              909           0.601987"
      ]
     },
     "execution_count": 5,
     "metadata": {},
     "output_type": "execute_result"
    }
   ],
   "source": [
    "# Treatment 2 analysis\n",
    "gender_dependency_test(country, \"Treatment 2\")"
   ]
  },
  {
   "cell_type": "markdown",
   "metadata": {},
   "source": [
    "# Year of birth \n",
    "This covariant is irrelevant for the Canada and Ireland samples, as all students in these samples were born in 2002."
   ]
  },
  {
   "cell_type": "code",
   "execution_count": 6,
   "metadata": {},
   "outputs": [],
   "source": [
    "def birth_year_dependency_test(country, treatment):\n",
    "    chi_square, pi_val = chi_square_analysis(country[\"ST003D03T\"], country[treatment])\n",
    "    print(\"Chi square: {}, p-value:{}\".format(chi_square, pi_val))\n",
    "    year = country.groupby([\"ST003D03T\"])[treatment].agg(['sum', 'mean'])\n",
    "    return year.reset_index().rename(columns={'sum':'{} No.'.format(treatment), \n",
    "                                                'mean': '{} share'.format(treatment),\n",
    "                                                'ST003D03T':'Year of birth'})"
   ]
  },
  {
   "cell_type": "code",
   "execution_count": 7,
   "metadata": {},
   "outputs": [
    {
     "name": "stdout",
     "output_type": "stream",
     "text": [
      "Chi square: 0.0, p-value:1.0\n"
     ]
    },
    {
     "data": {
      "text/html": [
       "<div>\n",
       "<style scoped>\n",
       "    .dataframe tbody tr th:only-of-type {\n",
       "        vertical-align: middle;\n",
       "    }\n",
       "\n",
       "    .dataframe tbody tr th {\n",
       "        vertical-align: top;\n",
       "    }\n",
       "\n",
       "    .dataframe thead th {\n",
       "        text-align: right;\n",
       "    }\n",
       "</style>\n",
       "<table border=\"1\" class=\"dataframe\">\n",
       "  <thead>\n",
       "    <tr style=\"text-align: right;\">\n",
       "      <th></th>\n",
       "      <th>Year of birth</th>\n",
       "      <th>Treatment 1 No.</th>\n",
       "      <th>Treatment 1 share</th>\n",
       "    </tr>\n",
       "  </thead>\n",
       "  <tbody>\n",
       "    <tr>\n",
       "      <th>0</th>\n",
       "      <td>2002.0</td>\n",
       "      <td>3137</td>\n",
       "      <td>0.971809</td>\n",
       "    </tr>\n",
       "  </tbody>\n",
       "</table>\n",
       "</div>"
      ],
      "text/plain": [
       "   Year of birth  Treatment 1 No.  Treatment 1 share\n",
       "0         2002.0             3137           0.971809"
      ]
     },
     "execution_count": 7,
     "metadata": {},
     "output_type": "execute_result"
    }
   ],
   "source": [
    "# Treatment 1 analysis\n",
    "birth_year_dependency_test(country, \"Treatment 1\")"
   ]
  },
  {
   "cell_type": "code",
   "execution_count": 8,
   "metadata": {},
   "outputs": [
    {
     "name": "stdout",
     "output_type": "stream",
     "text": [
      "Chi square: 0.0, p-value:1.0\n"
     ]
    },
    {
     "data": {
      "text/html": [
       "<div>\n",
       "<style scoped>\n",
       "    .dataframe tbody tr th:only-of-type {\n",
       "        vertical-align: middle;\n",
       "    }\n",
       "\n",
       "    .dataframe tbody tr th {\n",
       "        vertical-align: top;\n",
       "    }\n",
       "\n",
       "    .dataframe thead th {\n",
       "        text-align: right;\n",
       "    }\n",
       "</style>\n",
       "<table border=\"1\" class=\"dataframe\">\n",
       "  <thead>\n",
       "    <tr style=\"text-align: right;\">\n",
       "      <th></th>\n",
       "      <th>Year of birth</th>\n",
       "      <th>Treatment 2 No.</th>\n",
       "      <th>Treatment 2 share</th>\n",
       "    </tr>\n",
       "  </thead>\n",
       "  <tbody>\n",
       "    <tr>\n",
       "      <th>0</th>\n",
       "      <td>2002.0</td>\n",
       "      <td>1877</td>\n",
       "      <td>0.581475</td>\n",
       "    </tr>\n",
       "  </tbody>\n",
       "</table>\n",
       "</div>"
      ],
      "text/plain": [
       "   Year of birth  Treatment 2 No.  Treatment 2 share\n",
       "0         2002.0             1877           0.581475"
      ]
     },
     "execution_count": 8,
     "metadata": {},
     "output_type": "execute_result"
    }
   ],
   "source": [
    "# Treatment 2 analysis\n",
    "birth_year_dependency_test(country, \"Treatment 2\")"
   ]
  },
  {
   "cell_type": "markdown",
   "metadata": {},
   "source": [
    "# Month of birth"
   ]
  },
  {
   "cell_type": "code",
   "execution_count": 9,
   "metadata": {},
   "outputs": [],
   "source": [
    "def birth_month_dependency_test(country, treatment):\n",
    "    chi_square, pi_val = chi_square_analysis(country[\"ST003D02T\"], country[treatment])\n",
    "    print(\"Chi square: {}, p-value:{}\".format(chi_square, pi_val))\n",
    "    month = country.groupby([\"ST003D02T\"])[treatment].agg(['sum', 'mean'])\n",
    "    return month.reset_index().rename(columns={'sum':'{} No.'.format(treatment), \n",
    "                                                'mean': '{} share'.format(treatment),\n",
    "                                                'ST003D02T':'Month of birth'})"
   ]
  },
  {
   "cell_type": "code",
   "execution_count": 10,
   "metadata": {
    "scrolled": true
   },
   "outputs": [
    {
     "name": "stdout",
     "output_type": "stream",
     "text": [
      "Chi square: 4.112266648121012, p-value:0.9421403286514025\n"
     ]
    },
    {
     "data": {
      "text/html": [
       "<div>\n",
       "<style scoped>\n",
       "    .dataframe tbody tr th:only-of-type {\n",
       "        vertical-align: middle;\n",
       "    }\n",
       "\n",
       "    .dataframe tbody tr th {\n",
       "        vertical-align: top;\n",
       "    }\n",
       "\n",
       "    .dataframe thead th {\n",
       "        text-align: right;\n",
       "    }\n",
       "</style>\n",
       "<table border=\"1\" class=\"dataframe\">\n",
       "  <thead>\n",
       "    <tr style=\"text-align: right;\">\n",
       "      <th></th>\n",
       "      <th>Month of birth</th>\n",
       "      <th>Treatment 1 No.</th>\n",
       "      <th>Treatment 1 share</th>\n",
       "    </tr>\n",
       "  </thead>\n",
       "  <tbody>\n",
       "    <tr>\n",
       "      <th>0</th>\n",
       "      <td>1.0</td>\n",
       "      <td>235</td>\n",
       "      <td>0.955285</td>\n",
       "    </tr>\n",
       "    <tr>\n",
       "      <th>1</th>\n",
       "      <td>2.0</td>\n",
       "      <td>200</td>\n",
       "      <td>0.966184</td>\n",
       "    </tr>\n",
       "    <tr>\n",
       "      <th>2</th>\n",
       "      <td>3.0</td>\n",
       "      <td>260</td>\n",
       "      <td>0.977444</td>\n",
       "    </tr>\n",
       "    <tr>\n",
       "      <th>3</th>\n",
       "      <td>4.0</td>\n",
       "      <td>249</td>\n",
       "      <td>0.968872</td>\n",
       "    </tr>\n",
       "    <tr>\n",
       "      <th>4</th>\n",
       "      <td>5.0</td>\n",
       "      <td>263</td>\n",
       "      <td>0.970480</td>\n",
       "    </tr>\n",
       "    <tr>\n",
       "      <th>5</th>\n",
       "      <td>6.0</td>\n",
       "      <td>270</td>\n",
       "      <td>0.971223</td>\n",
       "    </tr>\n",
       "    <tr>\n",
       "      <th>6</th>\n",
       "      <td>7.0</td>\n",
       "      <td>295</td>\n",
       "      <td>0.973597</td>\n",
       "    </tr>\n",
       "    <tr>\n",
       "      <th>7</th>\n",
       "      <td>8.0</td>\n",
       "      <td>254</td>\n",
       "      <td>0.973180</td>\n",
       "    </tr>\n",
       "    <tr>\n",
       "      <th>8</th>\n",
       "      <td>9.0</td>\n",
       "      <td>312</td>\n",
       "      <td>0.975000</td>\n",
       "    </tr>\n",
       "    <tr>\n",
       "      <th>9</th>\n",
       "      <td>10.0</td>\n",
       "      <td>273</td>\n",
       "      <td>0.975000</td>\n",
       "    </tr>\n",
       "    <tr>\n",
       "      <th>10</th>\n",
       "      <td>11.0</td>\n",
       "      <td>265</td>\n",
       "      <td>0.981481</td>\n",
       "    </tr>\n",
       "    <tr>\n",
       "      <th>11</th>\n",
       "      <td>12.0</td>\n",
       "      <td>261</td>\n",
       "      <td>0.970260</td>\n",
       "    </tr>\n",
       "  </tbody>\n",
       "</table>\n",
       "</div>"
      ],
      "text/plain": [
       "    Month of birth  Treatment 1 No.  Treatment 1 share\n",
       "0              1.0              235           0.955285\n",
       "1              2.0              200           0.966184\n",
       "2              3.0              260           0.977444\n",
       "3              4.0              249           0.968872\n",
       "4              5.0              263           0.970480\n",
       "5              6.0              270           0.971223\n",
       "6              7.0              295           0.973597\n",
       "7              8.0              254           0.973180\n",
       "8              9.0              312           0.975000\n",
       "9             10.0              273           0.975000\n",
       "10            11.0              265           0.981481\n",
       "11            12.0              261           0.970260"
      ]
     },
     "execution_count": 10,
     "metadata": {},
     "output_type": "execute_result"
    }
   ],
   "source": [
    "# Treatment 1 analysis\n",
    "birth_month_dependency_test(country, 'Treatment 1')"
   ]
  },
  {
   "cell_type": "code",
   "execution_count": 11,
   "metadata": {
    "scrolled": true
   },
   "outputs": [
    {
     "name": "stdout",
     "output_type": "stream",
     "text": [
      "Chi square: 65.37113550428629, p-value:9.175677780628961e-10\n"
     ]
    },
    {
     "data": {
      "text/html": [
       "<div>\n",
       "<style scoped>\n",
       "    .dataframe tbody tr th:only-of-type {\n",
       "        vertical-align: middle;\n",
       "    }\n",
       "\n",
       "    .dataframe tbody tr th {\n",
       "        vertical-align: top;\n",
       "    }\n",
       "\n",
       "    .dataframe thead th {\n",
       "        text-align: right;\n",
       "    }\n",
       "</style>\n",
       "<table border=\"1\" class=\"dataframe\">\n",
       "  <thead>\n",
       "    <tr style=\"text-align: right;\">\n",
       "      <th></th>\n",
       "      <th>Month of birth</th>\n",
       "      <th>Treatment 2 No.</th>\n",
       "      <th>Treatment 2 share</th>\n",
       "    </tr>\n",
       "  </thead>\n",
       "  <tbody>\n",
       "    <tr>\n",
       "      <th>0</th>\n",
       "      <td>1.0</td>\n",
       "      <td>132</td>\n",
       "      <td>0.536585</td>\n",
       "    </tr>\n",
       "    <tr>\n",
       "      <th>1</th>\n",
       "      <td>2.0</td>\n",
       "      <td>111</td>\n",
       "      <td>0.536232</td>\n",
       "    </tr>\n",
       "    <tr>\n",
       "      <th>2</th>\n",
       "      <td>3.0</td>\n",
       "      <td>119</td>\n",
       "      <td>0.447368</td>\n",
       "    </tr>\n",
       "    <tr>\n",
       "      <th>3</th>\n",
       "      <td>4.0</td>\n",
       "      <td>152</td>\n",
       "      <td>0.591440</td>\n",
       "    </tr>\n",
       "    <tr>\n",
       "      <th>4</th>\n",
       "      <td>5.0</td>\n",
       "      <td>178</td>\n",
       "      <td>0.656827</td>\n",
       "    </tr>\n",
       "    <tr>\n",
       "      <th>5</th>\n",
       "      <td>6.0</td>\n",
       "      <td>167</td>\n",
       "      <td>0.600719</td>\n",
       "    </tr>\n",
       "    <tr>\n",
       "      <th>6</th>\n",
       "      <td>7.0</td>\n",
       "      <td>197</td>\n",
       "      <td>0.650165</td>\n",
       "    </tr>\n",
       "    <tr>\n",
       "      <th>7</th>\n",
       "      <td>8.0</td>\n",
       "      <td>187</td>\n",
       "      <td>0.716475</td>\n",
       "    </tr>\n",
       "    <tr>\n",
       "      <th>8</th>\n",
       "      <td>9.0</td>\n",
       "      <td>193</td>\n",
       "      <td>0.603125</td>\n",
       "    </tr>\n",
       "    <tr>\n",
       "      <th>9</th>\n",
       "      <td>10.0</td>\n",
       "      <td>140</td>\n",
       "      <td>0.500000</td>\n",
       "    </tr>\n",
       "    <tr>\n",
       "      <th>10</th>\n",
       "      <td>11.0</td>\n",
       "      <td>148</td>\n",
       "      <td>0.548148</td>\n",
       "    </tr>\n",
       "    <tr>\n",
       "      <th>11</th>\n",
       "      <td>12.0</td>\n",
       "      <td>153</td>\n",
       "      <td>0.568773</td>\n",
       "    </tr>\n",
       "  </tbody>\n",
       "</table>\n",
       "</div>"
      ],
      "text/plain": [
       "    Month of birth  Treatment 2 No.  Treatment 2 share\n",
       "0              1.0              132           0.536585\n",
       "1              2.0              111           0.536232\n",
       "2              3.0              119           0.447368\n",
       "3              4.0              152           0.591440\n",
       "4              5.0              178           0.656827\n",
       "5              6.0              167           0.600719\n",
       "6              7.0              197           0.650165\n",
       "7              8.0              187           0.716475\n",
       "8              9.0              193           0.603125\n",
       "9             10.0              140           0.500000\n",
       "10            11.0              148           0.548148\n",
       "11            12.0              153           0.568773"
      ]
     },
     "execution_count": 11,
     "metadata": {},
     "output_type": "execute_result"
    }
   ],
   "source": [
    "# treatment 2 analysis\n",
    "birth_month_dependency_test(country, 'Treatment 2')"
   ]
  },
  {
   "cell_type": "markdown",
   "metadata": {},
   "source": [
    "# Immigration Status"
   ]
  },
  {
   "cell_type": "code",
   "execution_count": 12,
   "metadata": {},
   "outputs": [],
   "source": [
    "def immigration_dependency_test(country, treatment):\n",
    "    chi_square, pi_val = chi_square_analysis(country['IMMIG'], country[treatment])\n",
    "    print(\"Chi square: {}, p-value:{}\".format(chi_square, pi_val))\n",
    "    immig = country.groupby([\"IMMIG\"])[treatment].agg(['sum', 'mean']).rename(index={1:\"Native\", \n",
    "                                                                                  2:\"Second Generation\",\n",
    "                                                                                  3: \"First Generation\"})\n",
    "    return immig.reset_index().rename(columns={'sum':'{} No.'.format(treatment), \n",
    "                                                'mean': '{} share'.format(treatment)})"
   ]
  },
  {
   "cell_type": "code",
   "execution_count": 53,
   "metadata": {
    "scrolled": false
   },
   "outputs": [
    {
     "name": "stdout",
     "output_type": "stream",
     "text": [
      "Chi square: 0.4346931163548648, p-value:0.8046510625733742\n"
     ]
    },
    {
     "data": {
      "text/html": [
       "<div>\n",
       "<style scoped>\n",
       "    .dataframe tbody tr th:only-of-type {\n",
       "        vertical-align: middle;\n",
       "    }\n",
       "\n",
       "    .dataframe tbody tr th {\n",
       "        vertical-align: top;\n",
       "    }\n",
       "\n",
       "    .dataframe thead th {\n",
       "        text-align: right;\n",
       "    }\n",
       "</style>\n",
       "<table border=\"1\" class=\"dataframe\">\n",
       "  <thead>\n",
       "    <tr style=\"text-align: right;\">\n",
       "      <th></th>\n",
       "      <th>IMMIG</th>\n",
       "      <th>Treatment 1 No.</th>\n",
       "      <th>Treatment 1 share</th>\n",
       "    </tr>\n",
       "  </thead>\n",
       "  <tbody>\n",
       "    <tr>\n",
       "      <th>0</th>\n",
       "      <td>Native</td>\n",
       "      <td>2721</td>\n",
       "      <td>0.972480</td>\n",
       "    </tr>\n",
       "    <tr>\n",
       "      <th>1</th>\n",
       "      <td>Second Generation</td>\n",
       "      <td>194</td>\n",
       "      <td>0.970000</td>\n",
       "    </tr>\n",
       "    <tr>\n",
       "      <th>2</th>\n",
       "      <td>First Generation</td>\n",
       "      <td>222</td>\n",
       "      <td>0.965217</td>\n",
       "    </tr>\n",
       "  </tbody>\n",
       "</table>\n",
       "</div>"
      ],
      "text/plain": [
       "               IMMIG  Treatment 1 No.  Treatment 1 share\n",
       "0             Native             2721           0.972480\n",
       "1  Second Generation              194           0.970000\n",
       "2   First Generation              222           0.965217"
      ]
     },
     "execution_count": 53,
     "metadata": {},
     "output_type": "execute_result"
    }
   ],
   "source": [
    "# Treatment 1 analysis\n",
    "immigration_dependency_test(country, \"Treatment 1\")"
   ]
  },
  {
   "cell_type": "code",
   "execution_count": 14,
   "metadata": {},
   "outputs": [
    {
     "name": "stdout",
     "output_type": "stream",
     "text": [
      "Chi square: 4.8875225320450575, p-value:0.08683363207822531\n"
     ]
    },
    {
     "data": {
      "text/html": [
       "<div>\n",
       "<style scoped>\n",
       "    .dataframe tbody tr th:only-of-type {\n",
       "        vertical-align: middle;\n",
       "    }\n",
       "\n",
       "    .dataframe tbody tr th {\n",
       "        vertical-align: top;\n",
       "    }\n",
       "\n",
       "    .dataframe thead th {\n",
       "        text-align: right;\n",
       "    }\n",
       "</style>\n",
       "<table border=\"1\" class=\"dataframe\">\n",
       "  <thead>\n",
       "    <tr style=\"text-align: right;\">\n",
       "      <th></th>\n",
       "      <th>IMMIG</th>\n",
       "      <th>Treatment 2 No.</th>\n",
       "      <th>Treatment 2 share</th>\n",
       "    </tr>\n",
       "  </thead>\n",
       "  <tbody>\n",
       "    <tr>\n",
       "      <th>0</th>\n",
       "      <td>Native</td>\n",
       "      <td>1607</td>\n",
       "      <td>0.574339</td>\n",
       "    </tr>\n",
       "    <tr>\n",
       "      <th>1</th>\n",
       "      <td>Second Generation</td>\n",
       "      <td>122</td>\n",
       "      <td>0.610000</td>\n",
       "    </tr>\n",
       "    <tr>\n",
       "      <th>2</th>\n",
       "      <td>First Generation</td>\n",
       "      <td>148</td>\n",
       "      <td>0.643478</td>\n",
       "    </tr>\n",
       "  </tbody>\n",
       "</table>\n",
       "</div>"
      ],
      "text/plain": [
       "               IMMIG  Treatment 2 No.  Treatment 2 share\n",
       "0             Native             1607           0.574339\n",
       "1  Second Generation              122           0.610000\n",
       "2   First Generation              148           0.643478"
      ]
     },
     "execution_count": 14,
     "metadata": {},
     "output_type": "execute_result"
    }
   ],
   "source": [
    "# Treatment 2 analysis\n",
    "immigration_dependency_test(country, \"Treatment 2\")"
   ]
  },
  {
   "cell_type": "markdown",
   "metadata": {},
   "source": [
    "# Students International Grade"
   ]
  },
  {
   "cell_type": "code",
   "execution_count": 15,
   "metadata": {},
   "outputs": [],
   "source": [
    "def grade_dependency_test(country, treatment):\n",
    "    chi_square, pi_val = chi_square_analysis(country['ST001D01T'], country[treatment])\n",
    "    print(\"Chi square: {}, p-value:{}\".format(chi_square, pi_val))\n",
    "    grade = country.groupby(['ST001D01T'])[treatment].agg(['sum', 'mean'])\n",
    "    return grade.reset_index().rename(columns={'sum':'{} No.'.format(treatment), \n",
    "                                                'mean': '{} share'.format(treatment),\n",
    "                                                'ST001D01T':\"Grade\"})"
   ]
  },
  {
   "cell_type": "code",
   "execution_count": 16,
   "metadata": {
    "scrolled": true
   },
   "outputs": [
    {
     "name": "stdout",
     "output_type": "stream",
     "text": [
      "Chi square: 1.049082143017705, p-value:0.5918269082824679\n"
     ]
    },
    {
     "data": {
      "text/html": [
       "<div>\n",
       "<style scoped>\n",
       "    .dataframe tbody tr th:only-of-type {\n",
       "        vertical-align: middle;\n",
       "    }\n",
       "\n",
       "    .dataframe tbody tr th {\n",
       "        vertical-align: top;\n",
       "    }\n",
       "\n",
       "    .dataframe thead th {\n",
       "        text-align: right;\n",
       "    }\n",
       "</style>\n",
       "<table border=\"1\" class=\"dataframe\">\n",
       "  <thead>\n",
       "    <tr style=\"text-align: right;\">\n",
       "      <th></th>\n",
       "      <th>Grade</th>\n",
       "      <th>Treatment 1 No.</th>\n",
       "      <th>Treatment 1 share</th>\n",
       "    </tr>\n",
       "  </thead>\n",
       "  <tbody>\n",
       "    <tr>\n",
       "      <th>0</th>\n",
       "      <td>7.0</td>\n",
       "      <td>1</td>\n",
       "      <td>1.000000</td>\n",
       "    </tr>\n",
       "    <tr>\n",
       "      <th>1</th>\n",
       "      <td>8.0</td>\n",
       "      <td>43</td>\n",
       "      <td>1.000000</td>\n",
       "    </tr>\n",
       "    <tr>\n",
       "      <th>2</th>\n",
       "      <td>9.0</td>\n",
       "      <td>2055</td>\n",
       "      <td>0.973934</td>\n",
       "    </tr>\n",
       "    <tr>\n",
       "      <th>3</th>\n",
       "      <td>10.0</td>\n",
       "      <td>826</td>\n",
       "      <td>0.967213</td>\n",
       "    </tr>\n",
       "    <tr>\n",
       "      <th>4</th>\n",
       "      <td>11.0</td>\n",
       "      <td>212</td>\n",
       "      <td>0.963636</td>\n",
       "    </tr>\n",
       "  </tbody>\n",
       "</table>\n",
       "</div>"
      ],
      "text/plain": [
       "   Grade  Treatment 1 No.  Treatment 1 share\n",
       "0    7.0                1           1.000000\n",
       "1    8.0               43           1.000000\n",
       "2    9.0             2055           0.973934\n",
       "3   10.0              826           0.967213\n",
       "4   11.0              212           0.963636"
      ]
     },
     "execution_count": 16,
     "metadata": {},
     "output_type": "execute_result"
    }
   ],
   "source": [
    "# Treatment 1 analysis\n",
    "grade_dependency_test(country, \"Treatment 1\")"
   ]
  },
  {
   "cell_type": "code",
   "execution_count": 17,
   "metadata": {},
   "outputs": [
    {
     "name": "stdout",
     "output_type": "stream",
     "text": [
      "Chi square: 57.553350413732886, p-value:1.9578641847446754e-12\n"
     ]
    },
    {
     "data": {
      "text/html": [
       "<div>\n",
       "<style scoped>\n",
       "    .dataframe tbody tr th:only-of-type {\n",
       "        vertical-align: middle;\n",
       "    }\n",
       "\n",
       "    .dataframe tbody tr th {\n",
       "        vertical-align: top;\n",
       "    }\n",
       "\n",
       "    .dataframe thead th {\n",
       "        text-align: right;\n",
       "    }\n",
       "</style>\n",
       "<table border=\"1\" class=\"dataframe\">\n",
       "  <thead>\n",
       "    <tr style=\"text-align: right;\">\n",
       "      <th></th>\n",
       "      <th>Grade</th>\n",
       "      <th>Treatment 2 No.</th>\n",
       "      <th>Treatment 2 share</th>\n",
       "    </tr>\n",
       "  </thead>\n",
       "  <tbody>\n",
       "    <tr>\n",
       "      <th>0</th>\n",
       "      <td>7.0</td>\n",
       "      <td>0</td>\n",
       "      <td>0.000000</td>\n",
       "    </tr>\n",
       "    <tr>\n",
       "      <th>1</th>\n",
       "      <td>8.0</td>\n",
       "      <td>32</td>\n",
       "      <td>0.744186</td>\n",
       "    </tr>\n",
       "    <tr>\n",
       "      <th>2</th>\n",
       "      <td>9.0</td>\n",
       "      <td>1319</td>\n",
       "      <td>0.625118</td>\n",
       "    </tr>\n",
       "    <tr>\n",
       "      <th>3</th>\n",
       "      <td>10.0</td>\n",
       "      <td>420</td>\n",
       "      <td>0.491803</td>\n",
       "    </tr>\n",
       "    <tr>\n",
       "      <th>4</th>\n",
       "      <td>11.0</td>\n",
       "      <td>106</td>\n",
       "      <td>0.481818</td>\n",
       "    </tr>\n",
       "  </tbody>\n",
       "</table>\n",
       "</div>"
      ],
      "text/plain": [
       "   Grade  Treatment 2 No.  Treatment 2 share\n",
       "0    7.0                0           0.000000\n",
       "1    8.0               32           0.744186\n",
       "2    9.0             1319           0.625118\n",
       "3   10.0              420           0.491803\n",
       "4   11.0              106           0.481818"
      ]
     },
     "execution_count": 17,
     "metadata": {},
     "output_type": "execute_result"
    }
   ],
   "source": [
    "# Treatment 2 analysis\n",
    "grade_dependency_test(country, \"Treatment 2\")"
   ]
  },
  {
   "cell_type": "markdown",
   "metadata": {},
   "source": [
    "# Mother Education (ISCED level)"
   ]
  },
  {
   "cell_type": "code",
   "execution_count": 18,
   "metadata": {},
   "outputs": [],
   "source": [
    "def education_independence_test(country, covariate, treatment):\n",
    "    chi_square, pi_val = chi_square_analysis(country[covariate], country[treatment])\n",
    "    print(\"Chi square: {}, p-value:{}\".format(chi_square, pi_val))\n",
    "    edu= country.groupby([covariate])[treatment].agg(['sum', 'mean']).rename(index={0:'None',1: 'ISCED 1',\n",
    "                                                                                   2: 'ISCED 2', 3: 'ISCED 3B,C',\n",
    "                                                                                   4: 'ISCED 3A, ISCED 4', \n",
    "                                                                                   5: 'ISCED 5B', \n",
    "                                                                                   6: 'ISCED 5A, 6'})\n",
    "    return edu.reset_index().rename(columns={'sum':'{} No.'.format(treatment), \n",
    "                                             'mean': '{} share'.format(treatment)})"
   ]
  },
  {
   "cell_type": "code",
   "execution_count": 19,
   "metadata": {
    "scrolled": true
   },
   "outputs": [
    {
     "name": "stdout",
     "output_type": "stream",
     "text": [
      "Chi square: 6.622465356228217, p-value:0.08495589574337858\n"
     ]
    },
    {
     "data": {
      "text/html": [
       "<div>\n",
       "<style scoped>\n",
       "    .dataframe tbody tr th:only-of-type {\n",
       "        vertical-align: middle;\n",
       "    }\n",
       "\n",
       "    .dataframe tbody tr th {\n",
       "        vertical-align: top;\n",
       "    }\n",
       "\n",
       "    .dataframe thead th {\n",
       "        text-align: right;\n",
       "    }\n",
       "</style>\n",
       "<table border=\"1\" class=\"dataframe\">\n",
       "  <thead>\n",
       "    <tr style=\"text-align: right;\">\n",
       "      <th></th>\n",
       "      <th>MISCED</th>\n",
       "      <th>Treatment 1 No.</th>\n",
       "      <th>Treatment 1 share</th>\n",
       "    </tr>\n",
       "  </thead>\n",
       "  <tbody>\n",
       "    <tr>\n",
       "      <th>0</th>\n",
       "      <td>None</td>\n",
       "      <td>7</td>\n",
       "      <td>1.000000</td>\n",
       "    </tr>\n",
       "    <tr>\n",
       "      <th>1</th>\n",
       "      <td>ISCED 1</td>\n",
       "      <td>28</td>\n",
       "      <td>0.933333</td>\n",
       "    </tr>\n",
       "    <tr>\n",
       "      <th>2</th>\n",
       "      <td>ISCED 2</td>\n",
       "      <td>191</td>\n",
       "      <td>0.979487</td>\n",
       "    </tr>\n",
       "    <tr>\n",
       "      <th>3</th>\n",
       "      <td>ISCED 3B,C</td>\n",
       "      <td>75</td>\n",
       "      <td>0.937500</td>\n",
       "    </tr>\n",
       "    <tr>\n",
       "      <th>4</th>\n",
       "      <td>ISCED 3A, ISCED 4</td>\n",
       "      <td>996</td>\n",
       "      <td>0.965116</td>\n",
       "    </tr>\n",
       "    <tr>\n",
       "      <th>5</th>\n",
       "      <td>ISCED 5B</td>\n",
       "      <td>617</td>\n",
       "      <td>0.985623</td>\n",
       "    </tr>\n",
       "    <tr>\n",
       "      <th>6</th>\n",
       "      <td>ISCED 5A, 6</td>\n",
       "      <td>1223</td>\n",
       "      <td>0.972178</td>\n",
       "    </tr>\n",
       "  </tbody>\n",
       "</table>\n",
       "</div>"
      ],
      "text/plain": [
       "              MISCED  Treatment 1 No.  Treatment 1 share\n",
       "0               None                7           1.000000\n",
       "1            ISCED 1               28           0.933333\n",
       "2            ISCED 2              191           0.979487\n",
       "3         ISCED 3B,C               75           0.937500\n",
       "4  ISCED 3A, ISCED 4              996           0.965116\n",
       "5           ISCED 5B              617           0.985623\n",
       "6        ISCED 5A, 6             1223           0.972178"
      ]
     },
     "execution_count": 19,
     "metadata": {},
     "output_type": "execute_result"
    }
   ],
   "source": [
    "# Treatment 1 analysis\n",
    "education_independence_test(country, 'MISCED', \"Treatment 1\")"
   ]
  },
  {
   "cell_type": "code",
   "execution_count": 20,
   "metadata": {
    "scrolled": true
   },
   "outputs": [
    {
     "name": "stdout",
     "output_type": "stream",
     "text": [
      "Chi square: 20.34048865413816, p-value:0.0010785645487448423\n"
     ]
    },
    {
     "data": {
      "text/html": [
       "<div>\n",
       "<style scoped>\n",
       "    .dataframe tbody tr th:only-of-type {\n",
       "        vertical-align: middle;\n",
       "    }\n",
       "\n",
       "    .dataframe tbody tr th {\n",
       "        vertical-align: top;\n",
       "    }\n",
       "\n",
       "    .dataframe thead th {\n",
       "        text-align: right;\n",
       "    }\n",
       "</style>\n",
       "<table border=\"1\" class=\"dataframe\">\n",
       "  <thead>\n",
       "    <tr style=\"text-align: right;\">\n",
       "      <th></th>\n",
       "      <th>MISCED</th>\n",
       "      <th>Treatment 2 No.</th>\n",
       "      <th>Treatment 2 share</th>\n",
       "    </tr>\n",
       "  </thead>\n",
       "  <tbody>\n",
       "    <tr>\n",
       "      <th>0</th>\n",
       "      <td>None</td>\n",
       "      <td>5</td>\n",
       "      <td>0.714286</td>\n",
       "    </tr>\n",
       "    <tr>\n",
       "      <th>1</th>\n",
       "      <td>ISCED 1</td>\n",
       "      <td>17</td>\n",
       "      <td>0.566667</td>\n",
       "    </tr>\n",
       "    <tr>\n",
       "      <th>2</th>\n",
       "      <td>ISCED 2</td>\n",
       "      <td>96</td>\n",
       "      <td>0.492308</td>\n",
       "    </tr>\n",
       "    <tr>\n",
       "      <th>3</th>\n",
       "      <td>ISCED 3B,C</td>\n",
       "      <td>47</td>\n",
       "      <td>0.587500</td>\n",
       "    </tr>\n",
       "    <tr>\n",
       "      <th>4</th>\n",
       "      <td>ISCED 3A, ISCED 4</td>\n",
       "      <td>559</td>\n",
       "      <td>0.541667</td>\n",
       "    </tr>\n",
       "    <tr>\n",
       "      <th>5</th>\n",
       "      <td>ISCED 5B</td>\n",
       "      <td>383</td>\n",
       "      <td>0.611821</td>\n",
       "    </tr>\n",
       "    <tr>\n",
       "      <th>6</th>\n",
       "      <td>ISCED 5A, 6</td>\n",
       "      <td>770</td>\n",
       "      <td>0.612083</td>\n",
       "    </tr>\n",
       "  </tbody>\n",
       "</table>\n",
       "</div>"
      ],
      "text/plain": [
       "              MISCED  Treatment 2 No.  Treatment 2 share\n",
       "0               None                5           0.714286\n",
       "1            ISCED 1               17           0.566667\n",
       "2            ISCED 2               96           0.492308\n",
       "3         ISCED 3B,C               47           0.587500\n",
       "4  ISCED 3A, ISCED 4              559           0.541667\n",
       "5           ISCED 5B              383           0.611821\n",
       "6        ISCED 5A, 6              770           0.612083"
      ]
     },
     "execution_count": 20,
     "metadata": {},
     "output_type": "execute_result"
    }
   ],
   "source": [
    "# Treatment 2 Analysis\n",
    "education_independence_test(country, 'MISCED', \"Treatment 2\")"
   ]
  },
  {
   "cell_type": "markdown",
   "metadata": {},
   "source": [
    "# Father Education (ISCED level)"
   ]
  },
  {
   "cell_type": "code",
   "execution_count": 21,
   "metadata": {
    "scrolled": false
   },
   "outputs": [
    {
     "name": "stdout",
     "output_type": "stream",
     "text": [
      "Chi square: 3.396711197700789, p-value:0.4937563762917513\n"
     ]
    },
    {
     "data": {
      "text/html": [
       "<div>\n",
       "<style scoped>\n",
       "    .dataframe tbody tr th:only-of-type {\n",
       "        vertical-align: middle;\n",
       "    }\n",
       "\n",
       "    .dataframe tbody tr th {\n",
       "        vertical-align: top;\n",
       "    }\n",
       "\n",
       "    .dataframe thead th {\n",
       "        text-align: right;\n",
       "    }\n",
       "</style>\n",
       "<table border=\"1\" class=\"dataframe\">\n",
       "  <thead>\n",
       "    <tr style=\"text-align: right;\">\n",
       "      <th></th>\n",
       "      <th>FISCED</th>\n",
       "      <th>Treatment 1 No.</th>\n",
       "      <th>Treatment 1 share</th>\n",
       "    </tr>\n",
       "  </thead>\n",
       "  <tbody>\n",
       "    <tr>\n",
       "      <th>0</th>\n",
       "      <td>None</td>\n",
       "      <td>9</td>\n",
       "      <td>0.900000</td>\n",
       "    </tr>\n",
       "    <tr>\n",
       "      <th>1</th>\n",
       "      <td>ISCED 1</td>\n",
       "      <td>74</td>\n",
       "      <td>0.936709</td>\n",
       "    </tr>\n",
       "    <tr>\n",
       "      <th>2</th>\n",
       "      <td>ISCED 2</td>\n",
       "      <td>331</td>\n",
       "      <td>0.967836</td>\n",
       "    </tr>\n",
       "    <tr>\n",
       "      <th>3</th>\n",
       "      <td>ISCED 3B,C</td>\n",
       "      <td>65</td>\n",
       "      <td>0.984848</td>\n",
       "    </tr>\n",
       "    <tr>\n",
       "      <th>4</th>\n",
       "      <td>ISCED 3A, ISCED 4</td>\n",
       "      <td>1023</td>\n",
       "      <td>0.969668</td>\n",
       "    </tr>\n",
       "    <tr>\n",
       "      <th>5</th>\n",
       "      <td>ISCED 5B</td>\n",
       "      <td>576</td>\n",
       "      <td>0.979592</td>\n",
       "    </tr>\n",
       "    <tr>\n",
       "      <th>6</th>\n",
       "      <td>ISCED 5A, 6</td>\n",
       "      <td>1059</td>\n",
       "      <td>0.973346</td>\n",
       "    </tr>\n",
       "  </tbody>\n",
       "</table>\n",
       "</div>"
      ],
      "text/plain": [
       "              FISCED  Treatment 1 No.  Treatment 1 share\n",
       "0               None                9           0.900000\n",
       "1            ISCED 1               74           0.936709\n",
       "2            ISCED 2              331           0.967836\n",
       "3         ISCED 3B,C               65           0.984848\n",
       "4  ISCED 3A, ISCED 4             1023           0.969668\n",
       "5           ISCED 5B              576           0.979592\n",
       "6        ISCED 5A, 6             1059           0.973346"
      ]
     },
     "execution_count": 21,
     "metadata": {},
     "output_type": "execute_result"
    }
   ],
   "source": [
    "# Treatment 1 analysis\n",
    "education_independence_test(country, 'FISCED', \"Treatment 1\")"
   ]
  },
  {
   "cell_type": "code",
   "execution_count": 22,
   "metadata": {
    "scrolled": true
   },
   "outputs": [
    {
     "name": "stdout",
     "output_type": "stream",
     "text": [
      "Chi square: 15.025775990437191, p-value:0.010252767028775726\n"
     ]
    },
    {
     "data": {
      "text/html": [
       "<div>\n",
       "<style scoped>\n",
       "    .dataframe tbody tr th:only-of-type {\n",
       "        vertical-align: middle;\n",
       "    }\n",
       "\n",
       "    .dataframe tbody tr th {\n",
       "        vertical-align: top;\n",
       "    }\n",
       "\n",
       "    .dataframe thead th {\n",
       "        text-align: right;\n",
       "    }\n",
       "</style>\n",
       "<table border=\"1\" class=\"dataframe\">\n",
       "  <thead>\n",
       "    <tr style=\"text-align: right;\">\n",
       "      <th></th>\n",
       "      <th>FISCED</th>\n",
       "      <th>Treatment 2 No.</th>\n",
       "      <th>Treatment 2 share</th>\n",
       "    </tr>\n",
       "  </thead>\n",
       "  <tbody>\n",
       "    <tr>\n",
       "      <th>0</th>\n",
       "      <td>None</td>\n",
       "      <td>5</td>\n",
       "      <td>0.500000</td>\n",
       "    </tr>\n",
       "    <tr>\n",
       "      <th>1</th>\n",
       "      <td>ISCED 1</td>\n",
       "      <td>42</td>\n",
       "      <td>0.531646</td>\n",
       "    </tr>\n",
       "    <tr>\n",
       "      <th>2</th>\n",
       "      <td>ISCED 2</td>\n",
       "      <td>174</td>\n",
       "      <td>0.508772</td>\n",
       "    </tr>\n",
       "    <tr>\n",
       "      <th>3</th>\n",
       "      <td>ISCED 3B,C</td>\n",
       "      <td>40</td>\n",
       "      <td>0.606061</td>\n",
       "    </tr>\n",
       "    <tr>\n",
       "      <th>4</th>\n",
       "      <td>ISCED 3A, ISCED 4</td>\n",
       "      <td>596</td>\n",
       "      <td>0.564929</td>\n",
       "    </tr>\n",
       "    <tr>\n",
       "      <th>5</th>\n",
       "      <td>ISCED 5B</td>\n",
       "      <td>351</td>\n",
       "      <td>0.596939</td>\n",
       "    </tr>\n",
       "    <tr>\n",
       "      <th>6</th>\n",
       "      <td>ISCED 5A, 6</td>\n",
       "      <td>669</td>\n",
       "      <td>0.614890</td>\n",
       "    </tr>\n",
       "  </tbody>\n",
       "</table>\n",
       "</div>"
      ],
      "text/plain": [
       "              FISCED  Treatment 2 No.  Treatment 2 share\n",
       "0               None                5           0.500000\n",
       "1            ISCED 1               42           0.531646\n",
       "2            ISCED 2              174           0.508772\n",
       "3         ISCED 3B,C               40           0.606061\n",
       "4  ISCED 3A, ISCED 4              596           0.564929\n",
       "5           ISCED 5B              351           0.596939\n",
       "6        ISCED 5A, 6              669           0.614890"
      ]
     },
     "execution_count": 22,
     "metadata": {},
     "output_type": "execute_result"
    }
   ],
   "source": [
    "# Treatment Analysis 2\n",
    "education_independence_test(country, 'FISCED', \"Treatment 2\")"
   ]
  },
  {
   "cell_type": "markdown",
   "metadata": {},
   "source": [
    "# Language used at home\n",
    "This measure is based on the question \"What language do you speak at home most of the time?\". Possible values:\n",
    "1. Language of test\n",
    "2. Other language."
   ]
  },
  {
   "cell_type": "code",
   "execution_count": 23,
   "metadata": {},
   "outputs": [],
   "source": [
    "def language_independence_test(country, treatment):\n",
    "    chi_square, pi_val = chi_square_analysis(country['ST022Q01TA'], country[treatment])\n",
    "    print(\"Chi square: {}, p-value:{}\".format(chi_square, pi_val))\n",
    "    language = country.groupby(['ST022Q01TA'])[treatment].agg(['sum', 'mean']).rename(index={1:\"Language of test\", \n",
    "                                                                                    2:\"other language\"})\n",
    "    return language.reset_index().rename(columns={'sum':'{} No.'.format(treatment), \n",
    "                                               'mean': '{} share'.format(treatment),\n",
    "                                                 'ST022Q01TA': 'Language used at home'})"
   ]
  },
  {
   "cell_type": "code",
   "execution_count": 24,
   "metadata": {},
   "outputs": [
    {
     "name": "stdout",
     "output_type": "stream",
     "text": [
      "Chi square: 0.0, p-value:1.0\n"
     ]
    },
    {
     "data": {
      "text/html": [
       "<div>\n",
       "<style scoped>\n",
       "    .dataframe tbody tr th:only-of-type {\n",
       "        vertical-align: middle;\n",
       "    }\n",
       "\n",
       "    .dataframe tbody tr th {\n",
       "        vertical-align: top;\n",
       "    }\n",
       "\n",
       "    .dataframe thead th {\n",
       "        text-align: right;\n",
       "    }\n",
       "</style>\n",
       "<table border=\"1\" class=\"dataframe\">\n",
       "  <thead>\n",
       "    <tr style=\"text-align: right;\">\n",
       "      <th></th>\n",
       "      <th>Language used at home</th>\n",
       "      <th>Treatment 1 No.</th>\n",
       "      <th>Treatment 1 share</th>\n",
       "    </tr>\n",
       "  </thead>\n",
       "  <tbody>\n",
       "    <tr>\n",
       "      <th>0</th>\n",
       "      <td>Language of test</td>\n",
       "      <td>2941</td>\n",
       "      <td>0.971589</td>\n",
       "    </tr>\n",
       "    <tr>\n",
       "      <th>1</th>\n",
       "      <td>other language</td>\n",
       "      <td>196</td>\n",
       "      <td>0.975124</td>\n",
       "    </tr>\n",
       "  </tbody>\n",
       "</table>\n",
       "</div>"
      ],
      "text/plain": [
       "  Language used at home  Treatment 1 No.  Treatment 1 share\n",
       "0      Language of test             2941           0.971589\n",
       "1        other language              196           0.975124"
      ]
     },
     "execution_count": 24,
     "metadata": {},
     "output_type": "execute_result"
    }
   ],
   "source": [
    "# Treatment 1 analysis\n",
    "language_independence_test(country, 'Treatment 1')"
   ]
  },
  {
   "cell_type": "code",
   "execution_count": 25,
   "metadata": {
    "scrolled": true
   },
   "outputs": [
    {
     "name": "stdout",
     "output_type": "stream",
     "text": [
      "Chi square: 3.47407617497129, p-value:0.06233752096782575\n"
     ]
    },
    {
     "data": {
      "text/html": [
       "<div>\n",
       "<style scoped>\n",
       "    .dataframe tbody tr th:only-of-type {\n",
       "        vertical-align: middle;\n",
       "    }\n",
       "\n",
       "    .dataframe tbody tr th {\n",
       "        vertical-align: top;\n",
       "    }\n",
       "\n",
       "    .dataframe thead th {\n",
       "        text-align: right;\n",
       "    }\n",
       "</style>\n",
       "<table border=\"1\" class=\"dataframe\">\n",
       "  <thead>\n",
       "    <tr style=\"text-align: right;\">\n",
       "      <th></th>\n",
       "      <th>Language used at home</th>\n",
       "      <th>Treatment 2 No.</th>\n",
       "      <th>Treatment 2 share</th>\n",
       "    </tr>\n",
       "  </thead>\n",
       "  <tbody>\n",
       "    <tr>\n",
       "      <th>0</th>\n",
       "      <td>Language of test</td>\n",
       "      <td>1747</td>\n",
       "      <td>0.577139</td>\n",
       "    </tr>\n",
       "    <tr>\n",
       "      <th>1</th>\n",
       "      <td>other language</td>\n",
       "      <td>130</td>\n",
       "      <td>0.646766</td>\n",
       "    </tr>\n",
       "  </tbody>\n",
       "</table>\n",
       "</div>"
      ],
      "text/plain": [
       "  Language used at home  Treatment 2 No.  Treatment 2 share\n",
       "0      Language of test             1747           0.577139\n",
       "1        other language              130           0.646766"
      ]
     },
     "execution_count": 25,
     "metadata": {},
     "output_type": "execute_result"
    }
   ],
   "source": [
    "# Treatment 2 analysis\n",
    "language_independence_test(country, 'Treatment 2')"
   ]
  },
  {
   "cell_type": "markdown",
   "metadata": {},
   "source": [
    "# Socio-economic index (ESCS)"
   ]
  },
  {
   "cell_type": "code",
   "execution_count": 26,
   "metadata": {},
   "outputs": [],
   "source": [
    "def escs_independence_test(country, treatment):\n",
    "    country[\"ESCS_quartiles\"] = pd.qcut(country[\"ESCS\"], 4, labels=['Q1','Q2','Q3', 'Q4'])\n",
    "    chi_square, pi_val = chi_square_analysis(country['ESCS_quartiles'], country[treatment])\n",
    "    print(\"Chi square: {}, p-value:{}\".format(chi_square, pi_val))\n",
    "    escs = country.groupby(['ESCS_quartiles'])[treatment].agg(['sum', 'mean'])\n",
    "    return escs.reset_index().rename(columns={'sum':'{} No.'.format(treatment), \n",
    "                                               'mean': '{} share'.format(treatment)})\n",
    "\n"
   ]
  },
  {
   "cell_type": "code",
   "execution_count": 27,
   "metadata": {},
   "outputs": [
    {
     "name": "stdout",
     "output_type": "stream",
     "text": [
      "Chi square: 5.2807364774212076, p-value:0.1523572671777357\n"
     ]
    },
    {
     "data": {
      "text/html": [
       "<div>\n",
       "<style scoped>\n",
       "    .dataframe tbody tr th:only-of-type {\n",
       "        vertical-align: middle;\n",
       "    }\n",
       "\n",
       "    .dataframe tbody tr th {\n",
       "        vertical-align: top;\n",
       "    }\n",
       "\n",
       "    .dataframe thead th {\n",
       "        text-align: right;\n",
       "    }\n",
       "</style>\n",
       "<table border=\"1\" class=\"dataframe\">\n",
       "  <thead>\n",
       "    <tr style=\"text-align: right;\">\n",
       "      <th></th>\n",
       "      <th>ESCS_quartiles</th>\n",
       "      <th>Treatment 1 No.</th>\n",
       "      <th>Treatment 1 share</th>\n",
       "    </tr>\n",
       "  </thead>\n",
       "  <tbody>\n",
       "    <tr>\n",
       "      <th>0</th>\n",
       "      <td>Q1</td>\n",
       "      <td>778</td>\n",
       "      <td>0.964064</td>\n",
       "    </tr>\n",
       "    <tr>\n",
       "      <th>1</th>\n",
       "      <td>Q2</td>\n",
       "      <td>791</td>\n",
       "      <td>0.980173</td>\n",
       "    </tr>\n",
       "    <tr>\n",
       "      <th>2</th>\n",
       "      <td>Q3</td>\n",
       "      <td>780</td>\n",
       "      <td>0.966543</td>\n",
       "    </tr>\n",
       "    <tr>\n",
       "      <th>3</th>\n",
       "      <td>Q4</td>\n",
       "      <td>788</td>\n",
       "      <td>0.976456</td>\n",
       "    </tr>\n",
       "  </tbody>\n",
       "</table>\n",
       "</div>"
      ],
      "text/plain": [
       "  ESCS_quartiles  Treatment 1 No.  Treatment 1 share\n",
       "0             Q1              778           0.964064\n",
       "1             Q2              791           0.980173\n",
       "2             Q3              780           0.966543\n",
       "3             Q4              788           0.976456"
      ]
     },
     "execution_count": 27,
     "metadata": {},
     "output_type": "execute_result"
    }
   ],
   "source": [
    "# Treatment 1 analysis\n",
    "escs_independence_test(country, 'Treatment 1')"
   ]
  },
  {
   "cell_type": "code",
   "execution_count": 28,
   "metadata": {
    "scrolled": false
   },
   "outputs": [
    {
     "name": "stdout",
     "output_type": "stream",
     "text": [
      "Chi square: 21.39968854342193, p-value:8.69545936604138e-05\n"
     ]
    },
    {
     "data": {
      "text/html": [
       "<div>\n",
       "<style scoped>\n",
       "    .dataframe tbody tr th:only-of-type {\n",
       "        vertical-align: middle;\n",
       "    }\n",
       "\n",
       "    .dataframe tbody tr th {\n",
       "        vertical-align: top;\n",
       "    }\n",
       "\n",
       "    .dataframe thead th {\n",
       "        text-align: right;\n",
       "    }\n",
       "</style>\n",
       "<table border=\"1\" class=\"dataframe\">\n",
       "  <thead>\n",
       "    <tr style=\"text-align: right;\">\n",
       "      <th></th>\n",
       "      <th>ESCS_quartiles</th>\n",
       "      <th>Treatment 2 No.</th>\n",
       "      <th>Treatment 2 share</th>\n",
       "    </tr>\n",
       "  </thead>\n",
       "  <tbody>\n",
       "    <tr>\n",
       "      <th>0</th>\n",
       "      <td>Q1</td>\n",
       "      <td>432</td>\n",
       "      <td>0.535316</td>\n",
       "    </tr>\n",
       "    <tr>\n",
       "      <th>1</th>\n",
       "      <td>Q2</td>\n",
       "      <td>458</td>\n",
       "      <td>0.567534</td>\n",
       "    </tr>\n",
       "    <tr>\n",
       "      <th>2</th>\n",
       "      <td>Q3</td>\n",
       "      <td>466</td>\n",
       "      <td>0.577447</td>\n",
       "    </tr>\n",
       "    <tr>\n",
       "      <th>3</th>\n",
       "      <td>Q4</td>\n",
       "      <td>521</td>\n",
       "      <td>0.645601</td>\n",
       "    </tr>\n",
       "  </tbody>\n",
       "</table>\n",
       "</div>"
      ],
      "text/plain": [
       "  ESCS_quartiles  Treatment 2 No.  Treatment 2 share\n",
       "0             Q1              432           0.535316\n",
       "1             Q2              458           0.567534\n",
       "2             Q3              466           0.577447\n",
       "3             Q4              521           0.645601"
      ]
     },
     "execution_count": 28,
     "metadata": {},
     "output_type": "execute_result"
    }
   ],
   "source": [
    "# Treatment 2 analysis\n",
    "escs_independence_test(country, 'Treatment 2')"
   ]
  },
  {
   "cell_type": "markdown",
   "metadata": {},
   "source": [
    "# Primary start age ( ST126Q01TA)\n",
    "This measure is based on the question \"how old where you when you started <ISCED 1>? Years\". Possible values are as follows: \n",
    "1. 3 years old or younger\n",
    "2. 4 years old\n",
    "3. 5 years old\n",
    "4. 6 years old\n",
    "5. 7 years old\n",
    "6. 8 years old \n",
    "7. 9 years old or older"
   ]
  },
  {
   "cell_type": "code",
   "execution_count": 29,
   "metadata": {},
   "outputs": [],
   "source": [
    "def primary_start_independence_test(country, treatment):\n",
    "    chi_square, pi_val = chi_square_analysis(country['ST126Q01TA'], country[treatment])\n",
    "    print(\"Chi square: {}, p-value:{}\".format(chi_square, pi_val))\n",
    "    start_age = country.groupby(['ST126Q01TA'])[treatment].agg(['sum', 'mean']).rename(index={1: '3 years or younger',\n",
    "                                                                                   2: '4 years', 3: '5 years',\n",
    "                                                                                   4: '6 years', \n",
    "                                                                                   5: '7 years', \n",
    "                                                                                   6: '8 years',\n",
    "                                                                                   7: '9 years or older'})\n",
    "    return start_age.reset_index().rename(columns={'sum':'{} No.'.format(treatment),\n",
    "                                                   'mean': '{} share'.format(treatment), \n",
    "                                                   'ST126Q01TA':'Primary start age'})\n",
    "    "
   ]
  },
  {
   "cell_type": "code",
   "execution_count": 30,
   "metadata": {},
   "outputs": [
    {
     "name": "stdout",
     "output_type": "stream",
     "text": [
      "Chi square: 10.176642344995804, p-value:0.001422309511628427\n"
     ]
    },
    {
     "data": {
      "text/html": [
       "<div>\n",
       "<style scoped>\n",
       "    .dataframe tbody tr th:only-of-type {\n",
       "        vertical-align: middle;\n",
       "    }\n",
       "\n",
       "    .dataframe tbody tr th {\n",
       "        vertical-align: top;\n",
       "    }\n",
       "\n",
       "    .dataframe thead th {\n",
       "        text-align: right;\n",
       "    }\n",
       "</style>\n",
       "<table border=\"1\" class=\"dataframe\">\n",
       "  <thead>\n",
       "    <tr style=\"text-align: right;\">\n",
       "      <th></th>\n",
       "      <th>Primary start age</th>\n",
       "      <th>Treatment 1 No.</th>\n",
       "      <th>Treatment 1 share</th>\n",
       "    </tr>\n",
       "  </thead>\n",
       "  <tbody>\n",
       "    <tr>\n",
       "      <th>0</th>\n",
       "      <td>4 years</td>\n",
       "      <td>1415</td>\n",
       "      <td>0.955436</td>\n",
       "    </tr>\n",
       "    <tr>\n",
       "      <th>1</th>\n",
       "      <td>5 years</td>\n",
       "      <td>1336</td>\n",
       "      <td>0.983076</td>\n",
       "    </tr>\n",
       "    <tr>\n",
       "      <th>2</th>\n",
       "      <td>6 years</td>\n",
       "      <td>245</td>\n",
       "      <td>0.991903</td>\n",
       "    </tr>\n",
       "    <tr>\n",
       "      <th>3</th>\n",
       "      <td>7 years</td>\n",
       "      <td>105</td>\n",
       "      <td>1.000000</td>\n",
       "    </tr>\n",
       "    <tr>\n",
       "      <th>4</th>\n",
       "      <td>8 years</td>\n",
       "      <td>27</td>\n",
       "      <td>1.000000</td>\n",
       "    </tr>\n",
       "    <tr>\n",
       "      <th>5</th>\n",
       "      <td>9 years or older</td>\n",
       "      <td>9</td>\n",
       "      <td>1.000000</td>\n",
       "    </tr>\n",
       "  </tbody>\n",
       "</table>\n",
       "</div>"
      ],
      "text/plain": [
       "  Primary start age  Treatment 1 No.  Treatment 1 share\n",
       "0           4 years             1415           0.955436\n",
       "1           5 years             1336           0.983076\n",
       "2           6 years              245           0.991903\n",
       "3           7 years              105           1.000000\n",
       "4           8 years               27           1.000000\n",
       "5  9 years or older                9           1.000000"
      ]
     },
     "execution_count": 30,
     "metadata": {},
     "output_type": "execute_result"
    }
   ],
   "source": [
    "# Treatment 1 Analysis\n",
    "primary_start_independence_test(country, \"Treatment 1\")"
   ]
  },
  {
   "cell_type": "code",
   "execution_count": 31,
   "metadata": {},
   "outputs": [
    {
     "name": "stdout",
     "output_type": "stream",
     "text": [
      "Chi square: 357.1241828854779, p-value:4.2759214821714205e-77\n"
     ]
    },
    {
     "data": {
      "text/html": [
       "<div>\n",
       "<style scoped>\n",
       "    .dataframe tbody tr th:only-of-type {\n",
       "        vertical-align: middle;\n",
       "    }\n",
       "\n",
       "    .dataframe tbody tr th {\n",
       "        vertical-align: top;\n",
       "    }\n",
       "\n",
       "    .dataframe thead th {\n",
       "        text-align: right;\n",
       "    }\n",
       "</style>\n",
       "<table border=\"1\" class=\"dataframe\">\n",
       "  <thead>\n",
       "    <tr style=\"text-align: right;\">\n",
       "      <th></th>\n",
       "      <th>Primary start age</th>\n",
       "      <th>Treatment 2 No.</th>\n",
       "      <th>Treatment 2 share</th>\n",
       "    </tr>\n",
       "  </thead>\n",
       "  <tbody>\n",
       "    <tr>\n",
       "      <th>0</th>\n",
       "      <td>4 years</td>\n",
       "      <td>614</td>\n",
       "      <td>0.414585</td>\n",
       "    </tr>\n",
       "    <tr>\n",
       "      <th>1</th>\n",
       "      <td>5 years</td>\n",
       "      <td>927</td>\n",
       "      <td>0.682119</td>\n",
       "    </tr>\n",
       "    <tr>\n",
       "      <th>2</th>\n",
       "      <td>6 years</td>\n",
       "      <td>204</td>\n",
       "      <td>0.825911</td>\n",
       "    </tr>\n",
       "    <tr>\n",
       "      <th>3</th>\n",
       "      <td>7 years</td>\n",
       "      <td>96</td>\n",
       "      <td>0.914286</td>\n",
       "    </tr>\n",
       "    <tr>\n",
       "      <th>4</th>\n",
       "      <td>8 years</td>\n",
       "      <td>27</td>\n",
       "      <td>1.000000</td>\n",
       "    </tr>\n",
       "    <tr>\n",
       "      <th>5</th>\n",
       "      <td>9 years or older</td>\n",
       "      <td>9</td>\n",
       "      <td>1.000000</td>\n",
       "    </tr>\n",
       "  </tbody>\n",
       "</table>\n",
       "</div>"
      ],
      "text/plain": [
       "  Primary start age  Treatment 2 No.  Treatment 2 share\n",
       "0           4 years              614           0.414585\n",
       "1           5 years              927           0.682119\n",
       "2           6 years              204           0.825911\n",
       "3           7 years               96           0.914286\n",
       "4           8 years               27           1.000000\n",
       "5  9 years or older                9           1.000000"
      ]
     },
     "execution_count": 31,
     "metadata": {},
     "output_type": "execute_result"
    }
   ],
   "source": [
    "# Treatment 2 Analysis\n",
    "primary_start_independence_test(country, \"Treatment 2\")"
   ]
  },
  {
   "cell_type": "markdown",
   "metadata": {},
   "source": [
    "# Language used with mother ( ST023Q01TA ) \n",
    "This measure is based on the question \"which language do you usually speak with:My Mother\". Possible values are as follows: \n",
    "1. Mostly heritage language,\n",
    "2. About equally often heritage and test language\n",
    "3. Mostly test language\n",
    "4. Not applicable - heritage language and test language are the same"
   ]
  },
  {
   "cell_type": "code",
   "execution_count": 32,
   "metadata": {},
   "outputs": [],
   "source": [
    "def language_used_with_parent(country, covariate, treatment):\n",
    "    chi_square, pi_val = chi_square_analysis(country[covariate], country[treatment])\n",
    "    print(\"Chi square: {}, p-value:{}\".format(chi_square, pi_val))\n",
    "    language = country.groupby([covariate])[treatment].agg(['sum', 'mean'])\n",
    "    language = language.rename(index={0:'None', 1: 'Mostly heritage language', \n",
    "                                      2: 'About equally often heritage and test language', \n",
    "                                      3: 'Mostly test language', 4: 'Not applicable'})\n",
    "    if covariate == \"ST023Q01TA\":\n",
    "        return language.reset_index().rename(columns={'sum':'{} No.'.format(treatment),\n",
    "                                                      'mean': '{} share'.format(treatment), \n",
    "                                                      'ST023Q01TA': 'Language used with mother'})\n",
    "    return language.reset_index().rename(columns={'sum':'{} No.'.format(treatment),\n",
    "                                                      'mean': '{} share'.format(treatment), \n",
    "                                                      'ST023Q02TA': 'Language used with father'})"
   ]
  },
  {
   "cell_type": "code",
   "execution_count": 33,
   "metadata": {},
   "outputs": [
    {
     "name": "stdout",
     "output_type": "stream",
     "text": [
      "Chi square: 7.521094917495105, p-value:0.05701890348818106\n"
     ]
    },
    {
     "data": {
      "text/html": [
       "<div>\n",
       "<style scoped>\n",
       "    .dataframe tbody tr th:only-of-type {\n",
       "        vertical-align: middle;\n",
       "    }\n",
       "\n",
       "    .dataframe tbody tr th {\n",
       "        vertical-align: top;\n",
       "    }\n",
       "\n",
       "    .dataframe thead th {\n",
       "        text-align: right;\n",
       "    }\n",
       "</style>\n",
       "<table border=\"1\" class=\"dataframe\">\n",
       "  <thead>\n",
       "    <tr style=\"text-align: right;\">\n",
       "      <th></th>\n",
       "      <th>Language used with mother</th>\n",
       "      <th>Treatment 1 No.</th>\n",
       "      <th>Treatment 1 share</th>\n",
       "    </tr>\n",
       "  </thead>\n",
       "  <tbody>\n",
       "    <tr>\n",
       "      <th>0</th>\n",
       "      <td>Mostly heritage language</td>\n",
       "      <td>788</td>\n",
       "      <td>0.963325</td>\n",
       "    </tr>\n",
       "    <tr>\n",
       "      <th>1</th>\n",
       "      <td>About equally often heritage and test language</td>\n",
       "      <td>220</td>\n",
       "      <td>0.952381</td>\n",
       "    </tr>\n",
       "    <tr>\n",
       "      <th>2</th>\n",
       "      <td>Mostly test language</td>\n",
       "      <td>1356</td>\n",
       "      <td>0.976945</td>\n",
       "    </tr>\n",
       "    <tr>\n",
       "      <th>3</th>\n",
       "      <td>Not applicable</td>\n",
       "      <td>773</td>\n",
       "      <td>0.977244</td>\n",
       "    </tr>\n",
       "  </tbody>\n",
       "</table>\n",
       "</div>"
      ],
      "text/plain": [
       "                        Language used with mother  Treatment 1 No.  \\\n",
       "0                        Mostly heritage language              788   \n",
       "1  About equally often heritage and test language              220   \n",
       "2                            Mostly test language             1356   \n",
       "3                                  Not applicable              773   \n",
       "\n",
       "   Treatment 1 share  \n",
       "0           0.963325  \n",
       "1           0.952381  \n",
       "2           0.976945  \n",
       "3           0.977244  "
      ]
     },
     "execution_count": 33,
     "metadata": {},
     "output_type": "execute_result"
    }
   ],
   "source": [
    "# Treatment 1 Analysis\n",
    "language_used_with_parent(country, \"ST023Q01TA\", \"Treatment 1\")"
   ]
  },
  {
   "cell_type": "code",
   "execution_count": 34,
   "metadata": {},
   "outputs": [
    {
     "name": "stdout",
     "output_type": "stream",
     "text": [
      "Chi square: 3.2086212182394562, p-value:0.3605646927958255\n"
     ]
    },
    {
     "data": {
      "text/html": [
       "<div>\n",
       "<style scoped>\n",
       "    .dataframe tbody tr th:only-of-type {\n",
       "        vertical-align: middle;\n",
       "    }\n",
       "\n",
       "    .dataframe tbody tr th {\n",
       "        vertical-align: top;\n",
       "    }\n",
       "\n",
       "    .dataframe thead th {\n",
       "        text-align: right;\n",
       "    }\n",
       "</style>\n",
       "<table border=\"1\" class=\"dataframe\">\n",
       "  <thead>\n",
       "    <tr style=\"text-align: right;\">\n",
       "      <th></th>\n",
       "      <th>Language used with mother</th>\n",
       "      <th>Treatment 2 No.</th>\n",
       "      <th>Treatment 2 share</th>\n",
       "    </tr>\n",
       "  </thead>\n",
       "  <tbody>\n",
       "    <tr>\n",
       "      <th>0</th>\n",
       "      <td>Mostly heritage language</td>\n",
       "      <td>494</td>\n",
       "      <td>0.603912</td>\n",
       "    </tr>\n",
       "    <tr>\n",
       "      <th>1</th>\n",
       "      <td>About equally often heritage and test language</td>\n",
       "      <td>129</td>\n",
       "      <td>0.558442</td>\n",
       "    </tr>\n",
       "    <tr>\n",
       "      <th>2</th>\n",
       "      <td>Mostly test language</td>\n",
       "      <td>808</td>\n",
       "      <td>0.582133</td>\n",
       "    </tr>\n",
       "    <tr>\n",
       "      <th>3</th>\n",
       "      <td>Not applicable</td>\n",
       "      <td>446</td>\n",
       "      <td>0.563843</td>\n",
       "    </tr>\n",
       "  </tbody>\n",
       "</table>\n",
       "</div>"
      ],
      "text/plain": [
       "                        Language used with mother  Treatment 2 No.  \\\n",
       "0                        Mostly heritage language              494   \n",
       "1  About equally often heritage and test language              129   \n",
       "2                            Mostly test language              808   \n",
       "3                                  Not applicable              446   \n",
       "\n",
       "   Treatment 2 share  \n",
       "0           0.603912  \n",
       "1           0.558442  \n",
       "2           0.582133  \n",
       "3           0.563843  "
      ]
     },
     "execution_count": 34,
     "metadata": {},
     "output_type": "execute_result"
    }
   ],
   "source": [
    "# Treatment 2 Analysis\n",
    "language_used_with_parent(country, \"ST023Q01TA\", \"Treatment 2\")"
   ]
  },
  {
   "cell_type": "markdown",
   "metadata": {},
   "source": [
    "# Language used with father ( ST023Q02TA )\n",
    "See details in the previous section"
   ]
  },
  {
   "cell_type": "code",
   "execution_count": 35,
   "metadata": {},
   "outputs": [
    {
     "name": "stdout",
     "output_type": "stream",
     "text": [
      "Chi square: 5.680205012859864, p-value:0.1282489625033575\n"
     ]
    },
    {
     "data": {
      "text/html": [
       "<div>\n",
       "<style scoped>\n",
       "    .dataframe tbody tr th:only-of-type {\n",
       "        vertical-align: middle;\n",
       "    }\n",
       "\n",
       "    .dataframe tbody tr th {\n",
       "        vertical-align: top;\n",
       "    }\n",
       "\n",
       "    .dataframe thead th {\n",
       "        text-align: right;\n",
       "    }\n",
       "</style>\n",
       "<table border=\"1\" class=\"dataframe\">\n",
       "  <thead>\n",
       "    <tr style=\"text-align: right;\">\n",
       "      <th></th>\n",
       "      <th>Language used with father</th>\n",
       "      <th>Treatment 1 No.</th>\n",
       "      <th>Treatment 1 share</th>\n",
       "    </tr>\n",
       "  </thead>\n",
       "  <tbody>\n",
       "    <tr>\n",
       "      <th>0</th>\n",
       "      <td>Mostly heritage language</td>\n",
       "      <td>786</td>\n",
       "      <td>0.964417</td>\n",
       "    </tr>\n",
       "    <tr>\n",
       "      <th>1</th>\n",
       "      <td>About equally often heritage and test language</td>\n",
       "      <td>209</td>\n",
       "      <td>0.954338</td>\n",
       "    </tr>\n",
       "    <tr>\n",
       "      <th>2</th>\n",
       "      <td>Mostly test language</td>\n",
       "      <td>1357</td>\n",
       "      <td>0.976259</td>\n",
       "    </tr>\n",
       "    <tr>\n",
       "      <th>3</th>\n",
       "      <td>Not applicable</td>\n",
       "      <td>785</td>\n",
       "      <td>0.976368</td>\n",
       "    </tr>\n",
       "  </tbody>\n",
       "</table>\n",
       "</div>"
      ],
      "text/plain": [
       "                        Language used with father  Treatment 1 No.  \\\n",
       "0                        Mostly heritage language              786   \n",
       "1  About equally often heritage and test language              209   \n",
       "2                            Mostly test language             1357   \n",
       "3                                  Not applicable              785   \n",
       "\n",
       "   Treatment 1 share  \n",
       "0           0.964417  \n",
       "1           0.954338  \n",
       "2           0.976259  \n",
       "3           0.976368  "
      ]
     },
     "execution_count": 35,
     "metadata": {},
     "output_type": "execute_result"
    }
   ],
   "source": [
    "# Treatment 1 Analysis\n",
    "language_used_with_parent(country, \"ST023Q02TA\", \"Treatment 1\")"
   ]
  },
  {
   "cell_type": "code",
   "execution_count": 36,
   "metadata": {},
   "outputs": [
    {
     "name": "stdout",
     "output_type": "stream",
     "text": [
      "Chi square: 3.428706128084681, p-value:0.33012709174261895\n"
     ]
    },
    {
     "data": {
      "text/html": [
       "<div>\n",
       "<style scoped>\n",
       "    .dataframe tbody tr th:only-of-type {\n",
       "        vertical-align: middle;\n",
       "    }\n",
       "\n",
       "    .dataframe tbody tr th {\n",
       "        vertical-align: top;\n",
       "    }\n",
       "\n",
       "    .dataframe thead th {\n",
       "        text-align: right;\n",
       "    }\n",
       "</style>\n",
       "<table border=\"1\" class=\"dataframe\">\n",
       "  <thead>\n",
       "    <tr style=\"text-align: right;\">\n",
       "      <th></th>\n",
       "      <th>Language used with father</th>\n",
       "      <th>Treatment 2 No.</th>\n",
       "      <th>Treatment 2 share</th>\n",
       "    </tr>\n",
       "  </thead>\n",
       "  <tbody>\n",
       "    <tr>\n",
       "      <th>0</th>\n",
       "      <td>Mostly heritage language</td>\n",
       "      <td>489</td>\n",
       "      <td>0.600000</td>\n",
       "    </tr>\n",
       "    <tr>\n",
       "      <th>1</th>\n",
       "      <td>About equally often heritage and test language</td>\n",
       "      <td>122</td>\n",
       "      <td>0.557078</td>\n",
       "    </tr>\n",
       "    <tr>\n",
       "      <th>2</th>\n",
       "      <td>Mostly test language</td>\n",
       "      <td>816</td>\n",
       "      <td>0.587050</td>\n",
       "    </tr>\n",
       "    <tr>\n",
       "      <th>3</th>\n",
       "      <td>Not applicable</td>\n",
       "      <td>450</td>\n",
       "      <td>0.559701</td>\n",
       "    </tr>\n",
       "  </tbody>\n",
       "</table>\n",
       "</div>"
      ],
      "text/plain": [
       "                        Language used with father  Treatment 2 No.  \\\n",
       "0                        Mostly heritage language              489   \n",
       "1  About equally often heritage and test language              122   \n",
       "2                            Mostly test language              816   \n",
       "3                                  Not applicable              450   \n",
       "\n",
       "   Treatment 2 share  \n",
       "0           0.600000  \n",
       "1           0.557078  \n",
       "2           0.587050  \n",
       "3           0.559701  "
      ]
     },
     "execution_count": 36,
     "metadata": {},
     "output_type": "execute_result"
    }
   ],
   "source": [
    "# Treatment 2 Analysis\n",
    "language_used_with_parent(country, \"ST023Q02TA\", \"Treatment 2\")"
   ]
  },
  {
   "cell_type": "markdown",
   "metadata": {},
   "source": [
    "## Occupation Classification - Mother\n",
    "Occupation is classified by the International Standard Classification of Occupation (https://www.ilo.org/public/english/bureau/stat/isco/). <br> We devided the occupation codes to the following categories:\n",
    "1. Armed forces occupations & managers\n",
    "2. Professionals\n",
    "3. Technicians and associate professionals\n",
    "4. Clerical support workers\n",
    "5. Service and sales workers\n",
    "6. Skilled agricultural, forestry and fishery workers\n",
    "7. Crafts and related trades workers\n",
    "8. Pland and machine operators, and assemblers\n",
    "9. Elementary occupations\n",
    "10. Housewife and social beneficiary "
   ]
  },
  {
   "cell_type": "code",
   "execution_count": 37,
   "metadata": {},
   "outputs": [],
   "source": [
    "def occupation_dependency_test(country, covariate, treatment):\n",
    "    chi_square, pi_val = chi_square_analysis(country[covariate], country[treatment])\n",
    "    print(\"Chi square: {}, p-value:{}\".format(chi_square, pi_val))\n",
    "    occupation = country.groupby([covariate])[treatment].agg(['sum', 'mean'])\n",
    "    occupation = occupation.rename(index={'A': 'Armed forces occupations & Managers',\n",
    "                                          'B': 'Professionals',\n",
    "                                          'C': 'Technicians and associate professionals',\n",
    "                                          'D': 'Clerical support workers',\n",
    "                                          'E': 'Service and sales workers',\n",
    "                                          'F': 'Skilled agricultural, forestry and fishery workers',\n",
    "                                          'G': 'Craft and related trades workers',\n",
    "                                          'H': 'Plant and machine operators, and assemblers',\n",
    "                                          'I': 'Elementary occupations',\n",
    "                                          'J': 'Housewife and social beneficiary'})\n",
    "    if \"1\" in covariate:\n",
    "        return occupation.reset_index().rename(columns={'sum':'{} No.'.format(treatment), \n",
    "                                                        'mean': '{} share'.format(treatment),\n",
    "                                                        'OCOD1': 'Occupation Classification - Mother'})\n",
    "    return occupation.reset_index().rename(columns={'sum':'{} No.'.format(treatment), \n",
    "                                                    'mean': '{} share'.format(treatment),\n",
    "                                                    'OCOD2': 'Occupation Classification - Father'})"
   ]
  },
  {
   "cell_type": "code",
   "execution_count": 38,
   "metadata": {},
   "outputs": [
    {
     "name": "stdout",
     "output_type": "stream",
     "text": [
      "Chi square: 3.5130186302338724, p-value:0.6214186653748609\n"
     ]
    },
    {
     "data": {
      "text/html": [
       "<div>\n",
       "<style scoped>\n",
       "    .dataframe tbody tr th:only-of-type {\n",
       "        vertical-align: middle;\n",
       "    }\n",
       "\n",
       "    .dataframe tbody tr th {\n",
       "        vertical-align: top;\n",
       "    }\n",
       "\n",
       "    .dataframe thead th {\n",
       "        text-align: right;\n",
       "    }\n",
       "</style>\n",
       "<table border=\"1\" class=\"dataframe\">\n",
       "  <thead>\n",
       "    <tr style=\"text-align: right;\">\n",
       "      <th></th>\n",
       "      <th>Occupation Classification - Mother</th>\n",
       "      <th>Treatment 1 No.</th>\n",
       "      <th>Treatment 1 share</th>\n",
       "    </tr>\n",
       "  </thead>\n",
       "  <tbody>\n",
       "    <tr>\n",
       "      <th>0</th>\n",
       "      <td>Armed forces occupations &amp; Managers</td>\n",
       "      <td>280</td>\n",
       "      <td>0.962199</td>\n",
       "    </tr>\n",
       "    <tr>\n",
       "      <th>1</th>\n",
       "      <td>Professionals</td>\n",
       "      <td>909</td>\n",
       "      <td>0.976369</td>\n",
       "    </tr>\n",
       "    <tr>\n",
       "      <th>2</th>\n",
       "      <td>Technicians and associate professionals</td>\n",
       "      <td>344</td>\n",
       "      <td>0.969014</td>\n",
       "    </tr>\n",
       "    <tr>\n",
       "      <th>3</th>\n",
       "      <td>Clerical support workers</td>\n",
       "      <td>221</td>\n",
       "      <td>0.965066</td>\n",
       "    </tr>\n",
       "    <tr>\n",
       "      <th>4</th>\n",
       "      <td>Service and sales workers</td>\n",
       "      <td>904</td>\n",
       "      <td>0.976242</td>\n",
       "    </tr>\n",
       "    <tr>\n",
       "      <th>5</th>\n",
       "      <td>Skilled agricultural, forestry and fishery wor...</td>\n",
       "      <td>15</td>\n",
       "      <td>0.937500</td>\n",
       "    </tr>\n",
       "    <tr>\n",
       "      <th>6</th>\n",
       "      <td>Craft and related trades workers</td>\n",
       "      <td>45</td>\n",
       "      <td>0.957447</td>\n",
       "    </tr>\n",
       "    <tr>\n",
       "      <th>7</th>\n",
       "      <td>Plant and machine operators, and assemblers</td>\n",
       "      <td>37</td>\n",
       "      <td>0.973684</td>\n",
       "    </tr>\n",
       "    <tr>\n",
       "      <th>8</th>\n",
       "      <td>Elementary occupations</td>\n",
       "      <td>160</td>\n",
       "      <td>0.941176</td>\n",
       "    </tr>\n",
       "    <tr>\n",
       "      <th>9</th>\n",
       "      <td>Housewife and social beneficiary</td>\n",
       "      <td>222</td>\n",
       "      <td>0.986667</td>\n",
       "    </tr>\n",
       "  </tbody>\n",
       "</table>\n",
       "</div>"
      ],
      "text/plain": [
       "                  Occupation Classification - Mother  Treatment 1 No.  \\\n",
       "0                Armed forces occupations & Managers              280   \n",
       "1                                      Professionals              909   \n",
       "2            Technicians and associate professionals              344   \n",
       "3                           Clerical support workers              221   \n",
       "4                          Service and sales workers              904   \n",
       "5  Skilled agricultural, forestry and fishery wor...               15   \n",
       "6                   Craft and related trades workers               45   \n",
       "7        Plant and machine operators, and assemblers               37   \n",
       "8                             Elementary occupations              160   \n",
       "9                   Housewife and social beneficiary              222   \n",
       "\n",
       "   Treatment 1 share  \n",
       "0           0.962199  \n",
       "1           0.976369  \n",
       "2           0.969014  \n",
       "3           0.965066  \n",
       "4           0.976242  \n",
       "5           0.937500  \n",
       "6           0.957447  \n",
       "7           0.973684  \n",
       "8           0.941176  \n",
       "9           0.986667  "
      ]
     },
     "execution_count": 38,
     "metadata": {},
     "output_type": "execute_result"
    }
   ],
   "source": [
    "# Treatment 1 Analysis\n",
    "occupation_dependency_test(country, 'OCOD1', 'Treatment 1')"
   ]
  },
  {
   "cell_type": "code",
   "execution_count": 39,
   "metadata": {},
   "outputs": [
    {
     "name": "stdout",
     "output_type": "stream",
     "text": [
      "Chi square: 15.26145416765581, p-value:0.08400011580704984\n"
     ]
    },
    {
     "data": {
      "text/html": [
       "<div>\n",
       "<style scoped>\n",
       "    .dataframe tbody tr th:only-of-type {\n",
       "        vertical-align: middle;\n",
       "    }\n",
       "\n",
       "    .dataframe tbody tr th {\n",
       "        vertical-align: top;\n",
       "    }\n",
       "\n",
       "    .dataframe thead th {\n",
       "        text-align: right;\n",
       "    }\n",
       "</style>\n",
       "<table border=\"1\" class=\"dataframe\">\n",
       "  <thead>\n",
       "    <tr style=\"text-align: right;\">\n",
       "      <th></th>\n",
       "      <th>Occupation Classification - Mother</th>\n",
       "      <th>Treatment 2 No.</th>\n",
       "      <th>Treatment 2 share</th>\n",
       "    </tr>\n",
       "  </thead>\n",
       "  <tbody>\n",
       "    <tr>\n",
       "      <th>0</th>\n",
       "      <td>Armed forces occupations &amp; Managers</td>\n",
       "      <td>180</td>\n",
       "      <td>0.618557</td>\n",
       "    </tr>\n",
       "    <tr>\n",
       "      <th>1</th>\n",
       "      <td>Professionals</td>\n",
       "      <td>573</td>\n",
       "      <td>0.615467</td>\n",
       "    </tr>\n",
       "    <tr>\n",
       "      <th>2</th>\n",
       "      <td>Technicians and associate professionals</td>\n",
       "      <td>212</td>\n",
       "      <td>0.597183</td>\n",
       "    </tr>\n",
       "    <tr>\n",
       "      <th>3</th>\n",
       "      <td>Clerical support workers</td>\n",
       "      <td>122</td>\n",
       "      <td>0.532751</td>\n",
       "    </tr>\n",
       "    <tr>\n",
       "      <th>4</th>\n",
       "      <td>Service and sales workers</td>\n",
       "      <td>517</td>\n",
       "      <td>0.558315</td>\n",
       "    </tr>\n",
       "    <tr>\n",
       "      <th>5</th>\n",
       "      <td>Skilled agricultural, forestry and fishery wor...</td>\n",
       "      <td>7</td>\n",
       "      <td>0.437500</td>\n",
       "    </tr>\n",
       "    <tr>\n",
       "      <th>6</th>\n",
       "      <td>Craft and related trades workers</td>\n",
       "      <td>22</td>\n",
       "      <td>0.468085</td>\n",
       "    </tr>\n",
       "    <tr>\n",
       "      <th>7</th>\n",
       "      <td>Plant and machine operators, and assemblers</td>\n",
       "      <td>22</td>\n",
       "      <td>0.578947</td>\n",
       "    </tr>\n",
       "    <tr>\n",
       "      <th>8</th>\n",
       "      <td>Elementary occupations</td>\n",
       "      <td>94</td>\n",
       "      <td>0.552941</td>\n",
       "    </tr>\n",
       "    <tr>\n",
       "      <th>9</th>\n",
       "      <td>Housewife and social beneficiary</td>\n",
       "      <td>128</td>\n",
       "      <td>0.568889</td>\n",
       "    </tr>\n",
       "  </tbody>\n",
       "</table>\n",
       "</div>"
      ],
      "text/plain": [
       "                  Occupation Classification - Mother  Treatment 2 No.  \\\n",
       "0                Armed forces occupations & Managers              180   \n",
       "1                                      Professionals              573   \n",
       "2            Technicians and associate professionals              212   \n",
       "3                           Clerical support workers              122   \n",
       "4                          Service and sales workers              517   \n",
       "5  Skilled agricultural, forestry and fishery wor...                7   \n",
       "6                   Craft and related trades workers               22   \n",
       "7        Plant and machine operators, and assemblers               22   \n",
       "8                             Elementary occupations               94   \n",
       "9                   Housewife and social beneficiary              128   \n",
       "\n",
       "   Treatment 2 share  \n",
       "0           0.618557  \n",
       "1           0.615467  \n",
       "2           0.597183  \n",
       "3           0.532751  \n",
       "4           0.558315  \n",
       "5           0.437500  \n",
       "6           0.468085  \n",
       "7           0.578947  \n",
       "8           0.552941  \n",
       "9           0.568889  "
      ]
     },
     "execution_count": 39,
     "metadata": {},
     "output_type": "execute_result"
    }
   ],
   "source": [
    "# Treatment 2 Analysis\n",
    "occupation_dependency_test(country, 'OCOD1', 'Treatment 2')"
   ]
  },
  {
   "cell_type": "markdown",
   "metadata": {},
   "source": [
    "## Occupation Classification - Father\n",
    "See details in the previous section. "
   ]
  },
  {
   "cell_type": "code",
   "execution_count": 40,
   "metadata": {},
   "outputs": [
    {
     "name": "stdout",
     "output_type": "stream",
     "text": [
      "Chi square: 2.3718955931174652, p-value:0.8825200885777142\n"
     ]
    },
    {
     "data": {
      "text/html": [
       "<div>\n",
       "<style scoped>\n",
       "    .dataframe tbody tr th:only-of-type {\n",
       "        vertical-align: middle;\n",
       "    }\n",
       "\n",
       "    .dataframe tbody tr th {\n",
       "        vertical-align: top;\n",
       "    }\n",
       "\n",
       "    .dataframe thead th {\n",
       "        text-align: right;\n",
       "    }\n",
       "</style>\n",
       "<table border=\"1\" class=\"dataframe\">\n",
       "  <thead>\n",
       "    <tr style=\"text-align: right;\">\n",
       "      <th></th>\n",
       "      <th>Occupation Classification - Father</th>\n",
       "      <th>Treatment 1 No.</th>\n",
       "      <th>Treatment 1 share</th>\n",
       "    </tr>\n",
       "  </thead>\n",
       "  <tbody>\n",
       "    <tr>\n",
       "      <th>0</th>\n",
       "      <td>Armed forces occupations &amp; Managers</td>\n",
       "      <td>505</td>\n",
       "      <td>0.976789</td>\n",
       "    </tr>\n",
       "    <tr>\n",
       "      <th>1</th>\n",
       "      <td>Professionals</td>\n",
       "      <td>605</td>\n",
       "      <td>0.975806</td>\n",
       "    </tr>\n",
       "    <tr>\n",
       "      <th>2</th>\n",
       "      <td>Technicians and associate professionals</td>\n",
       "      <td>293</td>\n",
       "      <td>0.973422</td>\n",
       "    </tr>\n",
       "    <tr>\n",
       "      <th>3</th>\n",
       "      <td>Clerical support workers</td>\n",
       "      <td>46</td>\n",
       "      <td>1.000000</td>\n",
       "    </tr>\n",
       "    <tr>\n",
       "      <th>4</th>\n",
       "      <td>Service and sales workers</td>\n",
       "      <td>351</td>\n",
       "      <td>0.975000</td>\n",
       "    </tr>\n",
       "    <tr>\n",
       "      <th>5</th>\n",
       "      <td>Skilled agricultural, forestry and fishery wor...</td>\n",
       "      <td>198</td>\n",
       "      <td>0.965854</td>\n",
       "    </tr>\n",
       "    <tr>\n",
       "      <th>6</th>\n",
       "      <td>Craft and related trades workers</td>\n",
       "      <td>682</td>\n",
       "      <td>0.964639</td>\n",
       "    </tr>\n",
       "    <tr>\n",
       "      <th>7</th>\n",
       "      <td>Plant and machine operators, and assemblers</td>\n",
       "      <td>334</td>\n",
       "      <td>0.970930</td>\n",
       "    </tr>\n",
       "    <tr>\n",
       "      <th>8</th>\n",
       "      <td>Elementary occupations</td>\n",
       "      <td>80</td>\n",
       "      <td>0.963855</td>\n",
       "    </tr>\n",
       "    <tr>\n",
       "      <th>9</th>\n",
       "      <td>Housewife and social beneficiary</td>\n",
       "      <td>43</td>\n",
       "      <td>0.955556</td>\n",
       "    </tr>\n",
       "  </tbody>\n",
       "</table>\n",
       "</div>"
      ],
      "text/plain": [
       "                  Occupation Classification - Father  Treatment 1 No.  \\\n",
       "0                Armed forces occupations & Managers              505   \n",
       "1                                      Professionals              605   \n",
       "2            Technicians and associate professionals              293   \n",
       "3                           Clerical support workers               46   \n",
       "4                          Service and sales workers              351   \n",
       "5  Skilled agricultural, forestry and fishery wor...              198   \n",
       "6                   Craft and related trades workers              682   \n",
       "7        Plant and machine operators, and assemblers              334   \n",
       "8                             Elementary occupations               80   \n",
       "9                   Housewife and social beneficiary               43   \n",
       "\n",
       "   Treatment 1 share  \n",
       "0           0.976789  \n",
       "1           0.975806  \n",
       "2           0.973422  \n",
       "3           1.000000  \n",
       "4           0.975000  \n",
       "5           0.965854  \n",
       "6           0.964639  \n",
       "7           0.970930  \n",
       "8           0.963855  \n",
       "9           0.955556  "
      ]
     },
     "execution_count": 40,
     "metadata": {},
     "output_type": "execute_result"
    }
   ],
   "source": [
    "# Treatment 1 Analysis\n",
    "occupation_dependency_test(country, 'OCOD2', 'Treatment 1')"
   ]
  },
  {
   "cell_type": "code",
   "execution_count": 41,
   "metadata": {},
   "outputs": [
    {
     "name": "stdout",
     "output_type": "stream",
     "text": [
      "Chi square: 27.158070270615276, p-value:0.0013169759609365612\n"
     ]
    },
    {
     "data": {
      "text/html": [
       "<div>\n",
       "<style scoped>\n",
       "    .dataframe tbody tr th:only-of-type {\n",
       "        vertical-align: middle;\n",
       "    }\n",
       "\n",
       "    .dataframe tbody tr th {\n",
       "        vertical-align: top;\n",
       "    }\n",
       "\n",
       "    .dataframe thead th {\n",
       "        text-align: right;\n",
       "    }\n",
       "</style>\n",
       "<table border=\"1\" class=\"dataframe\">\n",
       "  <thead>\n",
       "    <tr style=\"text-align: right;\">\n",
       "      <th></th>\n",
       "      <th>Occupation Classification - Father</th>\n",
       "      <th>Treatment 2 No.</th>\n",
       "      <th>Treatment 2 share</th>\n",
       "    </tr>\n",
       "  </thead>\n",
       "  <tbody>\n",
       "    <tr>\n",
       "      <th>0</th>\n",
       "      <td>Armed forces occupations &amp; Managers</td>\n",
       "      <td>322</td>\n",
       "      <td>0.622824</td>\n",
       "    </tr>\n",
       "    <tr>\n",
       "      <th>1</th>\n",
       "      <td>Professionals</td>\n",
       "      <td>367</td>\n",
       "      <td>0.591935</td>\n",
       "    </tr>\n",
       "    <tr>\n",
       "      <th>2</th>\n",
       "      <td>Technicians and associate professionals</td>\n",
       "      <td>200</td>\n",
       "      <td>0.664452</td>\n",
       "    </tr>\n",
       "    <tr>\n",
       "      <th>3</th>\n",
       "      <td>Clerical support workers</td>\n",
       "      <td>33</td>\n",
       "      <td>0.717391</td>\n",
       "    </tr>\n",
       "    <tr>\n",
       "      <th>4</th>\n",
       "      <td>Service and sales workers</td>\n",
       "      <td>200</td>\n",
       "      <td>0.555556</td>\n",
       "    </tr>\n",
       "    <tr>\n",
       "      <th>5</th>\n",
       "      <td>Skilled agricultural, forestry and fishery wor...</td>\n",
       "      <td>106</td>\n",
       "      <td>0.517073</td>\n",
       "    </tr>\n",
       "    <tr>\n",
       "      <th>6</th>\n",
       "      <td>Craft and related trades workers</td>\n",
       "      <td>398</td>\n",
       "      <td>0.562942</td>\n",
       "    </tr>\n",
       "    <tr>\n",
       "      <th>7</th>\n",
       "      <td>Plant and machine operators, and assemblers</td>\n",
       "      <td>180</td>\n",
       "      <td>0.523256</td>\n",
       "    </tr>\n",
       "    <tr>\n",
       "      <th>8</th>\n",
       "      <td>Elementary occupations</td>\n",
       "      <td>44</td>\n",
       "      <td>0.530120</td>\n",
       "    </tr>\n",
       "    <tr>\n",
       "      <th>9</th>\n",
       "      <td>Housewife and social beneficiary</td>\n",
       "      <td>27</td>\n",
       "      <td>0.600000</td>\n",
       "    </tr>\n",
       "  </tbody>\n",
       "</table>\n",
       "</div>"
      ],
      "text/plain": [
       "                  Occupation Classification - Father  Treatment 2 No.  \\\n",
       "0                Armed forces occupations & Managers              322   \n",
       "1                                      Professionals              367   \n",
       "2            Technicians and associate professionals              200   \n",
       "3                           Clerical support workers               33   \n",
       "4                          Service and sales workers              200   \n",
       "5  Skilled agricultural, forestry and fishery wor...              106   \n",
       "6                   Craft and related trades workers              398   \n",
       "7        Plant and machine operators, and assemblers              180   \n",
       "8                             Elementary occupations               44   \n",
       "9                   Housewife and social beneficiary               27   \n",
       "\n",
       "   Treatment 2 share  \n",
       "0           0.622824  \n",
       "1           0.591935  \n",
       "2           0.664452  \n",
       "3           0.717391  \n",
       "4           0.555556  \n",
       "5           0.517073  \n",
       "6           0.562942  \n",
       "7           0.523256  \n",
       "8           0.530120  \n",
       "9           0.600000  "
      ]
     },
     "execution_count": 41,
     "metadata": {},
     "output_type": "execute_result"
    }
   ],
   "source": [
    "# Treatment 2 Analysis\n",
    "occupation_dependency_test(country, 'OCOD2', 'Treatment 2')"
   ]
  },
  {
   "cell_type": "markdown",
   "metadata": {},
   "source": [
    "## ISEI of mother (International Socio-Economic Index of Occupational Status)  "
   ]
  },
  {
   "cell_type": "code",
   "execution_count": 42,
   "metadata": {},
   "outputs": [],
   "source": [
    "def parent_isei_dependency_test(country, covariate, treatment):\n",
    "    quartiles = pd.qcut(country[covariate], 4, labels=['Q1','Q2','Q3', 'Q4'])\n",
    "    chi_square, pi_val = chi_square_analysis(quartiles, country[treatment])\n",
    "    print(\"Chi square: {}, p-value:{}\".format(chi_square, pi_val))\n",
    "    isei = country.groupby([quartiles])[treatment].agg(['sum', 'mean'])\n",
    "    if '1' in covariate:\n",
    "        return isei.reset_index().rename(columns={'sum':'{} No.'.format(treatment), \n",
    "                                                  'mean': '{} share'.format(treatment), \n",
    "                                                  'BMMJ1':'ISEI - Mother'})\n",
    "    return isei.reset_index().rename(columns={'sum':'{} No.'.format(treatment), \n",
    "                                                  'mean': '{} share'.format(treatment), \n",
    "                                                  'BFMJ2':'ISEI - Father'})"
   ]
  },
  {
   "cell_type": "code",
   "execution_count": 43,
   "metadata": {
    "scrolled": true
   },
   "outputs": [
    {
     "name": "stdout",
     "output_type": "stream",
     "text": [
      "Chi square: 1.4246945572487262, p-value:0.6997565359557241\n"
     ]
    },
    {
     "data": {
      "text/html": [
       "<div>\n",
       "<style scoped>\n",
       "    .dataframe tbody tr th:only-of-type {\n",
       "        vertical-align: middle;\n",
       "    }\n",
       "\n",
       "    .dataframe tbody tr th {\n",
       "        vertical-align: top;\n",
       "    }\n",
       "\n",
       "    .dataframe thead th {\n",
       "        text-align: right;\n",
       "    }\n",
       "</style>\n",
       "<table border=\"1\" class=\"dataframe\">\n",
       "  <thead>\n",
       "    <tr style=\"text-align: right;\">\n",
       "      <th></th>\n",
       "      <th>ISEI - Mother</th>\n",
       "      <th>Treatment 1 No.</th>\n",
       "      <th>Treatment 1 share</th>\n",
       "    </tr>\n",
       "  </thead>\n",
       "  <tbody>\n",
       "    <tr>\n",
       "      <th>0</th>\n",
       "      <td>Q1</td>\n",
       "      <td>832</td>\n",
       "      <td>0.969697</td>\n",
       "    </tr>\n",
       "    <tr>\n",
       "      <th>1</th>\n",
       "      <td>Q2</td>\n",
       "      <td>758</td>\n",
       "      <td>0.975547</td>\n",
       "    </tr>\n",
       "    <tr>\n",
       "      <th>2</th>\n",
       "      <td>Q3</td>\n",
       "      <td>870</td>\n",
       "      <td>0.967742</td>\n",
       "    </tr>\n",
       "    <tr>\n",
       "      <th>3</th>\n",
       "      <td>Q4</td>\n",
       "      <td>677</td>\n",
       "      <td>0.975504</td>\n",
       "    </tr>\n",
       "  </tbody>\n",
       "</table>\n",
       "</div>"
      ],
      "text/plain": [
       "  ISEI - Mother  Treatment 1 No.  Treatment 1 share\n",
       "0            Q1              832           0.969697\n",
       "1            Q2              758           0.975547\n",
       "2            Q3              870           0.967742\n",
       "3            Q4              677           0.975504"
      ]
     },
     "execution_count": 43,
     "metadata": {},
     "output_type": "execute_result"
    }
   ],
   "source": [
    "# Treatment 1 Analysis\n",
    "parent_isei_dependency_test(country, 'BMMJ1', 'Treatment 1')"
   ]
  },
  {
   "cell_type": "code",
   "execution_count": 44,
   "metadata": {},
   "outputs": [
    {
     "name": "stdout",
     "output_type": "stream",
     "text": [
      "Chi square: 19.131184204462652, p-value:0.0002568432652579091\n"
     ]
    },
    {
     "data": {
      "text/html": [
       "<div>\n",
       "<style scoped>\n",
       "    .dataframe tbody tr th:only-of-type {\n",
       "        vertical-align: middle;\n",
       "    }\n",
       "\n",
       "    .dataframe tbody tr th {\n",
       "        vertical-align: top;\n",
       "    }\n",
       "\n",
       "    .dataframe thead th {\n",
       "        text-align: right;\n",
       "    }\n",
       "</style>\n",
       "<table border=\"1\" class=\"dataframe\">\n",
       "  <thead>\n",
       "    <tr style=\"text-align: right;\">\n",
       "      <th></th>\n",
       "      <th>ISEI - Mother</th>\n",
       "      <th>Treatment 2 No.</th>\n",
       "      <th>Treatment 2 share</th>\n",
       "    </tr>\n",
       "  </thead>\n",
       "  <tbody>\n",
       "    <tr>\n",
       "      <th>0</th>\n",
       "      <td>Q1</td>\n",
       "      <td>473</td>\n",
       "      <td>0.551282</td>\n",
       "    </tr>\n",
       "    <tr>\n",
       "      <th>1</th>\n",
       "      <td>Q2</td>\n",
       "      <td>421</td>\n",
       "      <td>0.541828</td>\n",
       "    </tr>\n",
       "    <tr>\n",
       "      <th>2</th>\n",
       "      <td>Q3</td>\n",
       "      <td>539</td>\n",
       "      <td>0.599555</td>\n",
       "    </tr>\n",
       "    <tr>\n",
       "      <th>3</th>\n",
       "      <td>Q4</td>\n",
       "      <td>444</td>\n",
       "      <td>0.639769</td>\n",
       "    </tr>\n",
       "  </tbody>\n",
       "</table>\n",
       "</div>"
      ],
      "text/plain": [
       "  ISEI - Mother  Treatment 2 No.  Treatment 2 share\n",
       "0            Q1              473           0.551282\n",
       "1            Q2              421           0.541828\n",
       "2            Q3              539           0.599555\n",
       "3            Q4              444           0.639769"
      ]
     },
     "execution_count": 44,
     "metadata": {},
     "output_type": "execute_result"
    }
   ],
   "source": [
    "# Treatment 2 Analysis\n",
    "parent_isei_dependency_test(country, 'BMMJ1', 'Treatment 2')"
   ]
  },
  {
   "cell_type": "markdown",
   "metadata": {},
   "source": [
    "# ISEI of Father (International Socio-Economic Index of Occupational Status) "
   ]
  },
  {
   "cell_type": "code",
   "execution_count": 45,
   "metadata": {},
   "outputs": [
    {
     "name": "stdout",
     "output_type": "stream",
     "text": [
      "Chi square: 1.545145575975776, p-value:0.6718906268658227\n"
     ]
    },
    {
     "data": {
      "text/html": [
       "<div>\n",
       "<style scoped>\n",
       "    .dataframe tbody tr th:only-of-type {\n",
       "        vertical-align: middle;\n",
       "    }\n",
       "\n",
       "    .dataframe tbody tr th {\n",
       "        vertical-align: top;\n",
       "    }\n",
       "\n",
       "    .dataframe thead th {\n",
       "        text-align: right;\n",
       "    }\n",
       "</style>\n",
       "<table border=\"1\" class=\"dataframe\">\n",
       "  <thead>\n",
       "    <tr style=\"text-align: right;\">\n",
       "      <th></th>\n",
       "      <th>ISEI - Father</th>\n",
       "      <th>Treatment 1 No.</th>\n",
       "      <th>Treatment 1 share</th>\n",
       "    </tr>\n",
       "  </thead>\n",
       "  <tbody>\n",
       "    <tr>\n",
       "      <th>0</th>\n",
       "      <td>Q1</td>\n",
       "      <td>823</td>\n",
       "      <td>0.971665</td>\n",
       "    </tr>\n",
       "    <tr>\n",
       "      <th>1</th>\n",
       "      <td>Q2</td>\n",
       "      <td>769</td>\n",
       "      <td>0.967296</td>\n",
       "    </tr>\n",
       "    <tr>\n",
       "      <th>2</th>\n",
       "      <td>Q3</td>\n",
       "      <td>765</td>\n",
       "      <td>0.970812</td>\n",
       "    </tr>\n",
       "    <tr>\n",
       "      <th>3</th>\n",
       "      <td>Q4</td>\n",
       "      <td>780</td>\n",
       "      <td>0.977444</td>\n",
       "    </tr>\n",
       "  </tbody>\n",
       "</table>\n",
       "</div>"
      ],
      "text/plain": [
       "  ISEI - Father  Treatment 1 No.  Treatment 1 share\n",
       "0            Q1              823           0.971665\n",
       "1            Q2              769           0.967296\n",
       "2            Q3              765           0.970812\n",
       "3            Q4              780           0.977444"
      ]
     },
     "execution_count": 45,
     "metadata": {},
     "output_type": "execute_result"
    }
   ],
   "source": [
    "# Treatment 1 Analysis\n",
    "parent_isei_dependency_test(country, 'BFMJ2', 'Treatment 1')"
   ]
  },
  {
   "cell_type": "code",
   "execution_count": 46,
   "metadata": {},
   "outputs": [
    {
     "name": "stdout",
     "output_type": "stream",
     "text": [
      "Chi square: 13.273912228926513, p-value:0.00408018788264028\n"
     ]
    },
    {
     "data": {
      "text/html": [
       "<div>\n",
       "<style scoped>\n",
       "    .dataframe tbody tr th:only-of-type {\n",
       "        vertical-align: middle;\n",
       "    }\n",
       "\n",
       "    .dataframe tbody tr th {\n",
       "        vertical-align: top;\n",
       "    }\n",
       "\n",
       "    .dataframe thead th {\n",
       "        text-align: right;\n",
       "    }\n",
       "</style>\n",
       "<table border=\"1\" class=\"dataframe\">\n",
       "  <thead>\n",
       "    <tr style=\"text-align: right;\">\n",
       "      <th></th>\n",
       "      <th>ISEI - Father</th>\n",
       "      <th>Treatment 2 No.</th>\n",
       "      <th>Treatment 2 share</th>\n",
       "    </tr>\n",
       "  </thead>\n",
       "  <tbody>\n",
       "    <tr>\n",
       "      <th>0</th>\n",
       "      <td>Q1</td>\n",
       "      <td>470</td>\n",
       "      <td>0.554900</td>\n",
       "    </tr>\n",
       "    <tr>\n",
       "      <th>1</th>\n",
       "      <td>Q2</td>\n",
       "      <td>434</td>\n",
       "      <td>0.545912</td>\n",
       "    </tr>\n",
       "    <tr>\n",
       "      <th>2</th>\n",
       "      <td>Q3</td>\n",
       "      <td>484</td>\n",
       "      <td>0.614213</td>\n",
       "    </tr>\n",
       "    <tr>\n",
       "      <th>3</th>\n",
       "      <td>Q4</td>\n",
       "      <td>489</td>\n",
       "      <td>0.612782</td>\n",
       "    </tr>\n",
       "  </tbody>\n",
       "</table>\n",
       "</div>"
      ],
      "text/plain": [
       "  ISEI - Father  Treatment 2 No.  Treatment 2 share\n",
       "0            Q1              470           0.554900\n",
       "1            Q2              434           0.545912\n",
       "2            Q3              484           0.614213\n",
       "3            Q4              489           0.612782"
      ]
     },
     "execution_count": 46,
     "metadata": {},
     "output_type": "execute_result"
    }
   ],
   "source": [
    "# Treatment 2 Analysis\n",
    "parent_isei_dependency_test(country, 'BFMJ2', 'Treatment 2')"
   ]
  },
  {
   "cell_type": "markdown",
   "metadata": {},
   "source": [
    "# Wealth Index"
   ]
  },
  {
   "cell_type": "code",
   "execution_count": 47,
   "metadata": {},
   "outputs": [],
   "source": [
    "def wealth_index_dependency_test(country, treatment):\n",
    "    quartiles = pd.qcut(country[\"WEALTH\"], 4, labels=['Q1','Q2','Q3', 'Q4'])\n",
    "    chi_square, pi_val = chi_square_analysis(quartiles, country[treatment])\n",
    "    print(\"Chi square: {}, p-value:{}\".format(chi_square, pi_val))\n",
    "    wealth = country.groupby([quartiles])[treatment].agg(['sum', 'mean'])\n",
    "    return wealth.reset_index().rename(columns={'sum':'{} No.'.format(treatment), \n",
    "                                                  'mean': '{} share'.format(treatment), \n",
    "                                                  'WEALTH':'Wealth Index'})"
   ]
  },
  {
   "cell_type": "code",
   "execution_count": 48,
   "metadata": {},
   "outputs": [
    {
     "name": "stdout",
     "output_type": "stream",
     "text": [
      "Chi square: 3.3750764330283847, p-value:0.33732934751347243\n"
     ]
    },
    {
     "data": {
      "text/html": [
       "<div>\n",
       "<style scoped>\n",
       "    .dataframe tbody tr th:only-of-type {\n",
       "        vertical-align: middle;\n",
       "    }\n",
       "\n",
       "    .dataframe tbody tr th {\n",
       "        vertical-align: top;\n",
       "    }\n",
       "\n",
       "    .dataframe thead th {\n",
       "        text-align: right;\n",
       "    }\n",
       "</style>\n",
       "<table border=\"1\" class=\"dataframe\">\n",
       "  <thead>\n",
       "    <tr style=\"text-align: right;\">\n",
       "      <th></th>\n",
       "      <th>Wealth Index</th>\n",
       "      <th>Treatment 1 No.</th>\n",
       "      <th>Treatment 1 share</th>\n",
       "    </tr>\n",
       "  </thead>\n",
       "  <tbody>\n",
       "    <tr>\n",
       "      <th>0</th>\n",
       "      <td>Q1</td>\n",
       "      <td>788</td>\n",
       "      <td>0.976456</td>\n",
       "    </tr>\n",
       "    <tr>\n",
       "      <th>1</th>\n",
       "      <td>Q2</td>\n",
       "      <td>780</td>\n",
       "      <td>0.965347</td>\n",
       "    </tr>\n",
       "    <tr>\n",
       "      <th>2</th>\n",
       "      <td>Q3</td>\n",
       "      <td>789</td>\n",
       "      <td>0.977695</td>\n",
       "    </tr>\n",
       "    <tr>\n",
       "      <th>3</th>\n",
       "      <td>Q4</td>\n",
       "      <td>780</td>\n",
       "      <td>0.967742</td>\n",
       "    </tr>\n",
       "  </tbody>\n",
       "</table>\n",
       "</div>"
      ],
      "text/plain": [
       "  Wealth Index  Treatment 1 No.  Treatment 1 share\n",
       "0           Q1              788           0.976456\n",
       "1           Q2              780           0.965347\n",
       "2           Q3              789           0.977695\n",
       "3           Q4              780           0.967742"
      ]
     },
     "execution_count": 48,
     "metadata": {},
     "output_type": "execute_result"
    }
   ],
   "source": [
    "# Treatment 1 Analysis\n",
    "wealth_index_dependency_test(country, \"Treatment 1\")"
   ]
  },
  {
   "cell_type": "code",
   "execution_count": 49,
   "metadata": {},
   "outputs": [
    {
     "name": "stdout",
     "output_type": "stream",
     "text": [
      "Chi square: 3.576527561025356, p-value:0.31097154520324083\n"
     ]
    },
    {
     "data": {
      "text/html": [
       "<div>\n",
       "<style scoped>\n",
       "    .dataframe tbody tr th:only-of-type {\n",
       "        vertical-align: middle;\n",
       "    }\n",
       "\n",
       "    .dataframe tbody tr th {\n",
       "        vertical-align: top;\n",
       "    }\n",
       "\n",
       "    .dataframe thead th {\n",
       "        text-align: right;\n",
       "    }\n",
       "</style>\n",
       "<table border=\"1\" class=\"dataframe\">\n",
       "  <thead>\n",
       "    <tr style=\"text-align: right;\">\n",
       "      <th></th>\n",
       "      <th>Wealth Index</th>\n",
       "      <th>Treatment 2 No.</th>\n",
       "      <th>Treatment 2 share</th>\n",
       "    </tr>\n",
       "  </thead>\n",
       "  <tbody>\n",
       "    <tr>\n",
       "      <th>0</th>\n",
       "      <td>Q1</td>\n",
       "      <td>455</td>\n",
       "      <td>0.563817</td>\n",
       "    </tr>\n",
       "    <tr>\n",
       "      <th>1</th>\n",
       "      <td>Q2</td>\n",
       "      <td>461</td>\n",
       "      <td>0.570545</td>\n",
       "    </tr>\n",
       "    <tr>\n",
       "      <th>2</th>\n",
       "      <td>Q3</td>\n",
       "      <td>472</td>\n",
       "      <td>0.584882</td>\n",
       "    </tr>\n",
       "    <tr>\n",
       "      <th>3</th>\n",
       "      <td>Q4</td>\n",
       "      <td>489</td>\n",
       "      <td>0.606700</td>\n",
       "    </tr>\n",
       "  </tbody>\n",
       "</table>\n",
       "</div>"
      ],
      "text/plain": [
       "  Wealth Index  Treatment 2 No.  Treatment 2 share\n",
       "0           Q1              455           0.563817\n",
       "1           Q2              461           0.570545\n",
       "2           Q3              472           0.584882\n",
       "3           Q4              489           0.606700"
      ]
     },
     "execution_count": 49,
     "metadata": {},
     "output_type": "execute_result"
    }
   ],
   "source": [
    "# Treatment 2 Analysis\n",
    "wealth_index_dependency_test(country, \"Treatment 2\")"
   ]
  }
 ],
 "metadata": {
  "kernelspec": {
   "display_name": "Python 3",
   "language": "python",
   "name": "python3"
  },
  "language_info": {
   "codemirror_mode": {
    "name": "ipython",
    "version": 3
   },
   "file_extension": ".py",
   "mimetype": "text/x-python",
   "name": "python",
   "nbconvert_exporter": "python",
   "pygments_lexer": "ipython3",
   "version": "3.8.5"
  }
 },
 "nbformat": 4,
 "nbformat_minor": 4
}
