{
 "cells": [
  {
   "cell_type": "code",
   "execution_count": 4,
   "metadata": {},
   "outputs": [],
   "source": [
    "import pandas as pd\n",
    "import numpy as np\n",
    "from sklearn import preprocessing\n",
    "from sklearn.linear_model import LogisticRegression\n",
    "import matplotlib.pyplot as plt\n",
    "from sklearn import linear_model\n",
    "import xgboost as xgb\n",
    "\n",
    "\n",
    "def data_preprocessing(country_data, treatment):\n",
    "    data = country_data.drop(columns=['CNT', 'StIDStd']).copy()\n",
    "    data['siblings'] = ((data['ST11Q03']==1) | (data['ST11Q04']==1)).astype(int)\n",
    "    if treatment == \"Treatment 1\":\n",
    "        treatment = (data[\"ST05Q01\"]>1).astype(int)\n",
    "    else:\n",
    "        data = data[data[\"ST05Q01\"]>1].copy()\n",
    "        treatment = (data[\"ST05Q01\"] == 3).astype(int)\n",
    "    outcome = data['PV1READ']\n",
    "    categorial_properties = ['ST01Q01', 'ST04Q01', 'ST03Q02', 'ST03Q01', 'ST11Q01', \n",
    "                             'ST11Q02', 'siblings', 'ST28Q01', 'ST06Q01',\n",
    "                             'ST25Q01', 'misced', 'fisced', \"OCOD1\", \"OCOD2\", 'STRATUM','IMMIG'\n",
    "                            ]\n",
    "    numerical_properties = [\"ST21Q01\", \"BMMJ1\", \"BFMJ2\", \"ESCS\", \"WEALTH\"]\n",
    "    \n",
    "    numerical_covariates = data[numerical_properties]\n",
    "    categorial_covariates = data[categorial_properties]\n",
    "    \n",
    "    # scaling numerical properties\n",
    "    scaler = preprocessing.StandardScaler()\n",
    "    scaler.fit(numerical_covariates)\n",
    "    x_scaled = scaler.transform(numerical_covariates)\n",
    "    \n",
    "    # encoding categorial covariates\n",
    "    ohe = preprocessing.OneHotEncoder()\n",
    "    ohe.fit(categorial_covariates)\n",
    "    categorial_encoding = ohe.transform(categorial_covariates).toarray()\n",
    "    \n",
    "    #remove dependent categorial columns\n",
    "    variables_in_category = [data[col].nunique() for col in categorial_properties]\n",
    "    columns_to_remove = [variables_in_category[0]-1]\n",
    "    for i in range(1, len(variables_in_category)):\n",
    "        columns_to_remove.append(variables_in_category[i] + columns_to_remove[i-1])\n",
    "    categorial_encoding = np.delete(categorial_encoding, columns_to_remove, 1)\n",
    "    \n",
    "    X = np.concatenate([x_scaled, categorial_encoding], axis=1)\n",
    "\n",
    "    return X, treatment, outcome"
   ]
  },
  {
   "cell_type": "code",
   "execution_count": 6,
   "metadata": {},
   "outputs": [],
   "source": [
    "def estimate_propensity(X, treatment):\n",
    "    # Learn propensity score\n",
    "    lr_learner = LogisticRegression(C=10, solver='lbfgs', max_iter=10000)\n",
    "    lr_learner.fit(X, treatment)\n",
    "    propensity_score = lr_learner.predict_proba(X)[:, 1]   \n",
    "    return propensity_score\n",
    "\n",
    "\n",
    "def trim_common_support(X, treated_propensity_score, control_propensity_score, propensity_scores, treatment, outcome):\n",
    "    \"\"\"\n",
    "    Trim data that does not appear to maintain common support, using min max approach on propensity core\n",
    "    \"\"\"\n",
    "    min_treated = np.min(treated_propensity_score)\n",
    "    max_treated = np.max(treated_propensity_score)\n",
    "    min_control = np.min(control_propensity_score)\n",
    "    max_control = np.max(control_propensity_score)\n",
    "    max_min = np.maximum(min_control, min_treated)\n",
    "    min_max = np.minimum(max_control, max_treated)\n",
    "\n",
    "    indices_smaller_than_max_min = np.argwhere(propensity_scores < max_min)\n",
    "    indices_greater_than_min_max = np.argwhere(propensity_scores > min_max)\n",
    "    rows_to_delete = np.concatenate([indices_greater_than_min_max, indices_smaller_than_max_min])\n",
    "    rows_to_delete = rows_to_delete.reshape((-1,))\n",
    "    exclude_idx = set(rows_to_delete)\n",
    "    mask = np.array([(i in exclude_idx) for i in range(len(X))])\n",
    "\n",
    "    return X[~mask], propensity_scores[~mask], treatment[~mask], outcome[~mask]\n",
    "    \n",
    "    \n",
    "def sample_size_table(original_treatment, trimmed_treatment):\n",
    "    all_population = [len(original_treatment), len(trimmed_treatment)]\n",
    "    treated = [original_treatment.sum(), trimmed_treatment.sum()]\n",
    "    control = [(1-original_treatment).sum(), (1-trimmed_treatment).sum()]\n",
    "    return pd.DataFrame([all_population, treated, control], \n",
    "                        index=['Sample size', 'Treated group size', 'Control group size'], \n",
    "                       columns=['Before trimming', 'After trimming'])"
   ]
  },
  {
   "cell_type": "code",
   "execution_count": 5,
   "metadata": {},
   "outputs": [],
   "source": [
    "data = pd.read_csv(\"PISA2012_data.csv\")"
   ]
  },
  {
   "cell_type": "code",
   "execution_count": 7,
   "metadata": {},
   "outputs": [
    {
     "data": {
      "text/html": [
       "<div>\n",
       "<style scoped>\n",
       "    .dataframe tbody tr th:only-of-type {\n",
       "        vertical-align: middle;\n",
       "    }\n",
       "\n",
       "    .dataframe tbody tr th {\n",
       "        vertical-align: top;\n",
       "    }\n",
       "\n",
       "    .dataframe thead th {\n",
       "        text-align: right;\n",
       "    }\n",
       "</style>\n",
       "<table border=\"1\" class=\"dataframe\">\n",
       "  <thead>\n",
       "    <tr style=\"text-align: right;\">\n",
       "      <th></th>\n",
       "      <th>Before trimming</th>\n",
       "      <th>After trimming</th>\n",
       "    </tr>\n",
       "  </thead>\n",
       "  <tbody>\n",
       "    <tr>\n",
       "      <th>Sample size</th>\n",
       "      <td>8223</td>\n",
       "      <td>8207</td>\n",
       "    </tr>\n",
       "    <tr>\n",
       "      <th>Treated group size</th>\n",
       "      <td>3911</td>\n",
       "      <td>3906</td>\n",
       "    </tr>\n",
       "    <tr>\n",
       "      <th>Control group size</th>\n",
       "      <td>4312</td>\n",
       "      <td>4301</td>\n",
       "    </tr>\n",
       "  </tbody>\n",
       "</table>\n",
       "</div>"
      ],
      "text/plain": [
       "                    Before trimming  After trimming\n",
       "Sample size                    8223            8207\n",
       "Treated group size             3911            3906\n",
       "Control group size             4312            4301"
      ]
     },
     "execution_count": 7,
     "metadata": {},
     "output_type": "execute_result"
    }
   ],
   "source": [
    "country = data[data[\"CNT\"] == \"CAN\"].copy()\n",
    "X, original_treatment, outcome = data_preprocessing(country, \"Treatment 2\")\n",
    "original_propensity = estimate_propensity(X, original_treatment)\n",
    "treated_propensity_score = original_propensity[original_treatment == 1]\n",
    "control_propensity_score = original_propensity[original_treatment == 0]\n",
    "X, propensity, treatment, outcome = trim_common_support(X, treated_propensity_score, \n",
    "                                                        control_propensity_score, original_propensity, \n",
    "                                                        original_treatment, outcome)\n",
    "sample_size_table(original_treatment, treatment)"
   ]
  },
  {
   "cell_type": "code",
   "execution_count": 48,
   "metadata": {},
   "outputs": [],
   "source": [
    "covariates = pd.DataFrame(X)\n",
    "treatment_outcome = pd.DataFrame({\"T\":treatment, \"outcome\":outcome})\n",
    "pd.concat([covariates, treatment_outcome.reset_index(drop=True)], \n",
    "          axis=1).to_csv(\"data_by_country/canada12_treatment_2.csv\", index=False)"
   ]
  }
 ],
 "metadata": {
  "kernelspec": {
   "display_name": "Python 3",
   "language": "python",
   "name": "python3"
  },
  "language_info": {
   "codemirror_mode": {
    "name": "ipython",
    "version": 3
   },
   "file_extension": ".py",
   "mimetype": "text/x-python",
   "name": "python",
   "nbconvert_exporter": "python",
   "pygments_lexer": "ipython3",
   "version": "3.8.5"
  }
 },
 "nbformat": 4,
 "nbformat_minor": 4
}
